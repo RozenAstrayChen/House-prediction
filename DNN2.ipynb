{
 "cells": [
  {
   "cell_type": "code",
   "execution_count": 1,
   "metadata": {},
   "outputs": [],
   "source": [
    "import numpy as np # linear algebra\n",
    "import pandas as pd # data processing, CSV file I/O (e.g. pd.read_csv)\n",
    "import os\n",
    "\n",
    "from sklearn.preprocessing import Imputer\n",
    "from sklearn.ensemble import RandomForestRegressor\n",
    "from sklearn.feature_selection import SelectFromModel, RFE\n",
    "from sklearn.preprocessing import MinMaxScaler, StandardScaler\n",
    "from sklearn.preprocessing import Normalizer\n",
    "from sklearn.pipeline import Pipeline\n",
    "from sklearn.model_selection import GridSearchCV\n",
    "from sklearn.feature_selection import VarianceThreshold\n",
    "import seaborn as sns\n",
    "from sklearn.model_selection import train_test_split\n",
    "\n",
    "import torch\n",
    "import torchvision.transforms as transforms\n",
    "from torch.autograd import Variable\n",
    "from torch import nn\n",
    "from torch.utils.data import Dataset, DataLoader\n",
    "import torch.nn.functional as F\n",
    "from torch import nn, optim\n",
    "import torch.nn.init as init\n",
    "import torch.utils.data as Data\n",
    "import math\n",
    "\n",
    "\n",
    "import matplotlib.pyplot as plt\n",
    "import torch.multiprocessing as mp\n"
   ]
  },
  {
   "cell_type": "code",
   "execution_count": 2,
   "metadata": {},
   "outputs": [],
   "source": [
    "mp.set_start_method('spawn')"
   ]
  },
  {
   "cell_type": "markdown",
   "metadata": {},
   "source": [
    "## hyperparameters"
   ]
  },
  {
   "cell_type": "code",
   "execution_count": 3,
   "metadata": {},
   "outputs": [],
   "source": [
    "batch_size = 256\n",
    "#epochs = 2000\n",
    "use_gpu = True\n",
    "lr = 0.003\n",
    "weight_decay = 10\n",
    "\n",
    "# Batch size and learning rate is hyperparameters in deep learning\n",
    "# suggest batch_size is reduced, lr is also reduced which will reduce concussion"
   ]
  },
  {
   "cell_type": "code",
   "execution_count": 4,
   "metadata": {},
   "outputs": [
    {
     "data": {
      "text/plain": [
       "device(type='cuda', index=0)"
      ]
     },
     "execution_count": 4,
     "metadata": {},
     "output_type": "execute_result"
    }
   ],
   "source": [
    "device = torch.device(\"cuda:0\" if torch.cuda.is_available() else \"cpu\")\n",
    "device"
   ]
  },
  {
   "cell_type": "code",
   "execution_count": 5,
   "metadata": {},
   "outputs": [],
   "source": [
    "X = pd.read_csv('./dataset-0510/train.csv')\n",
    "X_test = pd.read_csv('./dataset-0510/test.csv')"
   ]
  },
  {
   "cell_type": "code",
   "execution_count": 6,
   "metadata": {},
   "outputs": [],
   "source": [
    "y = X['total_price']\n",
    "X = X.drop(columns=['building_id', 'total_price'], axis=1)\n",
    "\n",
    "X_test = X_test.drop(columns=['building_id'], axis=1)"
   ]
  },
  {
   "cell_type": "code",
   "execution_count": 7,
   "metadata": {},
   "outputs": [],
   "source": [
    "X_train, X_eval, y_train, y_eval = train_test_split(X, y, test_size=0.3, random_state=42) "
   ]
  },
  {
   "cell_type": "markdown",
   "metadata": {},
   "source": [
    "### scale y"
   ]
  },
  {
   "cell_type": "code",
   "execution_count": 8,
   "metadata": {},
   "outputs": [],
   "source": [
    "y_scaler = StandardScaler()\n",
    "y_train = y_scaler.fit_transform(y_train.values.reshape(-1, 1))\n",
    "y_eval = y_scaler.fit_transform(y_eval.values.reshape(-1, 1))"
   ]
  },
  {
   "cell_type": "markdown",
   "metadata": {},
   "source": [
    "## Imputer, Scaler, Feature selection"
   ]
  },
  {
   "cell_type": "code",
   "execution_count": 9,
   "metadata": {},
   "outputs": [
    {
     "name": "stderr",
     "output_type": "stream",
     "text": [
      "/home/islab/anaconda3/lib/python3.6/site-packages/sklearn/utils/deprecation.py:58: DeprecationWarning: Class Imputer is deprecated; Imputer was deprecated in version 0.20 and will be removed in 0.22. Import impute.SimpleImputer from sklearn instead.\n",
      "  warnings.warn(msg, category=DeprecationWarning)\n"
     ]
    }
   ],
   "source": [
    "# step1. Imputation transformer for completing missing values.\n",
    "step1 = ('Imputer', Imputer())\n",
    "# step2. MinMaxScaler\n",
    "step2 = ('MinMaxScaler', StandardScaler())\n",
    "# step3. feature selection\n",
    "#step3 = ('FeatureSelection', SelectFromModel(RandomForestRegressor()))\n",
    "step3 = ('FeatureSelection', VarianceThreshold())\n",
    "\n",
    "pipeline = Pipeline(steps=[step1, step2])\n",
    "\n"
   ]
  },
  {
   "cell_type": "code",
   "execution_count": 10,
   "metadata": {},
   "outputs": [
    {
     "name": "stdout",
     "output_type": "stream",
     "text": [
      "(42000, 233)\n",
      "(10000, 233)\n"
     ]
    }
   ],
   "source": [
    "print(X_train.shape)\n",
    "X_train = pipeline.fit_transform(X_train)\n",
    "X_eval = pipeline.fit_transform(X_eval)\n",
    "\n",
    "print(X_test.shape)\n",
    "X_test = pipeline.fit_transform(X_test)\n"
   ]
  },
  {
   "cell_type": "code",
   "execution_count": 11,
   "metadata": {},
   "outputs": [],
   "source": [
    "X_train = torch.from_numpy(X_train).float().to(device)\n",
    "X_eval = torch.from_numpy(X_eval).float().to(device)\n",
    "\n",
    "y_train = torch.from_numpy(y_train).float().to(device)\n",
    "y_eval = torch.from_numpy(y_eval).float().to(device)\n",
    "\n",
    "X_test = torch.from_numpy(X_test).float().to(device)"
   ]
  },
  {
   "cell_type": "code",
   "execution_count": 12,
   "metadata": {},
   "outputs": [
    {
     "name": "stdout",
     "output_type": "stream",
     "text": [
      "torch.Size([42000, 233])\n",
      "torch.Size([10000, 233])\n",
      "torch.Size([42000, 1])\n"
     ]
    }
   ],
   "source": [
    "print(X_train.shape)\n",
    "print(X_test.shape)\n",
    "print(y_train.shape)"
   ]
  },
  {
   "cell_type": "code",
   "execution_count": 13,
   "metadata": {},
   "outputs": [],
   "source": [
    "train_dataset = Data.TensorDataset(X_train, y_train)\n",
    "loader = Data.DataLoader(\n",
    "    dataset=train_dataset,\n",
    "    batch_size=batch_size,\n",
    "    shuffle=True,\n",
    "    num_workers=8,\n",
    "    pin_memory=True,\n",
    ")\n",
    "\n",
    "eval_dataset = Data.TensorDataset(X_eval, y_eval)\n",
    "loader = Data.DataLoader(\n",
    "    dataset=eval_dataset,\n",
    "    batch_size=batch_size,\n",
    "    shuffle=True,\n",
    "    num_workers=8,\n",
    "    pin_memory=True,\n",
    ")"
   ]
  },
  {
   "cell_type": "markdown",
   "metadata": {},
   "source": [
    "## building model"
   ]
  },
  {
   "cell_type": "code",
   "execution_count": 14,
   "metadata": {},
   "outputs": [],
   "source": [
    "class DNN(nn.Module):\n",
    "    def __init__(self):\n",
    "        super().__init__()\n",
    "        \n",
    "        self.fc1 = nn.Linear(233, 256)\n",
    "        self.fc2 = nn.Linear(256, 256)\n",
    "        self.fc3 = nn.Linear(256, 128)\n",
    "        self.fc4 = nn.Linear(128, 64)\n",
    "        self.fc5 = nn.Linear(64, 1)\n",
    "        \n",
    "        self.dropout = nn.Dropout(p=0.3)\n",
    "    def forward(self, x):\n",
    "        '''\n",
    "        # fc1\n",
    "        x = self.dropout(self.fc1(x))\n",
    "        x = F.relu(x)\n",
    "        # fc2\n",
    "        x = self.dropout(self.fc2(x))\n",
    "        x = F.relu(x)\n",
    "        # fc3\n",
    "        x = self.fc3(x)\n",
    "        '''\n",
    "        \n",
    "        x = self.fc1(x)\n",
    "        x = F.relu(x)\n",
    "        x = self.fc2(x)\n",
    "        x = F.relu(x)\n",
    "        x = self.fc3(x)\n",
    "        x = F.relu(x)\n",
    "        x = self.fc4(x)\n",
    "        x = F.relu(x)\n",
    "        x = self.fc5(x)\n",
    "        \n",
    "        return x"
   ]
  },
  {
   "cell_type": "code",
   "execution_count": 15,
   "metadata": {},
   "outputs": [],
   "source": [
    "model = DNN().to(device)\n",
    "criterion = nn.MSELoss()\n",
    "optim = optim.Adam(model.parameters(), lr= lr)"
   ]
  },
  {
   "cell_type": "code",
   "execution_count": 16,
   "metadata": {},
   "outputs": [],
   "source": [
    "'''\n",
    "def train_func(model, loader, epochs=10):\n",
    "    model.train()\n",
    "    for e in range(epochs):\n",
    "        train_loss = []\n",
    "        for step, (batch_x, batch_y) in enumerate(loader):\n",
    "            optim.zero_grad()\n",
    "            pred = model(batch_x)\n",
    "            loss = criterion(batch_y, pred)\n",
    "            loss.backward()\n",
    "            optim.step()\n",
    "\n",
    "            train_loss.append(loss.item())\n",
    "\n",
    "        print('training loss', np.array(train_loss).mean())\n",
    "    return model\n",
    "'''\n",
    "def train_func(model, loader, accumlation_steps=512):\n",
    "    model.train()\n",
    "    optim.zero_grad()\n",
    "    train_loss = []\n",
    "    for step, (batch_x, batch_y) in enumerate(loader):\n",
    "        pred = model(batch_x)\n",
    "        loss = criterion(pred, batch_y)\n",
    "        \n",
    "        train_loss.append(loss.item())\n",
    "        \n",
    "        loss = loss / accumlation_steps\n",
    "        loss.backward()\n",
    "        \n",
    "        if step % accumlation_steps == 0 or step == len(loader)-1:\n",
    "            optim.step()\n",
    "            optim.zero_grad()\n",
    "            \n",
    "\n",
    "        \n",
    "\n",
    "    print('training loss', np.array(train_loss).mean())\n",
    "    return model, np.array(train_loss).mean()\n",
    "\n",
    "def eval_func(model, loader):\n",
    "    model.eval()\n",
    "    with torch.no_grad():\n",
    "        for step, (batch_x, batch_y) in enumerate(loader):\n",
    "            pred = model(batch_x)\n",
    "            loss = criterion(pred, batch_y)\n",
    "        print('testing loss', loss.item())\n",
    "    return loss\n",
    "\n",
    "def test_func(model, X, y_scaler=None):\n",
    "    model.eval()\n",
    "    \n",
    "    with torch.no_grad():\n",
    "        pred = model(X)\n",
    "        pred = pred.cpu().numpy()\n",
    "        \n",
    "        if y_scaler != None:\n",
    "            pred = y_scaler.inverse_transform(pred)\n",
    "    return pred\n",
    "    "
   ]
  },
  {
   "cell_type": "code",
   "execution_count": 19,
   "metadata": {},
   "outputs": [
    {
     "name": "stdout",
     "output_type": "stream",
     "text": [
      "epochs 0\n",
      "training loss 0.22495632272463204\n",
      "testing loss 0.00011599258868955076\n",
      "epochs 1\n",
      "training loss 0.05136397597925582\n",
      "testing loss 1.727925891259474e-08\n",
      "epochs 2\n",
      "training loss 0.07994913499239739\n",
      "testing loss 0.005094476509839296\n",
      "epochs 3\n",
      "training loss 0.06882046398809817\n",
      "testing loss 0.006553532090038061\n",
      "epochs 4\n",
      "training loss 0.0633444880732548\n",
      "testing loss 0.00902097299695015\n",
      "epochs 5\n",
      "training loss 0.035181001114829726\n",
      "testing loss 0.010112972930073738\n",
      "epochs 6\n",
      "training loss 0.023182711079326054\n",
      "testing loss 0.015608596615493298\n",
      "epochs 7\n",
      "training loss 0.022622057712861545\n",
      "testing loss 0.015993062406778336\n",
      "epochs 8\n",
      "training loss 0.01875203496621371\n",
      "testing loss 0.01677040569484234\n",
      "epochs 9\n",
      "training loss 0.019232123388724345\n",
      "testing loss 0.016919275745749474\n",
      "epochs 10\n",
      "training loss 0.01869569478848249\n",
      "testing loss 0.016223739832639694\n",
      "epochs 11\n",
      "training loss 0.018838690954605122\n",
      "testing loss 0.01832445152103901\n",
      "epochs 12\n",
      "training loss 0.018366348414016652\n",
      "testing loss 0.017774732783436775\n",
      "epochs 13\n",
      "training loss 0.018823734191183918\n",
      "testing loss 0.017336023971438408\n",
      "epochs 14\n",
      "training loss 0.018869798437061085\n",
      "testing loss 0.017038119956851006\n",
      "epochs 15\n",
      "training loss 0.019263489480864697\n",
      "testing loss 0.018557928502559662\n",
      "epochs 16\n",
      "training loss 0.019828555493689424\n",
      "testing loss 0.016819123178720474\n",
      "epochs 17\n",
      "training loss 0.02001279483101444\n",
      "testing loss 0.01802404224872589\n",
      "epochs 18\n",
      "training loss 0.02136973380262614\n",
      "testing loss 0.015883779153227806\n",
      "epochs 19\n",
      "training loss 0.02131775800306465\n",
      "testing loss 0.018933728337287903\n",
      "epochs 20\n",
      "training loss 0.025010630117763635\n",
      "testing loss 0.020092085003852844\n",
      "epochs 21\n",
      "training loss 0.023918595806771102\n",
      "testing loss 0.01566399820148945\n",
      "epochs 22\n",
      "training loss 0.02496631974588449\n",
      "testing loss 0.023021206259727478\n",
      "epochs 23\n",
      "training loss 0.02591520196570125\n",
      "testing loss 0.019407549872994423\n",
      "epochs 24\n",
      "training loss 0.024549298276043963\n",
      "testing loss 0.018965275958180428\n",
      "epochs 25\n",
      "training loss 0.03330186635154004\n",
      "testing loss 0.022404616698622704\n",
      "epochs 26\n",
      "training loss 0.03430020090673478\n",
      "testing loss 0.022008828818798065\n",
      "epochs 27\n",
      "training loss 0.041669538069743745\n",
      "testing loss 0.037632375955581665\n",
      "epochs 28\n",
      "training loss 0.0332838846159642\n",
      "testing loss 0.03043481335043907\n",
      "epochs 29\n",
      "training loss 0.0315652801399193\n",
      "testing loss 0.04475080966949463\n",
      "epochs 30\n",
      "training loss 0.04066474849181078\n",
      "testing loss 0.03493392467498779\n",
      "epochs 31\n",
      "training loss 0.037189082629324355\n",
      "testing loss 0.020243635401129723\n",
      "epochs 32\n",
      "training loss 0.03790959811152075\n",
      "testing loss 0.03127446398139\n",
      "epochs 33\n",
      "training loss 0.04596521943794507\n",
      "testing loss 0.03499347344040871\n",
      "epochs 34\n",
      "training loss 0.07598046583883579\n",
      "testing loss 0.05598900094628334\n",
      "epochs 35\n",
      "training loss 0.07869382834024635\n",
      "testing loss 0.017534026876091957\n",
      "epochs 36\n",
      "training loss 0.10579784582067049\n",
      "testing loss 0.01705867424607277\n",
      "epochs 37\n",
      "training loss 0.11080587846608181\n",
      "testing loss 0.0012622629292309284\n",
      "epochs 38\n",
      "training loss 0.07382207349881657\n",
      "testing loss 0.0009302246617153287\n",
      "epochs 39\n",
      "training loss 0.04196628424598663\n",
      "testing loss 9.94921792880632e-05\n",
      "epochs 40\n",
      "training loss 0.04159875332673745\n",
      "testing loss 0.0020365884993225336\n",
      "epochs 41\n",
      "training loss 0.05240651142068036\n",
      "testing loss 0.0011119580594822764\n",
      "epochs 42\n",
      "training loss 0.06890710175051597\n",
      "testing loss 0.004658759105950594\n",
      "epochs 43\n",
      "training loss 0.09582409972089496\n",
      "testing loss 0.0008647735230624676\n",
      "epochs 44\n",
      "training loss 0.08807383846163215\n",
      "testing loss 0.010444838553667068\n",
      "epochs 45\n",
      "training loss 0.07957466314482844\n",
      "testing loss 0.001755416626110673\n",
      "epochs 46\n",
      "training loss 0.07115424216966067\n",
      "testing loss 0.012132779695093632\n",
      "epochs 47\n",
      "training loss 0.06362934212514126\n",
      "testing loss 0.005499721504747868\n",
      "epochs 48\n",
      "training loss 0.04256042586412279\n",
      "testing loss 0.00825272686779499\n",
      "epochs 49\n",
      "training loss 0.036596415237767535\n",
      "testing loss 0.0058070761151611805\n",
      "epochs 50\n",
      "training loss 0.026837603256236024\n",
      "testing loss 0.00893320981413126\n",
      "epochs 51\n",
      "training loss 0.022747758933286812\n",
      "testing loss 0.0072439685463905334\n",
      "epochs 52\n",
      "training loss 0.017438668420746744\n",
      "testing loss 0.008302104659378529\n",
      "epochs 53\n",
      "training loss 0.01546089828038474\n",
      "testing loss 0.007198731880635023\n",
      "epochs 54\n",
      "training loss 0.012782182118399557\n",
      "testing loss 0.008398687466979027\n",
      "epochs 55\n",
      "training loss 0.011482933161319911\n",
      "testing loss 0.007776676677167416\n",
      "epochs 56\n",
      "training loss 0.00999487640075758\n",
      "testing loss 0.008826307952404022\n",
      "epochs 57\n",
      "training loss 0.009453263980223814\n",
      "testing loss 0.008917226456105709\n",
      "epochs 58\n",
      "training loss 0.008666430894777172\n",
      "testing loss 0.008721863850951195\n",
      "epochs 59\n",
      "training loss 0.008464074095493147\n",
      "testing loss 0.01027204655110836\n",
      "epochs 60\n",
      "training loss 0.008159157778665075\n",
      "testing loss 0.009075538255274296\n",
      "epochs 61\n",
      "training loss 0.008268116950482506\n",
      "testing loss 0.011257567442953587\n",
      "epochs 62\n",
      "training loss 0.008764889943890465\n",
      "testing loss 0.009310749359428883\n",
      "epochs 63\n",
      "training loss 0.010314986209735675\n",
      "testing loss 0.013529161922633648\n",
      "epochs 64\n",
      "training loss 0.01457406051522716\n",
      "testing loss 0.006582933943718672\n",
      "epochs 65\n",
      "training loss 0.01793188129554425\n",
      "testing loss 0.014838404953479767\n",
      "epochs 66\n",
      "training loss 0.02195679906397717\n",
      "testing loss 0.0078034959733486176\n",
      "epochs 67\n",
      "training loss 0.02929763506672494\n",
      "testing loss 0.010619784705340862\n",
      "epochs 68\n",
      "training loss 0.02683460825015192\n",
      "testing loss 0.007526776287704706\n",
      "epochs 69\n",
      "training loss 0.022532582138364596\n",
      "testing loss 0.012287897057831287\n",
      "epochs 70\n",
      "training loss 0.011591032157004393\n",
      "testing loss 0.009478216990828514\n",
      "epochs 71\n",
      "training loss 0.009426989685653192\n",
      "testing loss 0.010511825792491436\n",
      "epochs 72\n",
      "training loss 0.008384887611825074\n",
      "testing loss 0.01294074859470129\n",
      "epochs 73\n",
      "training loss 0.007789715394671972\n",
      "testing loss 0.007671559229493141\n",
      "epochs 74\n",
      "training loss 0.008494308115310423\n",
      "testing loss 0.010416793636977673\n",
      "epochs 75\n",
      "training loss 0.00888336086030736\n",
      "testing loss 0.008551008999347687\n",
      "epochs 76\n",
      "training loss 0.014174594701911184\n",
      "testing loss 0.011035572737455368\n",
      "epochs 77\n",
      "training loss 0.027387485272959207\n",
      "testing loss 0.006281849928200245\n",
      "epochs 78\n",
      "training loss 0.06174894241740568\n",
      "testing loss 0.010550192557275295\n",
      "epochs 79\n",
      "training loss 0.03839911054374449\n",
      "testing loss 0.00028600587393157184\n",
      "epochs 80\n",
      "training loss 0.04859882262052488\n",
      "testing loss 0.021231845021247864\n",
      "epochs 81\n",
      "training loss 0.06702477215356163\n",
      "testing loss 0.001070990925654769\n",
      "epochs 82\n",
      "training loss 0.0423574991064586\n",
      "testing loss 0.01958421990275383\n",
      "epochs 83\n",
      "training loss 0.025679924009121096\n",
      "testing loss 0.0007400973117910326\n",
      "epochs 84\n",
      "training loss 0.02768113855525711\n",
      "testing loss 0.001004774239845574\n",
      "epochs 85\n",
      "training loss 0.03404652032871932\n",
      "testing loss 0.0032883938401937485\n",
      "epochs 86\n",
      "training loss 0.024754426860721233\n",
      "testing loss 0.0020647661294788122\n",
      "epochs 87\n",
      "training loss 0.021245992340071376\n",
      "testing loss 0.003694916144013405\n",
      "epochs 88\n",
      "training loss 0.01931072451478535\n",
      "testing loss 0.002681457670405507\n",
      "epochs 89\n",
      "training loss 0.01715707610714168\n",
      "testing loss 0.00389105174690485\n",
      "epochs 90\n",
      "training loss 0.017526618101364744\n",
      "testing loss 0.00362690188921988\n",
      "epochs 91\n",
      "training loss 0.014365427728696898\n",
      "testing loss 0.004172757267951965\n",
      "epochs 92\n",
      "training loss 0.014730341220602221\n",
      "testing loss 0.004796451423317194\n",
      "epochs 93\n",
      "training loss 0.012437674939459487\n",
      "testing loss 0.005043495446443558\n",
      "epochs 94\n",
      "training loss 0.012190429398168154\n",
      "testing loss 0.0054813772439956665\n",
      "epochs 95\n",
      "training loss 0.010894318324452533\n",
      "testing loss 0.0064734118059277534\n",
      "epochs 96\n",
      "training loss 0.010512194775355187\n",
      "testing loss 0.006117898039519787\n",
      "epochs 97\n",
      "training loss 0.009631366445741866\n",
      "testing loss 0.006810824386775494\n",
      "epochs 98\n",
      "training loss 0.009515918028953952\n",
      "testing loss 0.007820378057658672\n",
      "epochs 99\n",
      "training loss 0.008888067887060716\n",
      "testing loss 0.006189074832946062\n"
     ]
    }
   ],
   "source": [
    "train_losses = []\n",
    "eval_losses = []\n",
    "for t in range(100):\n",
    "    print('epochs', t)\n",
    "    model, train_loss = train_func(model, train_dataset)\n",
    "    eval_loss = eval_func(model, eval_dataset)\n",
    "    \n",
    "    train_losses.append(train_loss)\n",
    "    eval_losses.append(eval_loss)"
   ]
  },
  {
   "cell_type": "markdown",
   "metadata": {},
   "source": [
    "## plot data 100"
   ]
  },
  {
   "cell_type": "code",
   "execution_count": 18,
   "metadata": {},
   "outputs": [
    {
     "data": {
      "text/plain": [
       "<matplotlib.legend.Legend at 0x7f6ad23114a8>"
      ]
     },
     "execution_count": 18,
     "metadata": {},
     "output_type": "execute_result"
    },
    {
     "data": {
      "image/png": "[encoded data removed]",
      "text/plain": [
       "<Figure size 432x288 with 1 Axes>"
      ]
     },
     "metadata": {
      "needs_background": "light"
     },
     "output_type": "display_data"
    }
   ],
   "source": [
    "import matplotlib.pyplot as plt\n",
    "plt.plot(train_losses, label='Training loss')\n",
    "plt.plot(eval_losses, label='Validation loss')\n",
    "plt.legend(frameon=False)"
   ]
  },
  {
   "cell_type": "markdown",
   "metadata": {},
   "source": [
    "### plot data 200"
   ]
  },
  {
   "cell_type": "code",
   "execution_count": null,
   "metadata": {},
   "outputs": [],
   "source": [
    "plt.plot(train_losses, label='Training loss')\n",
    "plt.plot(eval_losses, label='Validation loss')\n",
    "plt.legend(frameon=False)"
   ]
  },
  {
   "cell_type": "markdown",
   "metadata": {},
   "source": [
    "## vaildation"
   ]
  },
  {
   "cell_type": "code",
   "execution_count": 19,
   "metadata": {},
   "outputs": [
    {
     "name": "stdout",
     "output_type": "stream",
     "text": [
      "testing loss 4.56169800600037e-06\n"
     ]
    },
    {
     "data": {
      "text/plain": [
       "tensor(4.5617e-06, device='cuda:0')"
      ]
     },
     "execution_count": 19,
     "metadata": {},
     "output_type": "execute_result"
    }
   ],
   "source": [
    "eval_func(model, eval_dataset)"
   ]
  },
  {
   "cell_type": "markdown",
   "metadata": {},
   "source": [
    "### Submission"
   ]
  },
  {
   "cell_type": "code",
   "execution_count": 21,
   "metadata": {},
   "outputs": [
    {
     "data": {
      "text/plain": [
       "array([[20239230.  ],\n",
       "       [ 3404786.5 ],\n",
       "       [ 8314491.5 ],\n",
       "       ...,\n",
       "       [  642949.44],\n",
       "       [ 3795613.5 ],\n",
       "       [ 5018867.5 ]], dtype=float32)"
      ]
     },
     "execution_count": 21,
     "metadata": {},
     "output_type": "execute_result"
    }
   ],
   "source": [
    "pred = test_func(model, X_test, y_scaler)\n",
    "pred"
   ]
  },
  {
   "cell_type": "code",
   "execution_count": 22,
   "metadata": {},
   "outputs": [],
   "source": [
    "\n",
    "submission = pd.read_csv('./dataset-0510/submit_test.csv')\n",
    "submission['total_price'] = pred\n",
    "submission.to_csv('submission/DNN2_result.csv', index=False)"
   ]
  },
  {
   "cell_type": "markdown",
   "metadata": {},
   "source": [
    "### test result"
   ]
  },
  {
   "cell_type": "markdown",
   "metadata": {},
   "source": [
    "Batch size use 128 or 32 , learning rate use 0.003 which find loss will stock in 0.6\n",
    "\n",
    "Result 1 DNN 233->256->128->1, lr=0.001, batch_size=128, predict score : 13\n",
    "change: \n",
    "- replacing Standard to MinMax \n",
    "- adding DropOut 0.3 layer\n",
    "- batch size change to 512"
   ]
  },
  {
   "cell_type": "code",
   "execution_count": null,
   "metadata": {},
   "outputs": [],
   "source": []
  }
 ],
 "metadata": {
  "kernelspec": {
   "display_name": "Python 3",
   "language": "python",
   "name": "python3"
  },
  "language_info": {
   "codemirror_mode": {
    "name": "ipython",
    "version": 3
   },
   "file_extension": ".py",
   "mimetype": "text/x-python",
   "name": "python",
   "nbconvert_exporter": "python",
   "pygments_lexer": "ipython3",
   "version": "3.6.8"
  }
 },
 "nbformat": 4,
 "nbformat_minor": 2
}
