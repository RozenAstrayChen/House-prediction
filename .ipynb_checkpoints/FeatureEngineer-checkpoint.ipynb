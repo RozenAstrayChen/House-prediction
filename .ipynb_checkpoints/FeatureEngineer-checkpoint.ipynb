{
 "cells": [
  {
   "cell_type": "code",
   "execution_count": 1,
   "metadata": {},
   "outputs": [],
   "source": [
    "import numpy as np # linear algebra\n",
    "import pandas as pd # data processing, CSV file I/O (e.g. pd.read_csv)\n",
    "import os\n",
    "\n",
    "from sklearn.preprocessing import Imputer\n",
    "from sklearn.impute import SimpleImputer\n",
    "from sklearn.ensemble import RandomForestRegressor\n",
    "from sklearn.feature_selection import SelectFromModel\n",
    "from sklearn.preprocessing import MinMaxScaler, scale\n",
    "from sklearn.preprocessing import Normalizer\n",
    "from sklearn.pipeline import Pipeline\n",
    "from sklearn.model_selection import RandomizedSearchCV, GridSearchCV\n",
    "from sklearn.model_selection import cross_val_score\n",
    "import xgboost\n",
    "from xgboost import XGBRegressor\n",
    "import sklearn.metrics as metrics\n",
    "from sklearn.metrics import mean_squared_error\n",
    "from sklearn.feature_selection import VarianceThreshold\n",
    "from sklearn.model_selection import train_test_split\n",
    "\n",
    "from warnings import simplefilter\n",
    "simplefilter(action='ignore', category=FutureWarning)"
   ]
  },
  {
   "cell_type": "code",
   "execution_count": 2,
   "metadata": {},
   "outputs": [],
   "source": [
    "X = pd.read_csv('./dataset-0510/train.csv', index_col='building_id')\n",
    "X_test = pd.read_csv('./dataset-0510/test.csv', index_col='building_id')\n",
    "\n",
    "y = X.total_price\n",
    "X.drop(columns=['total_price'], inplace=True)"
   ]
  },
  {
   "cell_type": "code",
   "execution_count": 6,
   "metadata": {},
   "outputs": [
    {
     "data": {
      "text/plain": [
       "building_id\n",
       "e3mMIMR3JJqCaXz1     True\n",
       "LgwzgklNvy4QCtq5     True\n",
       "ucIR2NLLsC3T650L     True\n",
       "jre1pJhcQj91Kdky     True\n",
       "rQpYpY9nRG7X5mmr     True\n",
       "HmW2MkrwafmceWAH     True\n",
       "ITYyim3zx6DQyCoF     True\n",
       "KFrxqaWZaLynrOae     True\n",
       "ZiK0gY7A0BvwZ8OV     True\n",
       "QnytA7FbgaVxIDuP     True\n",
       "jcbuA8q3KPH9SzpS     True\n",
       "KHo10f3pvTcVL7Dc     True\n",
       "PUk1MAN1Q0sfWRh1     True\n",
       "EqWJpHmkXPyfHkB8     True\n",
       "ihrMWGM8Nq99Uvu6     True\n",
       "L4xYv2DjCXWSaNWA     True\n",
       "jRhwzoVMFLFzxAX1     True\n",
       "pMWMdm8EYWyraHnS     True\n",
       "FZMjOFuDmYpDYzH4     True\n",
       "SOAzVOnYT22Xb7qn     True\n",
       "ISuDDnGeZIyKtuA2     True\n",
       "YkI8LVcDts7Na5gN     True\n",
       "CmxhhQnZUAu0DXpM     True\n",
       "CrIEmQgmBE2ahJtJ     True\n",
       "HgJIj8X0t1frAKVd     True\n",
       "ohfH2g5ymt8QilFL     True\n",
       "axEd1kED96HP3y0e     True\n",
       "zGOKJ2gvlPF58MF8     True\n",
       "fiT7b1h7csZC00CJ     True\n",
       "DqZkt5YYXwzIDHgk     True\n",
       "                    ...  \n",
       "XtVZcz3tOs91LNnu     True\n",
       "mISY1Um1KfIU1Uis     True\n",
       "wUYHmqUlJBNKPqOO     True\n",
       "pIeHm5uPrR5RFEVK     True\n",
       "F9uqL6mJFKgKgNn6     True\n",
       "WKRqiM2Zq6xRe8Xc     True\n",
       "pEKcGQMo5iBW8QHt     True\n",
       "Iu3iAXmVRMSSgkgl     True\n",
       "WCELFEuD2QlUDKNU     True\n",
       "T9cWRUb95dAzWIRh     True\n",
       "ShskTRzyym3IzIVi     True\n",
       "BgNqHDLS3emF1etR     True\n",
       "fN0V50s76ricENlj     True\n",
       "F3LLRdYyFaI4874d     True\n",
       "JErZuHbA6oEXrvTh     True\n",
       "yPUgYaLUzr1JRqLE     True\n",
       "ri3C7V5SoO4PBo05     True\n",
       "QZSvDBvS2WqfYPDl     True\n",
       "QWy9TWRaVt83vRgI     True\n",
       "JjHLg8Nh6k4Tbdci     True\n",
       "POWNxN6h8QoQ9MqU     True\n",
       "xhfuBhNakAW9NqHF     True\n",
       "AygaZ73jxpjxLr9k     True\n",
       "zMQdWPXEMFFTVOqh     True\n",
       "fKMQA1GuOnFh0ooF     True\n",
       "Oh5Hwr9LrWApC2mr     True\n",
       "PiOgZqfsDVlTq1zs    False\n",
       "FQmlgGohzzWuKUzu     True\n",
       "zjzfMwXhDswdEaI2     True\n",
       "iN4H6wBMtvJpF0SN     True\n",
       "Name: parking_area, Length: 60000, dtype: bool"
      ]
     },
     "execution_count": 6,
     "metadata": {},
     "output_type": "execute_result"
    }
   ],
   "source": [
    "X['parking_area'].isna().sum()"
   ]
  },
  {
   "cell_type": "code",
   "execution_count": null,
   "metadata": {},
   "outputs": [],
   "source": []
  }
 ],
 "metadata": {
  "kernelspec": {
   "display_name": "Python 3",
   "language": "python",
   "name": "python3"
  },
  "language_info": {
   "codemirror_mode": {
    "name": "ipython",
    "version": 3
   },
   "file_extension": ".py",
   "mimetype": "text/x-python",
   "name": "python",
   "nbconvert_exporter": "python",
   "pygments_lexer": "ipython3",
   "version": "3.6.8"
  }
 },
 "nbformat": 4,
 "nbformat_minor": 2
}
