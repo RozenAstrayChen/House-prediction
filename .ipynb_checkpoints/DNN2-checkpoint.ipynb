{
 "cells": [
  {
   "cell_type": "code",
   "execution_count": 1,
   "metadata": {},
   "outputs": [],
   "source": [
    "import numpy as np # linear algebra\n",
    "import pandas as pd # data processing, CSV file I/O (e.g. pd.read_csv)\n",
    "import os\n",
    "\n",
    "from sklearn.preprocessing import Imputer\n",
    "from sklearn.ensemble import RandomForestRegressor\n",
    "from sklearn.feature_selection import SelectFromModel, RFE\n",
    "from sklearn.preprocessing import MinMaxScaler, StandardScaler\n",
    "from sklearn.preprocessing import Normalizer\n",
    "from sklearn.pipeline import Pipeline\n",
    "from sklearn.model_selection import GridSearchCV\n",
    "from sklearn.feature_selection import VarianceThreshold\n",
    "import seaborn as sns\n",
    "from sklearn.model_selection import train_test_split\n",
    "\n",
    "import torch\n",
    "import torchvision.transforms as transforms\n",
    "from torch.autograd import Variable\n",
    "from torch import nn\n",
    "from torch.utils.data import Dataset, DataLoader\n",
    "import torch.nn.functional as F\n",
    "from torch import nn, optim\n",
    "import torch.nn.init as init\n",
    "import torch.utils.data as Data\n",
    "import math\n",
    "\n",
    "\n",
    "import matplotlib.pyplot as plt\n",
    "import torch.multiprocessing as mp\n"
   ]
  },
  {
   "cell_type": "code",
   "execution_count": 2,
   "metadata": {},
   "outputs": [],
   "source": [
    "mp.set_start_method('spawn')"
   ]
  },
  {
   "cell_type": "markdown",
   "metadata": {},
   "source": [
    "## hyperparameters"
   ]
  },
  {
   "cell_type": "code",
   "execution_count": 3,
   "metadata": {},
   "outputs": [],
   "source": [
    "batch_size = 512\n",
    "#epochs = 2000\n",
    "use_gpu = True\n",
    "lr = 0.001\n",
    "weight_decay = 10\n",
    "\n",
    "# Batch size and learning rate is hyperparameters in deep learning\n",
    "# suggest batch_size is reduced, lr is also reduced which will reduce concussion"
   ]
  },
  {
   "cell_type": "code",
   "execution_count": 4,
   "metadata": {},
   "outputs": [
    {
     "data": {
      "text/plain": [
       "device(type='cuda', index=0)"
      ]
     },
     "execution_count": 4,
     "metadata": {},
     "output_type": "execute_result"
    }
   ],
   "source": [
    "device = torch.device(\"cuda:0\" if torch.cuda.is_available() else \"cpu\")\n",
    "device"
   ]
  },
  {
   "cell_type": "code",
   "execution_count": 5,
   "metadata": {},
   "outputs": [],
   "source": [
    "X = pd.read_csv('./dataset-0510/train.csv')\n",
    "X_test = pd.read_csv('./dataset-0510/test.csv')"
   ]
  },
  {
   "cell_type": "code",
   "execution_count": 6,
   "metadata": {},
   "outputs": [],
   "source": [
    "y = X['total_price']\n",
    "X = X.drop(columns=['building_id', 'total_price'], axis=1)\n",
    "\n",
    "X_test = X_test.drop(columns=['building_id'], axis=1)"
   ]
  },
  {
   "cell_type": "code",
   "execution_count": 7,
   "metadata": {},
   "outputs": [],
   "source": [
    "X_train, X_eval, y_train, y_eval = train_test_split(X, y, test_size=0.3, random_state=42) "
   ]
  },
  {
   "cell_type": "markdown",
   "metadata": {},
   "source": [
    "### scale y"
   ]
  },
  {
   "cell_type": "code",
   "execution_count": 8,
   "metadata": {},
   "outputs": [],
   "source": [
    "y_scaler = StandardScaler()\n",
    "y_train = y_scaler.fit_transform(y_train.values.reshape(-1, 1))\n",
    "y_eval = y_scaler.fit_transform(y_eval.values.reshape(-1, 1))"
   ]
  },
  {
   "cell_type": "markdown",
   "metadata": {},
   "source": [
    "## Imputer, Scaler, Feature selection"
   ]
  },
  {
   "cell_type": "code",
   "execution_count": 9,
   "metadata": {},
   "outputs": [
    {
     "name": "stderr",
     "output_type": "stream",
     "text": [
      "/home/islab/anaconda3/lib/python3.6/site-packages/sklearn/utils/deprecation.py:58: DeprecationWarning: Class Imputer is deprecated; Imputer was deprecated in version 0.20 and will be removed in 0.22. Import impute.SimpleImputer from sklearn instead.\n",
      "  warnings.warn(msg, category=DeprecationWarning)\n"
     ]
    }
   ],
   "source": [
    "# step1. Imputation transformer for completing missing values.\n",
    "step1 = ('Imputer', Imputer())\n",
    "# step2. MinMaxScaler\n",
    "step2 = ('MinMaxScaler', StandardScaler())\n",
    "# step3. feature selection\n",
    "#step3 = ('FeatureSelection', SelectFromModel(RandomForestRegressor()))\n",
    "step3 = ('FeatureSelection', VarianceThreshold())\n",
    "\n",
    "pipeline = Pipeline(steps=[step1, step2])\n",
    "\n"
   ]
  },
  {
   "cell_type": "code",
   "execution_count": 10,
   "metadata": {},
   "outputs": [
    {
     "name": "stdout",
     "output_type": "stream",
     "text": [
      "(42000, 233)\n",
      "(10000, 233)\n"
     ]
    }
   ],
   "source": [
    "print(X_train.shape)\n",
    "X_train = pipeline.fit_transform(X_train)\n",
    "X_eval = pipeline.fit_transform(X_eval)\n",
    "\n",
    "print(X_test.shape)\n",
    "X_test = pipeline.fit_transform(X_test)\n"
   ]
  },
  {
   "cell_type": "code",
   "execution_count": 11,
   "metadata": {},
   "outputs": [],
   "source": [
    "X_train = torch.from_numpy(X_train).float().to(device)\n",
    "X_eval = torch.from_numpy(X_eval).float().to(device)\n",
    "\n",
    "y_train = torch.from_numpy(y_train).float().to(device)\n",
    "y_eval = torch.from_numpy(y_eval).float().to(device)\n",
    "\n",
    "X_test = torch.from_numpy(X_test).float().to(device)"
   ]
  },
  {
   "cell_type": "code",
   "execution_count": 12,
   "metadata": {},
   "outputs": [
    {
     "name": "stdout",
     "output_type": "stream",
     "text": [
      "torch.Size([42000, 233])\n",
      "torch.Size([10000, 233])\n",
      "torch.Size([42000, 1])\n"
     ]
    }
   ],
   "source": [
    "print(X_train.shape)\n",
    "print(X_test.shape)\n",
    "print(y_train.shape)"
   ]
  },
  {
   "cell_type": "code",
   "execution_count": 13,
   "metadata": {},
   "outputs": [],
   "source": [
    "train_dataset = Data.TensorDataset(X_train, y_train)\n",
    "loader = Data.DataLoader(\n",
    "    dataset=train_dataset,\n",
    "    batch_size=batch_size,\n",
    "    shuffle=True,\n",
    "    num_workers=8,\n",
    "    pin_memory=True,\n",
    ")\n",
    "\n",
    "eval_dataset = Data.TensorDataset(X_eval, y_eval)\n",
    "loader = Data.DataLoader(\n",
    "    dataset=eval_dataset,\n",
    "    batch_size=batch_size,\n",
    "    shuffle=True,\n",
    "    num_workers=8,\n",
    "    pin_memory=True,\n",
    ")"
   ]
  },
  {
   "cell_type": "markdown",
   "metadata": {},
   "source": [
    "## building model"
   ]
  },
  {
   "cell_type": "code",
   "execution_count": 14,
   "metadata": {},
   "outputs": [],
   "source": [
    "class DNN(nn.Module):\n",
    "    def __init__(self):\n",
    "        super().__init__()\n",
    "        \n",
    "        self.fc1 = nn.Linear(233, 256)\n",
    "        self.fc2 = nn.Linear(256, 256)\n",
    "        self.fc3 = nn.Linear(256, 128)\n",
    "        self.fc4 = nn.Linear(128, 64)\n",
    "        self.fc5 = nn.Linear(64, 1)\n",
    "        \n",
    "        self.dropout = nn.Dropout(p=0.3)\n",
    "    def forward(self, x):\n",
    "        '''\n",
    "        # fc1\n",
    "        x = self.dropout(self.fc1(x))\n",
    "        x = F.relu(x)\n",
    "        # fc2\n",
    "        x = self.dropout(self.fc2(x))\n",
    "        x = F.relu(x)\n",
    "        # fc3\n",
    "        x = self.fc3(x)\n",
    "        '''\n",
    "        \n",
    "        x = F.relu(self.fc1(x))\n",
    "        x = F.relu(self.fc2(x))\n",
    "        x = F.relu(self.fc3(x))\n",
    "        x = F.relu(self.fc4(x))\n",
    "        x = self.fc5(x)\n",
    "        \n",
    "        return x"
   ]
  },
  {
   "cell_type": "code",
   "execution_count": 15,
   "metadata": {},
   "outputs": [],
   "source": [
    "model = DNN().to(device)\n",
    "criterion = nn.MSELoss()\n",
    "optim = optim.Adam(model.parameters(), lr= lr)"
   ]
  },
  {
   "cell_type": "code",
   "execution_count": 16,
   "metadata": {},
   "outputs": [],
   "source": [
    "'''\n",
    "def train_func(model, loader, epochs=10):\n",
    "    model.train()\n",
    "    for e in range(epochs):\n",
    "        train_loss = []\n",
    "        for step, (batch_x, batch_y) in enumerate(loader):\n",
    "            optim.zero_grad()\n",
    "            pred = model(batch_x)\n",
    "            loss = criterion(batch_y, pred)\n",
    "            loss.backward()\n",
    "            optim.step()\n",
    "\n",
    "            train_loss.append(loss.item())\n",
    "\n",
    "        print('training loss', np.array(train_loss).mean())\n",
    "    return model\n",
    "'''\n",
    "def train_func(model, loader, accumlation_steps=512):\n",
    "    model.train()\n",
    "    optim.zero_grad()\n",
    "    train_loss = []\n",
    "    for step, (batch_x, batch_y) in enumerate(loader):\n",
    "        pred = model(batch_x)\n",
    "        loss = criterion(pred, batch_y)\n",
    "        \n",
    "        train_loss.append(loss.item())\n",
    "        \n",
    "        loss = loss / accumlation_steps\n",
    "        loss.backward()\n",
    "        \n",
    "        if step % accumlation_steps == 0 or step == len(loader)-1:\n",
    "            optim.step()\n",
    "            optim.zero_grad()\n",
    "            \n",
    "\n",
    "        \n",
    "\n",
    "    print('training loss', np.array(train_loss).mean())\n",
    "    return model, np.array(train_loss).mean()\n",
    "\n",
    "def eval_func(model, loader):\n",
    "    model.eval()\n",
    "    with torch.no_grad():\n",
    "        for step, (batch_x, batch_y) in enumerate(loader):\n",
    "            pred = model(batch_x)\n",
    "            loss = criterion(pred, batch_y)\n",
    "        print('testing loss', loss.item())\n",
    "    return loss\n",
    "\n",
    "def test_func(model, X, y_scaler=None):\n",
    "    model.eval()\n",
    "    \n",
    "    with torch.no_grad():\n",
    "        pred = model(X)\n",
    "        pred = pred.cpu().numpy()\n",
    "        \n",
    "        if y_scaler != None:\n",
    "            pred = y_scaler.inverse_transform(pred)\n",
    "    return pred\n",
    "    "
   ]
  },
  {
   "cell_type": "code",
   "execution_count": 17,
   "metadata": {},
   "outputs": [
    {
     "name": "stdout",
     "output_type": "stream",
     "text": [
      "epochs 0\n",
      "training loss 0.7698279699510758\n",
      "testing loss 0.01868021860718727\n",
      "epochs 1\n",
      "training loss 0.6884910366466356\n",
      "testing loss 0.007518833037465811\n",
      "epochs 2\n",
      "training loss 0.6003569964527457\n",
      "testing loss 0.006978231947869062\n",
      "epochs 3\n",
      "training loss 0.5137999311762166\n",
      "testing loss 0.035754673182964325\n",
      "epochs 4\n",
      "training loss 0.3508571008244699\n",
      "testing loss 0.00019288693147245795\n",
      "epochs 5\n",
      "training loss 0.3042194698923113\n",
      "testing loss 0.01173837948590517\n",
      "epochs 6\n",
      "training loss 0.30560825211690124\n",
      "testing loss 0.01259123906493187\n",
      "epochs 7\n",
      "training loss 0.24708083824759827\n",
      "testing loss 0.1663922816514969\n",
      "epochs 8\n",
      "training loss 0.15582394923587162\n",
      "testing loss 0.29259467124938965\n",
      "epochs 9\n",
      "training loss 0.1721114019399397\n",
      "testing loss 0.14111556112766266\n",
      "epochs 10\n",
      "training loss 0.24349504344814418\n",
      "testing loss 0.29374170303344727\n",
      "epochs 11\n",
      "training loss 0.15609322675252268\n",
      "testing loss 0.18755172193050385\n",
      "epochs 12\n",
      "training loss 0.137689195810089\n",
      "testing loss 0.41718921065330505\n",
      "epochs 13\n",
      "training loss 0.1679592185271094\n",
      "testing loss 0.17427976429462433\n",
      "epochs 14\n",
      "training loss 0.15378628165847902\n",
      "testing loss 0.38898998498916626\n",
      "epochs 15\n",
      "training loss 0.13471801797925612\n",
      "testing loss 0.4056127667427063\n",
      "epochs 16\n",
      "training loss 0.14327103182915268\n",
      "testing loss 0.3808608055114746\n",
      "epochs 17\n",
      "training loss 0.1309463691064628\n",
      "testing loss 0.5331485867500305\n",
      "epochs 18\n",
      "training loss 0.1418142057940499\n",
      "testing loss 0.3981233537197113\n",
      "epochs 19\n",
      "training loss 0.12613950052591594\n",
      "testing loss 0.5130400061607361\n",
      "epochs 20\n",
      "training loss 0.15288497297411638\n",
      "testing loss 0.6233417987823486\n",
      "epochs 21\n",
      "training loss 0.13491530324019943\n",
      "testing loss 0.45987778902053833\n",
      "epochs 22\n",
      "training loss 0.1500908382218318\n",
      "testing loss 0.637117862701416\n",
      "epochs 23\n",
      "training loss 0.12189240237959718\n",
      "testing loss 0.5033882260322571\n",
      "epochs 24\n",
      "training loss 0.13549358680832965\n",
      "testing loss 0.4659770429134369\n",
      "epochs 25\n",
      "training loss 0.10097789377648313\n",
      "testing loss 0.14343693852424622\n",
      "epochs 26\n",
      "training loss 0.12355409567755307\n",
      "testing loss 0.6684084534645081\n",
      "epochs 27\n",
      "training loss 0.09571348284882698\n",
      "testing loss 0.06127385050058365\n",
      "epochs 28\n",
      "training loss 0.09580554781010896\n",
      "testing loss 0.40469372272491455\n",
      "epochs 29\n",
      "training loss 0.07924499330266932\n",
      "testing loss 0.07937721163034439\n",
      "epochs 30\n",
      "training loss 0.0856419183710868\n",
      "testing loss 0.31693580746650696\n",
      "epochs 31\n",
      "training loss 0.06911236404845442\n",
      "testing loss 0.04453849419951439\n",
      "epochs 32\n",
      "training loss 0.0702070414898852\n",
      "testing loss 0.17175769805908203\n",
      "epochs 33\n",
      "training loss 0.05612852531615986\n",
      "testing loss 0.03481154143810272\n",
      "epochs 34\n",
      "training loss 0.05917859969155934\n",
      "testing loss 0.1114153116941452\n",
      "epochs 35\n",
      "training loss 0.04769008561076567\n",
      "testing loss 0.017739713191986084\n",
      "epochs 36\n",
      "training loss 0.048350162470263136\n",
      "testing loss 0.04774746671319008\n",
      "epochs 37\n",
      "training loss 0.04055040995428083\n",
      "testing loss 0.007962089963257313\n",
      "epochs 38\n",
      "training loss 0.04001528214275568\n",
      "testing loss 0.01741201989352703\n",
      "epochs 39\n",
      "training loss 0.0342101349162631\n",
      "testing loss 0.0030528635252267122\n",
      "epochs 40\n",
      "training loss 0.03514707016182432\n",
      "testing loss 0.006062447093427181\n",
      "epochs 41\n",
      "training loss 0.027944658644545182\n",
      "testing loss 0.0006329405005089939\n",
      "epochs 42\n",
      "training loss 0.030661095241722364\n",
      "testing loss 0.0030572484247386456\n",
      "epochs 43\n",
      "training loss 0.028192269670241465\n",
      "testing loss 0.00016132403106894344\n",
      "epochs 44\n",
      "training loss 0.03246800358801833\n",
      "testing loss 0.0010060310596600175\n",
      "epochs 45\n",
      "training loss 0.028162926310419646\n",
      "testing loss 0.00044050280121155083\n",
      "epochs 46\n",
      "training loss 0.03612124317974326\n",
      "testing loss 4.609786174114561e-06\n",
      "epochs 47\n",
      "training loss 0.029931254130079445\n",
      "testing loss 0.0002870566677302122\n",
      "epochs 48\n",
      "training loss 0.0394324805354835\n",
      "testing loss 0.002686395775526762\n",
      "epochs 49\n",
      "training loss 0.03912276223170866\n",
      "testing loss 0.0003383104922249913\n",
      "epochs 50\n",
      "training loss 0.05318841096717362\n",
      "testing loss 0.005723980721086264\n",
      "epochs 51\n",
      "training loss 0.25527759662797084\n",
      "testing loss 0.004261687397956848\n",
      "epochs 52\n",
      "training loss 0.281539493062116\n",
      "testing loss 0.00045975824468769133\n",
      "epochs 53\n",
      "training loss 0.14214718643096513\n",
      "testing loss 0.008826391771435738\n",
      "epochs 54\n",
      "training loss 0.0543319917493859\n",
      "testing loss 0.015299194492399693\n",
      "epochs 55\n",
      "training loss 0.043805136034027845\n",
      "testing loss 0.0029909044969826937\n",
      "epochs 56\n",
      "training loss 0.044990417488300884\n",
      "testing loss 0.0014962480636313558\n",
      "epochs 57\n",
      "training loss 0.041160727844474436\n",
      "testing loss 0.0017304294742643833\n",
      "epochs 58\n",
      "training loss 0.03982717728098795\n",
      "testing loss 0.0001808497036108747\n",
      "epochs 59\n",
      "training loss 0.03115757962496151\n",
      "testing loss 9.138655514107086e-06\n",
      "epochs 60\n",
      "training loss 0.03600616959542683\n",
      "testing loss 0.000658532022498548\n",
      "epochs 61\n",
      "training loss 0.03465834379802243\n",
      "testing loss 5.732547379011521e-06\n",
      "epochs 62\n",
      "training loss 0.03840352112570941\n",
      "testing loss 0.00015372068446595222\n",
      "epochs 63\n",
      "training loss 0.033380380399218104\n",
      "testing loss 0.0008647393551655114\n",
      "epochs 64\n",
      "training loss 0.03622739018962321\n",
      "testing loss 0.0001580761163495481\n",
      "epochs 65\n",
      "training loss 0.028861715632677004\n",
      "testing loss 0.002236527856439352\n",
      "epochs 66\n",
      "training loss 0.0312992279511124\n",
      "testing loss 0.0008970217313617468\n",
      "epochs 67\n",
      "training loss 0.023467739687655965\n",
      "testing loss 0.0023326941300183535\n",
      "epochs 68\n",
      "training loss 0.02351696557581025\n",
      "testing loss 0.0025315340608358383\n",
      "epochs 69\n",
      "training loss 0.018094590961606167\n",
      "testing loss 0.0014421141240745783\n",
      "epochs 70\n",
      "training loss 0.018219705505870664\n",
      "testing loss 0.004407483618706465\n",
      "epochs 71\n",
      "training loss 0.015546046518485398\n",
      "testing loss 0.0031129764392971992\n",
      "epochs 72\n",
      "training loss 0.014506414364364421\n",
      "testing loss 0.005690766964107752\n",
      "epochs 73\n",
      "training loss 0.014074671950686641\n",
      "testing loss 0.0048960112035274506\n",
      "epochs 74\n",
      "training loss 0.013611647130194878\n",
      "testing loss 0.005426534451544285\n",
      "epochs 75\n",
      "training loss 0.015930053941705963\n",
      "testing loss 0.006617785897105932\n",
      "epochs 76\n",
      "training loss 0.018510523759567327\n",
      "testing loss 0.004023856017738581\n",
      "epochs 77\n",
      "training loss 0.023288965068494615\n",
      "testing loss 0.007995019666850567\n",
      "epochs 78\n",
      "training loss 0.04011090744640726\n",
      "testing loss 0.0018525338964536786\n",
      "epochs 79\n",
      "training loss 0.04741825198885784\n",
      "testing loss 0.0059714531525969505\n",
      "epochs 80\n",
      "training loss 0.07455486209953559\n",
      "testing loss 0.0010789691004902124\n",
      "epochs 81\n",
      "training loss 0.09070565992667781\n",
      "testing loss 0.0020254957489669323\n",
      "epochs 82\n",
      "training loss 0.262231394686626\n",
      "testing loss 0.03356565907597542\n",
      "epochs 83\n",
      "training loss 0.23872332679995006\n",
      "testing loss 0.00013784717884846032\n",
      "epochs 84\n",
      "training loss 0.10725634869517171\n",
      "testing loss 0.0033356763888150454\n",
      "epochs 85\n",
      "training loss 0.08719737577165021\n",
      "testing loss 0.0018217632314190269\n",
      "epochs 86\n",
      "training loss 0.06964916540047977\n",
      "testing loss 0.0018941067392006516\n",
      "epochs 87\n",
      "training loss 0.06337138625273264\n",
      "testing loss 1.9237717424402945e-05\n",
      "epochs 88\n",
      "training loss 0.06707490214844611\n",
      "testing loss 4.1827577661024407e-05\n",
      "epochs 89\n",
      "training loss 0.05846078637186522\n",
      "testing loss 1.2365255770419026e-06\n",
      "epochs 90\n",
      "training loss 0.04982208076688163\n",
      "testing loss 4.497888767218683e-06\n",
      "epochs 91\n",
      "training loss 0.04302336523337411\n",
      "testing loss 0.00021833741629961878\n",
      "epochs 92\n",
      "training loss 0.03684656170846191\n",
      "testing loss 0.0002030320029007271\n",
      "epochs 93\n",
      "training loss 0.031606283021924864\n",
      "testing loss 0.0006314620259217918\n",
      "epochs 94\n",
      "training loss 0.02762406722467508\n",
      "testing loss 0.0004890468553639948\n",
      "epochs 95\n",
      "training loss 0.023804828970043265\n",
      "testing loss 0.0006531901308335364\n",
      "epochs 96\n",
      "training loss 0.02117559602573947\n",
      "testing loss 0.0008721210178919137\n",
      "epochs 97\n",
      "training loss 0.018014471865158862\n",
      "testing loss 0.0010678994003683329\n",
      "epochs 98\n",
      "training loss 0.015808975749940092\n",
      "testing loss 0.0016934999730437994\n",
      "epochs 99\n",
      "training loss 0.013524642533933104\n",
      "testing loss 0.0016578048234805465\n",
      "epochs 100\n",
      "training loss 0.011599417269146591\n",
      "testing loss 0.001729734125547111\n",
      "epochs 101\n",
      "training loss 0.01041804465729718\n",
      "testing loss 0.002452350687235594\n",
      "epochs 102\n",
      "training loss 0.009875135174582342\n",
      "testing loss 0.0025342856533825397\n",
      "epochs 103\n",
      "training loss 0.010792093628565399\n",
      "testing loss 0.0032126798760145903\n",
      "epochs 104\n",
      "training loss 0.013203229823226274\n",
      "testing loss 0.004083438776433468\n",
      "epochs 105\n"
     ]
    },
    {
     "name": "stdout",
     "output_type": "stream",
     "text": [
      "training loss 0.014870961306629927\n",
      "testing loss 0.0036541568115353584\n",
      "epochs 106\n",
      "training loss 0.013620663651134715\n",
      "testing loss 0.005953841842710972\n",
      "epochs 107\n",
      "training loss 0.013511319903512523\n",
      "testing loss 0.0028853281401097775\n",
      "epochs 108\n",
      "training loss 0.020613024374546346\n",
      "testing loss 0.005518397316336632\n",
      "epochs 109\n",
      "training loss 0.02224284021651668\n",
      "testing loss 0.0017609111964702606\n",
      "epochs 110\n",
      "training loss 0.045107087342450315\n",
      "testing loss 0.005903028417378664\n",
      "epochs 111\n",
      "training loss 0.045099903977175504\n",
      "testing loss 0.0002476542431395501\n",
      "epochs 112\n",
      "training loss 0.04660995894744102\n",
      "testing loss 0.004177351947873831\n",
      "epochs 113\n",
      "training loss 0.04129568455038421\n",
      "testing loss 0.0013873518910259008\n",
      "epochs 114\n",
      "training loss 0.030804728769736126\n",
      "testing loss 0.0031745382584631443\n",
      "epochs 115\n",
      "training loss 0.032102230221759946\n",
      "testing loss 0.00046399314305745065\n",
      "epochs 116\n",
      "training loss 0.02479200740700732\n",
      "testing loss 0.0007119146175682545\n",
      "epochs 117\n"
     ]
    },
    {
     "ename": "KeyboardInterrupt",
     "evalue": "",
     "output_type": "error",
     "traceback": [
      "\u001b[0;31m---------------------------------------------------------------------------\u001b[0m",
      "\u001b[0;31mKeyboardInterrupt\u001b[0m                         Traceback (most recent call last)",
      "\u001b[0;32m<ipython-input-17-775319b95b65>\u001b[0m in \u001b[0;36m<module>\u001b[0;34m\u001b[0m\n\u001b[1;32m      3\u001b[0m \u001b[0;32mfor\u001b[0m \u001b[0mt\u001b[0m \u001b[0;32min\u001b[0m \u001b[0mrange\u001b[0m\u001b[0;34m(\u001b[0m\u001b[0;36m1000\u001b[0m\u001b[0;34m)\u001b[0m\u001b[0;34m:\u001b[0m\u001b[0;34m\u001b[0m\u001b[0;34m\u001b[0m\u001b[0m\n\u001b[1;32m      4\u001b[0m     \u001b[0mprint\u001b[0m\u001b[0;34m(\u001b[0m\u001b[0;34m'epochs'\u001b[0m\u001b[0;34m,\u001b[0m \u001b[0mt\u001b[0m\u001b[0;34m)\u001b[0m\u001b[0;34m\u001b[0m\u001b[0;34m\u001b[0m\u001b[0m\n\u001b[0;32m----> 5\u001b[0;31m     \u001b[0mmodel\u001b[0m\u001b[0;34m,\u001b[0m \u001b[0mtrain_loss\u001b[0m \u001b[0;34m=\u001b[0m \u001b[0mtrain_func\u001b[0m\u001b[0;34m(\u001b[0m\u001b[0mmodel\u001b[0m\u001b[0;34m,\u001b[0m \u001b[0mtrain_dataset\u001b[0m\u001b[0;34m)\u001b[0m\u001b[0;34m\u001b[0m\u001b[0;34m\u001b[0m\u001b[0m\n\u001b[0m\u001b[1;32m      6\u001b[0m     \u001b[0meval_loss\u001b[0m \u001b[0;34m=\u001b[0m \u001b[0meval_func\u001b[0m\u001b[0;34m(\u001b[0m\u001b[0mmodel\u001b[0m\u001b[0;34m,\u001b[0m \u001b[0meval_dataset\u001b[0m\u001b[0;34m)\u001b[0m\u001b[0;34m\u001b[0m\u001b[0;34m\u001b[0m\u001b[0m\n\u001b[1;32m      7\u001b[0m \u001b[0;34m\u001b[0m\u001b[0m\n",
      "\u001b[0;32m<ipython-input-16-5fe43e85748d>\u001b[0m in \u001b[0;36mtrain_func\u001b[0;34m(model, loader, accumlation_steps)\u001b[0m\n\u001b[1;32m     27\u001b[0m \u001b[0;34m\u001b[0m\u001b[0m\n\u001b[1;32m     28\u001b[0m         \u001b[0mloss\u001b[0m \u001b[0;34m=\u001b[0m \u001b[0mloss\u001b[0m \u001b[0;34m/\u001b[0m \u001b[0maccumlation_steps\u001b[0m\u001b[0;34m\u001b[0m\u001b[0;34m\u001b[0m\u001b[0m\n\u001b[0;32m---> 29\u001b[0;31m         \u001b[0mloss\u001b[0m\u001b[0;34m.\u001b[0m\u001b[0mbackward\u001b[0m\u001b[0;34m(\u001b[0m\u001b[0;34m)\u001b[0m\u001b[0;34m\u001b[0m\u001b[0;34m\u001b[0m\u001b[0m\n\u001b[0m\u001b[1;32m     30\u001b[0m \u001b[0;34m\u001b[0m\u001b[0m\n\u001b[1;32m     31\u001b[0m         \u001b[0;32mif\u001b[0m \u001b[0mstep\u001b[0m \u001b[0;34m%\u001b[0m \u001b[0maccumlation_steps\u001b[0m \u001b[0;34m==\u001b[0m \u001b[0;36m0\u001b[0m \u001b[0;32mor\u001b[0m \u001b[0mstep\u001b[0m \u001b[0;34m==\u001b[0m \u001b[0mlen\u001b[0m\u001b[0;34m(\u001b[0m\u001b[0mloader\u001b[0m\u001b[0;34m)\u001b[0m\u001b[0;34m-\u001b[0m\u001b[0;36m1\u001b[0m\u001b[0;34m:\u001b[0m\u001b[0;34m\u001b[0m\u001b[0;34m\u001b[0m\u001b[0m\n",
      "\u001b[0;32m~/anaconda3/lib/python3.6/site-packages/torch/tensor.py\u001b[0m in \u001b[0;36mbackward\u001b[0;34m(self, gradient, retain_graph, create_graph)\u001b[0m\n\u001b[1;32m    100\u001b[0m                 \u001b[0mproducts\u001b[0m\u001b[0;34m.\u001b[0m \u001b[0mDefaults\u001b[0m \u001b[0mto\u001b[0m\u001b[0;31m \u001b[0m\u001b[0;31m`\u001b[0m\u001b[0;31m`\u001b[0m\u001b[0;32mFalse\u001b[0m\u001b[0;31m`\u001b[0m\u001b[0;31m`\u001b[0m\u001b[0;34m.\u001b[0m\u001b[0;34m\u001b[0m\u001b[0;34m\u001b[0m\u001b[0m\n\u001b[1;32m    101\u001b[0m         \"\"\"\n\u001b[0;32m--> 102\u001b[0;31m         \u001b[0mtorch\u001b[0m\u001b[0;34m.\u001b[0m\u001b[0mautograd\u001b[0m\u001b[0;34m.\u001b[0m\u001b[0mbackward\u001b[0m\u001b[0;34m(\u001b[0m\u001b[0mself\u001b[0m\u001b[0;34m,\u001b[0m \u001b[0mgradient\u001b[0m\u001b[0;34m,\u001b[0m \u001b[0mretain_graph\u001b[0m\u001b[0;34m,\u001b[0m \u001b[0mcreate_graph\u001b[0m\u001b[0;34m)\u001b[0m\u001b[0;34m\u001b[0m\u001b[0;34m\u001b[0m\u001b[0m\n\u001b[0m\u001b[1;32m    103\u001b[0m \u001b[0;34m\u001b[0m\u001b[0m\n\u001b[1;32m    104\u001b[0m     \u001b[0;32mdef\u001b[0m \u001b[0mregister_hook\u001b[0m\u001b[0;34m(\u001b[0m\u001b[0mself\u001b[0m\u001b[0;34m,\u001b[0m \u001b[0mhook\u001b[0m\u001b[0;34m)\u001b[0m\u001b[0;34m:\u001b[0m\u001b[0;34m\u001b[0m\u001b[0;34m\u001b[0m\u001b[0m\n",
      "\u001b[0;32m~/anaconda3/lib/python3.6/site-packages/torch/autograd/__init__.py\u001b[0m in \u001b[0;36mbackward\u001b[0;34m(tensors, grad_tensors, retain_graph, create_graph, grad_variables)\u001b[0m\n\u001b[1;32m     88\u001b[0m     Variable._execution_engine.run_backward(\n\u001b[1;32m     89\u001b[0m         \u001b[0mtensors\u001b[0m\u001b[0;34m,\u001b[0m \u001b[0mgrad_tensors\u001b[0m\u001b[0;34m,\u001b[0m \u001b[0mretain_graph\u001b[0m\u001b[0;34m,\u001b[0m \u001b[0mcreate_graph\u001b[0m\u001b[0;34m,\u001b[0m\u001b[0;34m\u001b[0m\u001b[0;34m\u001b[0m\u001b[0m\n\u001b[0;32m---> 90\u001b[0;31m         allow_unreachable=True)  # allow_unreachable flag\n\u001b[0m\u001b[1;32m     91\u001b[0m \u001b[0;34m\u001b[0m\u001b[0m\n\u001b[1;32m     92\u001b[0m \u001b[0;34m\u001b[0m\u001b[0m\n",
      "\u001b[0;31mKeyboardInterrupt\u001b[0m: "
     ]
    }
   ],
   "source": [
    "train_losses = []\n",
    "eval_losses = []\n",
    "for t in range(1000):\n",
    "    print('epochs', t)\n",
    "    model, train_loss = train_func(model, train_dataset)\n",
    "    eval_loss = eval_func(model, eval_dataset)\n",
    "    \n",
    "    train_losses.append(train_loss)\n",
    "    eval_losses.append(eval_loss)"
   ]
  },
  {
   "cell_type": "markdown",
   "metadata": {},
   "source": [
    "## plot data"
   ]
  },
  {
   "cell_type": "code",
   "execution_count": 18,
   "metadata": {},
   "outputs": [
    {
     "data": {
      "text/plain": [
       "<matplotlib.legend.Legend at 0x7f0fcff6bcf8>"
      ]
     },
     "execution_count": 18,
     "metadata": {},
     "output_type": "execute_result"
    },
    {
     "data": {
      "image/png": "[encoded data removed]",
      "text/plain": [
       "<Figure size 432x288 with 1 Axes>"
      ]
     },
     "metadata": {
      "needs_background": "light"
     },
     "output_type": "display_data"
    }
   ],
   "source": [
    "import matplotlib.pyplot as plt\n",
    "plt.plot(train_losses, label='Training loss')\n",
    "plt.plot(eval_losses, label='Validation loss')\n",
    "plt.legend(frameon=False)"
   ]
  },
  {
   "cell_type": "markdown",
   "metadata": {},
   "source": [
    "## vaildation"
   ]
  },
  {
   "cell_type": "code",
   "execution_count": 19,
   "metadata": {},
   "outputs": [
    {
     "name": "stdout",
     "output_type": "stream",
     "text": [
      "testing loss 4.56169800600037e-06\n"
     ]
    },
    {
     "data": {
      "text/plain": [
       "tensor(4.5617e-06, device='cuda:0')"
      ]
     },
     "execution_count": 19,
     "metadata": {},
     "output_type": "execute_result"
    }
   ],
   "source": [
    "eval_func(model, eval_dataset)"
   ]
  },
  {
   "cell_type": "markdown",
   "metadata": {},
   "source": [
    "### Submission"
   ]
  },
  {
   "cell_type": "code",
   "execution_count": 20,
   "metadata": {},
   "outputs": [],
   "source": [
    "pred = test_func(model, X_test, y_scaler)\n",
    "pred"
   ]
  },
  {
   "cell_type": "code",
   "execution_count": null,
   "metadata": {},
   "outputs": [],
   "source": [
    "\n",
    "submission = pd.read_csv('./dataset-0510/submit_test.csv')\n",
    "submission['total_price'] = pred\n",
    "submission.to_csv('submission/DNN2_result.csv', index=False)"
   ]
  },
  {
   "cell_type": "markdown",
   "metadata": {},
   "source": [
    "### test result"
   ]
  },
  {
   "cell_type": "markdown",
   "metadata": {},
   "source": [
    "Batch size use 128 or 32 , learning rate use 0.003 which find loss will stock in 0.6\n",
    "\n",
    "Result 1 DNN 233->256->128->1, lr=0.001, batch_size=128, predict score : 13\n",
    "change: \n",
    "- replacing Standard to MinMax \n",
    "- adding DropOut 0.3 layer\n",
    "- batch size change to 512"
   ]
  },
  {
   "cell_type": "code",
   "execution_count": null,
   "metadata": {},
   "outputs": [],
   "source": []
  }
 ],
 "metadata": {
  "kernelspec": {
   "display_name": "Python 3",
   "language": "python",
   "name": "python3"
  },
  "language_info": {
   "codemirror_mode": {
    "name": "ipython",
    "version": 3
   },
   "file_extension": ".py",
   "mimetype": "text/x-python",
   "name": "python",
   "nbconvert_exporter": "python",
   "pygments_lexer": "ipython3",
   "version": "3.6.8"
  }
 },
 "nbformat": 4,
 "nbformat_minor": 2
}
