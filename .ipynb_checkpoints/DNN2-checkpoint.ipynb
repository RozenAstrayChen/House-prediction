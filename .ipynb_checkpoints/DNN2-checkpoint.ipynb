{
 "cells": [
  {
   "cell_type": "code",
   "execution_count": 1,
   "metadata": {},
   "outputs": [],
   "source": [
    "import numpy as np # linear algebra\n",
    "import pandas as pd # data processing, CSV file I/O (e.g. pd.read_csv)\n",
    "import os\n",
    "\n",
    "from sklearn.preprocessing import Imputer\n",
    "from sklearn.ensemble import RandomForestRegressor\n",
    "from sklearn.feature_selection import SelectFromModel, RFE\n",
    "from sklearn.preprocessing import MinMaxScaler, StandardScaler,scale\n",
    "from sklearn.preprocessing import Normalizer\n",
    "from sklearn.pipeline import Pipeline\n",
    "from sklearn.model_selection import GridSearchCV\n",
    "from sklearn.feature_selection import VarianceThreshold\n",
    "import seaborn as sns\n",
    "from sklearn.model_selection import train_test_split\n",
    "\n",
    "import torch\n",
    "import torchvision.transforms as transforms\n",
    "from torch.autograd import Variable\n",
    "from torch import nn\n",
    "from torch.utils.data import Dataset, DataLoader\n",
    "import torch.nn.functional as F\n",
    "from torch import nn, optim\n",
    "import torch.nn.init as init\n",
    "import torch.utils.data as Data\n",
    "import math\n",
    "\n",
    "\n",
    "import matplotlib.pyplot as plt\n",
    "import torch.multiprocessing as mp\n"
   ]
  },
  {
   "cell_type": "code",
   "execution_count": 2,
   "metadata": {},
   "outputs": [],
   "source": [
    "mp.set_start_method('spawn')"
   ]
  },
  {
   "cell_type": "markdown",
   "metadata": {},
   "source": [
    "## hyperparameters"
   ]
  },
  {
   "cell_type": "code",
   "execution_count": 3,
   "metadata": {},
   "outputs": [],
   "source": [
    "batch_size = 256\n",
    "use_gpu = True\n",
    "y_scale = True\n",
    "lr = 0.001\n",
    "weight_decay = 0.01\n",
    "\n",
    "# Batch size and learning rate is hyperparameters in deep learning\n",
    "# suggest batch_size is reduced, lr is also reduced which will reduce concussion"
   ]
  },
  {
   "cell_type": "code",
   "execution_count": 4,
   "metadata": {},
   "outputs": [
    {
     "data": {
      "text/plain": [
       "device(type='cuda', index=0)"
      ]
     },
     "execution_count": 4,
     "metadata": {},
     "output_type": "execute_result"
    }
   ],
   "source": [
    "device = torch.device(\"cuda:0\" if torch.cuda.is_available() else \"cpu\")\n",
    "device"
   ]
  },
  {
   "cell_type": "code",
   "execution_count": 5,
   "metadata": {},
   "outputs": [],
   "source": [
    "X = pd.read_csv('./dataset-0510/train.csv')\n",
    "X_test = pd.read_csv('./dataset-0510/test.csv')\n",
    "\n",
    "\n",
    "columns = X.columns\n"
   ]
  },
  {
   "cell_type": "code",
   "execution_count": 6,
   "metadata": {},
   "outputs": [
    {
     "data": {
      "text/plain": [
       "Index(['building_id', 'building_material', 'city', 'txn_dt', 'total_floor',\n",
       "       'building_type', 'building_use', 'building_complete_dt', 'parking_way',\n",
       "       'parking_area',\n",
       "       ...\n",
       "       'XIV_500', 'XIV_index_500', 'XIV_1000', 'XIV_index_1000', 'XIV_5000',\n",
       "       'XIV_index_5000', 'XIV_10000', 'XIV_index_10000', 'XIV_MIN',\n",
       "       'total_price'],\n",
       "      dtype='object', length=235)"
      ]
     },
     "execution_count": 6,
     "metadata": {},
     "output_type": "execute_result"
    }
   ],
   "source": [
    "columns"
   ]
  },
  {
   "cell_type": "markdown",
   "metadata": {},
   "source": [
    "## Imputer, Scaler, Feature selection"
   ]
  },
  {
   "cell_type": "code",
   "execution_count": 7,
   "metadata": {},
   "outputs": [
    {
     "name": "stderr",
     "output_type": "stream",
     "text": [
      "/home/islab/anaconda3/lib/python3.6/site-packages/sklearn/utils/deprecation.py:58: DeprecationWarning: Class Imputer is deprecated; Imputer was deprecated in version 0.20 and will be removed in 0.22. Import impute.SimpleImputer from sklearn instead.\n",
      "  warnings.warn(msg, category=DeprecationWarning)\n"
     ]
    }
   ],
   "source": [
    "# step1. Imputation transformer for completing missing values.\n",
    "step1 = ('Imputer', Imputer())\n",
    "# step2. MinMaxScaler\n",
    "step2 = ('MinMaxScaler', MinMaxScaler())\n",
    "# step3. feature selection\n",
    "#step3 = ('FeatureSelection', SelectFromModel(RandomForestRegressor()))\n",
    "step3 = ('FeatureSelection', VarianceThreshold())\n",
    "\n",
    "pipeline = Pipeline(steps=[step1, step2])\n"
   ]
  },
  {
   "cell_type": "code",
   "execution_count": 8,
   "metadata": {},
   "outputs": [],
   "source": [
    "y = X['total_price']\n",
    "X = X.drop(columns=['building_id', 'total_price'], axis=1)\n",
    "X_test = X_test.drop(columns=['building_id'], axis=1)\n"
   ]
  },
  {
   "cell_type": "markdown",
   "metadata": {},
   "source": [
    "### X sacle"
   ]
  },
  {
   "cell_type": "code",
   "execution_count": 9,
   "metadata": {},
   "outputs": [
    {
     "name": "stdout",
     "output_type": "stream",
     "text": [
      "(60000, 233)\n",
      "(10000, 233)\n"
     ]
    }
   ],
   "source": [
    "X = pipeline.fit_transform(X)\n",
    "print(X.shape)\n",
    "\n",
    "X_test = pipeline.fit_transform(X_test)\n",
    "print(X_test.shape)"
   ]
  },
  {
   "cell_type": "code",
   "execution_count": 10,
   "metadata": {},
   "outputs": [],
   "source": [
    "#X = pd.DataFrame(X, columns=columns)"
   ]
  },
  {
   "cell_type": "markdown",
   "metadata": {},
   "source": [
    "### y scale "
   ]
  },
  {
   "cell_type": "code",
   "execution_count": 11,
   "metadata": {},
   "outputs": [],
   "source": [
    "y_scaler = MinMaxScaler()\n",
    "if y_scale:\n",
    "    y = y_scaler.fit_transform(y.values.reshape(-1, 1))\n",
    "\n"
   ]
  },
  {
   "cell_type": "code",
   "execution_count": 13,
   "metadata": {},
   "outputs": [],
   "source": [
    "X_train, X_eval, y_train, y_eval = train_test_split(X, y, test_size=0.3, random_state=42) "
   ]
  },
  {
   "cell_type": "code",
   "execution_count": 14,
   "metadata": {},
   "outputs": [],
   "source": [
    "X_train = torch.from_numpy(X_train).float().to(device)\n",
    "X_eval = torch.from_numpy(X_eval).float().to(device)\n",
    "\n",
    "y_train = torch.from_numpy(y_train).float().to(device)\n",
    "y_eval = torch.from_numpy(y_eval).float().to(device)\n",
    "\n",
    "X_test = torch.from_numpy(X_test).float().to(device)"
   ]
  },
  {
   "cell_type": "code",
   "execution_count": 15,
   "metadata": {},
   "outputs": [
    {
     "name": "stdout",
     "output_type": "stream",
     "text": [
      "torch.Size([42000, 233])\n",
      "torch.Size([10000, 233])\n",
      "torch.Size([42000, 1])\n"
     ]
    }
   ],
   "source": [
    "print(X_train.shape)\n",
    "print(X_test.shape)\n",
    "print(y_train.shape)"
   ]
  },
  {
   "cell_type": "code",
   "execution_count": 16,
   "metadata": {},
   "outputs": [],
   "source": [
    "train_dataset = Data.TensorDataset(X_train, y_train)\n",
    "train_loader = Data.DataLoader(\n",
    "    dataset=train_dataset,\n",
    "    batch_size=batch_size,\n",
    "    shuffle=True,\n",
    "    num_workers=0,\n",
    ")\n",
    "\n",
    "eval_dataset = Data.TensorDataset(X_eval, y_eval)\n",
    "eval_loader = Data.DataLoader(\n",
    "    dataset=eval_dataset,\n",
    "    batch_size=batch_size,\n",
    "    shuffle=True,\n",
    "    num_workers=0,\n",
    ")"
   ]
  },
  {
   "cell_type": "markdown",
   "metadata": {},
   "source": [
    "## building model"
   ]
  },
  {
   "cell_type": "code",
   "execution_count": 17,
   "metadata": {},
   "outputs": [],
   "source": [
    "class DNN(nn.Module):\n",
    "    def __init__(self):\n",
    "        super().__init__()\n",
    "        \n",
    "        self.fc1 = nn.Linear(233, 256)\n",
    "        self.fc2 = nn.Linear(256, 128)\n",
    "        self.fc3 = nn.Linear(128, 64)\n",
    "        self.fc4 = nn.Linear(64, 1)\n",
    "        \n",
    "        self.dropout = nn.Dropout(p=0.5)\n",
    "        \n",
    "    def forward(self, x):\n",
    "        #x = x.unsqueeze(0)\n",
    "        \n",
    "        x = F.relu(self.fc1(x))\n",
    "        x = F.relu(self.fc2(x))\n",
    "        x = F.relu(self.fc3(x))\n",
    "        x = self.fc4(x)\n",
    "        return x"
   ]
  },
  {
   "cell_type": "code",
   "execution_count": 18,
   "metadata": {},
   "outputs": [],
   "source": [
    "model = DNN().to(device)\n",
    "criterion = nn.MSELoss()\n",
    "optim = optim.Adam(model.parameters(), lr= lr)"
   ]
  },
  {
   "cell_type": "code",
   "execution_count": 19,
   "metadata": {},
   "outputs": [],
   "source": [
    "\n",
    "def train_func(model, loader):\n",
    "    model.train()\n",
    "    train_loss = []\n",
    "    for step, (batch_x, batch_y) in enumerate(loader):\n",
    "        optim.zero_grad()\n",
    "        pred = model(batch_x)\n",
    "        loss = criterion(pred, batch_y)\n",
    "        loss.backward()\n",
    "        optim.step()\n",
    "\n",
    "        train_loss.append(loss.item())\n",
    "        \n",
    "    print('training loss', np.array(train_loss).mean())\n",
    "    return np.array(train_loss).mean()\n",
    "\n",
    "\n",
    "\n",
    "\n",
    "def eval_func(model, loader):\n",
    "    model.eval()\n",
    "    eval_loss = []\n",
    "    with torch.no_grad():\n",
    "        for step, (batch_x, batch_y) in enumerate(loader):\n",
    "            pred = model(batch_x)\n",
    "            loss = criterion(pred, batch_y)\n",
    "            \n",
    "            eval_loss.append(loss.item())\n",
    "        print('testing loss', np.array(eval_loss).mean())\n",
    "    return np.array(eval_loss).mean()\n",
    "\n",
    "def test_func(model, X):\n",
    "    model.eval()\n",
    "    \n",
    "    with torch.no_grad():\n",
    "        pred = model(X)\n",
    "        pred = pred.cpu().numpy()\n",
    "        \n",
    "        if y_scale:\n",
    "            pred = y_scaler.inverse_transform(pred)\n",
    "            \n",
    "    return pred\n",
    "\n",
    "\n",
    "def accuracy(model, pct_close=0.5):\n",
    "    #pred, y_eval\n",
    "    model.eval()\n",
    "    with torch.no_grad():\n",
    "        pred = model(X_eval)\n",
    "        \n",
    "    n_correct = torch.sum((torch.abs(pred - y_eval) < torch.abs(pct_close * y_eval)))\n",
    "    result = (n_correct.item()/len(y_eval))  # scalar\n",
    "    return result \n",
    "\n",
    "def plot(label, pred):\n",
    "    plt.plot(label, label='actual')\n",
    "    plt.plot(pred, label='pred')\n",
    "    plt.legend(frameon=False)\n",
    "    "
   ]
  },
  {
   "cell_type": "code",
   "execution_count": 20,
   "metadata": {},
   "outputs": [
    {
     "name": "stdout",
     "output_type": "stream",
     "text": [
      "epochs 0\n",
      "training loss 0.000124656466417064\n",
      "epochs 1\n",
      "training loss 0.00010450176633281499\n",
      "epochs 2\n",
      "training loss 0.00010126400366612925\n",
      "epochs 3\n",
      "training loss 9.666724889470833e-05\n",
      "epochs 4\n",
      "training loss 9.323136105883874e-05\n",
      "epochs 5\n",
      "training loss 9.236192721470037e-05\n",
      "epochs 6\n",
      "training loss 9.493690820570258e-05\n",
      "epochs 7\n",
      "training loss 8.957619393737388e-05\n",
      "epochs 8\n",
      "training loss 8.972110596749355e-05\n",
      "epochs 9\n",
      "training loss 8.638421460559723e-05\n",
      "testing loss 9.430846726182852e-05\n",
      "epochs 10\n",
      "training loss 8.747404472435873e-05\n",
      "epochs 11\n",
      "training loss 8.123287937547558e-05\n",
      "epochs 12\n",
      "training loss 8.86897745686204e-05\n",
      "epochs 13\n",
      "training loss 8.713048614343721e-05\n",
      "epochs 14\n",
      "training loss 8.072623826675143e-05\n",
      "epochs 15\n",
      "training loss 9.771447583978333e-05\n",
      "epochs 16\n",
      "training loss 8.382782448279613e-05\n",
      "epochs 17\n",
      "training loss 8.321666296896266e-05\n",
      "epochs 18\n",
      "training loss 0.00010500330857515413\n",
      "epochs 19\n",
      "training loss 8.623794191214874e-05\n",
      "testing loss 9.512488382747954e-05\n",
      "epochs 20\n",
      "training loss 9.06634471379441e-05\n",
      "epochs 21\n",
      "training loss 8.816246119033278e-05\n",
      "epochs 22\n",
      "training loss 8.501246162047734e-05\n",
      "epochs 23\n",
      "training loss 0.00011123390221462504\n",
      "epochs 24\n",
      "training loss 9.03561129537896e-05\n",
      "epochs 25\n",
      "training loss 8.34129835780142e-05\n",
      "epochs 26\n",
      "training loss 8.590528981392598e-05\n",
      "epochs 27\n",
      "training loss 8.433720864063202e-05\n",
      "epochs 28\n",
      "training loss 8.064081664473854e-05\n",
      "epochs 29\n",
      "training loss 8.809272270479017e-05\n",
      "testing loss 9.473209739156465e-05\n",
      "epochs 30\n",
      "training loss 8.164832462226155e-05\n",
      "epochs 31\n",
      "training loss 7.389578361681108e-05\n",
      "epochs 32\n",
      "training loss 7.264715832207002e-05\n",
      "epochs 33\n",
      "training loss 6.223754046390461e-05\n",
      "epochs 34\n",
      "training loss 0.00011194004981999487\n",
      "epochs 35\n",
      "training loss 7.586385333221793e-05\n",
      "epochs 36\n",
      "training loss 7.780132056282265e-05\n",
      "epochs 37\n",
      "training loss 8.551320416617356e-05\n",
      "epochs 38\n",
      "training loss 6.99225351788548e-05\n",
      "epochs 39\n",
      "training loss 8.145772606880972e-05\n",
      "testing loss 0.00010313910332781592\n",
      "epochs 40\n",
      "training loss 8.597771976024943e-05\n",
      "epochs 41\n",
      "training loss 7.188683814065095e-05\n",
      "epochs 42\n",
      "training loss 7.788196550557063e-05\n",
      "epochs 43\n",
      "training loss 7.293256145120805e-05\n",
      "epochs 44\n",
      "training loss 6.888760483641157e-05\n",
      "epochs 45\n",
      "training loss 5.260234463617742e-05\n",
      "epochs 46\n",
      "training loss 6.425935514815853e-05\n",
      "epochs 47\n",
      "training loss 5.091145093584518e-05\n",
      "epochs 48\n",
      "training loss 0.00010136664558090023\n",
      "epochs 49\n",
      "training loss 9.255454422490209e-05\n",
      "testing loss 0.00010691030161389893\n",
      "epochs 50\n",
      "training loss 0.00011028967489134326\n",
      "epochs 51\n",
      "training loss 9.75755388439707e-05\n",
      "epochs 52\n",
      "training loss 8.30547410177215e-05\n",
      "epochs 53\n",
      "training loss 8.176998128901963e-05\n",
      "epochs 54\n",
      "training loss 6.779824846517207e-05\n",
      "epochs 55\n",
      "training loss 4.118141525230551e-05\n",
      "epochs 56\n",
      "training loss 4.627301122210073e-05\n",
      "epochs 57\n",
      "training loss 7.843582416860568e-05\n",
      "epochs 58\n",
      "training loss 9.979174004029394e-05\n",
      "epochs 59\n",
      "training loss 8.539457656738568e-05\n",
      "testing loss 9.46573491027791e-05\n",
      "epochs 60\n",
      "training loss 7.210219837912573e-05\n",
      "epochs 61\n",
      "training loss 5.142112634833514e-05\n",
      "epochs 62\n",
      "training loss 7.526637284558312e-05\n",
      "epochs 63\n",
      "training loss 5.4209109191905364e-05\n",
      "epochs 64\n",
      "training loss 9.16063238340333e-05\n",
      "epochs 65\n",
      "training loss 5.7707836373138534e-05\n",
      "epochs 66\n",
      "training loss 4.144118110795689e-05\n",
      "epochs 67\n",
      "training loss 4.2855896027972585e-05\n",
      "epochs 68\n",
      "training loss 5.3504328059606256e-05\n",
      "epochs 69\n",
      "training loss 4.476578263468885e-05\n",
      "testing loss 9.27508082485743e-05\n",
      "epochs 70\n",
      "training loss 3.3604340386304875e-05\n",
      "epochs 71\n",
      "training loss 3.0242673783780474e-05\n",
      "epochs 72\n",
      "training loss 3.820709334418511e-05\n",
      "epochs 73\n",
      "training loss 5.163245244037887e-05\n",
      "epochs 74\n",
      "training loss 3.131580480123486e-05\n",
      "epochs 75\n",
      "training loss 3.2725697013974596e-05\n",
      "epochs 76\n",
      "training loss 2.9115531434041313e-05\n",
      "epochs 77\n",
      "training loss 5.8372161425502396e-05\n",
      "epochs 78\n",
      "training loss 3.2284575566639737e-05\n",
      "epochs 79\n",
      "training loss 4.4624681733253195e-05\n",
      "testing loss 8.320331206460382e-05\n",
      "epochs 80\n",
      "training loss 4.683928973807986e-05\n",
      "epochs 81\n",
      "training loss 2.983291345007081e-05\n",
      "epochs 82\n",
      "training loss 4.5613638601618294e-05\n",
      "epochs 83\n",
      "training loss 3.277116152413796e-05\n",
      "epochs 84\n",
      "training loss 2.9727603969425245e-05\n",
      "epochs 85\n",
      "training loss 2.5425642934351345e-05\n",
      "epochs 86\n",
      "training loss 2.7970211640697953e-05\n",
      "epochs 87\n",
      "training loss 4.1074193111192225e-05\n",
      "epochs 88\n",
      "training loss 3.431313742208713e-05\n",
      "epochs 89\n",
      "training loss 2.8113562204838893e-05\n",
      "testing loss 8.716802086113808e-05\n",
      "epochs 90\n",
      "training loss 3.166400240595315e-05\n",
      "epochs 91\n",
      "training loss 2.4873523523527898e-05\n",
      "epochs 92\n",
      "training loss 3.670352523592803e-05\n",
      "epochs 93\n",
      "training loss 2.4497722689154738e-05\n",
      "epochs 94\n",
      "training loss 3.554615714303068e-05\n",
      "epochs 95\n",
      "training loss 3.020308262090442e-05\n",
      "epochs 96\n",
      "training loss 2.748229181413604e-05\n",
      "epochs 97\n",
      "training loss 2.2197444231454882e-05\n",
      "epochs 98\n",
      "training loss 2.79565849792341e-05\n",
      "epochs 99\n",
      "training loss 4.654418621750224e-05\n",
      "testing loss 8.36054386204075e-05\n",
      "epochs 100\n",
      "training loss 2.790283545740143e-05\n",
      "epochs 101\n",
      "training loss 3.4967995367024385e-05\n",
      "epochs 102\n",
      "training loss 2.8207486734159335e-05\n",
      "epochs 103\n",
      "training loss 3.142749675189958e-05\n",
      "epochs 104\n",
      "training loss 0.00010706198962438837\n",
      "epochs 105\n",
      "training loss 9.81754133066936e-05\n",
      "epochs 106\n",
      "training loss 9.117031651123508e-05\n",
      "epochs 107\n",
      "training loss 8.73139479953159e-05\n",
      "epochs 108\n",
      "training loss 7.67273836462471e-05\n",
      "epochs 109\n",
      "training loss 8.67175637584737e-05\n",
      "testing loss 9.926465942735889e-05\n",
      "epochs 110\n",
      "training loss 6.963302643491647e-05\n",
      "epochs 111\n",
      "training loss 7.106503971403017e-05\n",
      "epochs 112\n",
      "training loss 3.06390870650141e-05\n",
      "epochs 113\n",
      "training loss 2.8871223351719286e-05\n",
      "epochs 114\n",
      "training loss 2.187335076087038e-05\n",
      "epochs 115\n",
      "training loss 2.082198780595773e-05\n",
      "epochs 116\n",
      "training loss 2.2073425484312324e-05\n",
      "epochs 117\n",
      "training loss 3.263072653543063e-05\n",
      "epochs 118\n",
      "training loss 2.0634995335609403e-05\n",
      "epochs 119\n",
      "training loss 2.022490301979732e-05\n",
      "testing loss 7.338078339543386e-05\n",
      "epochs 120\n",
      "training loss 1.9571259096637455e-05\n",
      "epochs 121\n",
      "training loss 1.808597573134455e-05\n",
      "epochs 122\n",
      "training loss 2.4646079214796897e-05\n",
      "epochs 123\n",
      "training loss 2.2821936371738875e-05\n",
      "epochs 124\n",
      "training loss 2.6786076411801993e-05\n",
      "epochs 125\n",
      "training loss 2.506092957005559e-05\n",
      "epochs 126\n",
      "training loss 2.2958984238192154e-05\n",
      "epochs 127\n",
      "training loss 1.6761389205192134e-05\n",
      "epochs 128\n",
      "training loss 1.6753678974882032e-05\n",
      "epochs 129\n",
      "training loss 1.616183691305306e-05\n",
      "testing loss 7.426040611521081e-05\n",
      "epochs 130\n",
      "training loss 1.5934415146010437e-05\n",
      "epochs 131\n",
      "training loss 1.6543938989233347e-05\n",
      "epochs 132\n",
      "training loss 1.7272293455265974e-05\n",
      "epochs 133\n",
      "training loss 1.82045697921708e-05\n",
      "epochs 134\n",
      "training loss 1.740560798239268e-05\n",
      "epochs 135\n",
      "training loss 4.440054621723406e-05\n",
      "epochs 136\n",
      "training loss 4.353621851061524e-05\n",
      "epochs 137\n",
      "training loss 2.212131309506455e-05\n",
      "epochs 138\n",
      "training loss 1.626771124916338e-05\n",
      "epochs 139\n",
      "training loss 1.8120764356023177e-05\n",
      "testing loss 7.515133532085112e-05\n",
      "epochs 140\n",
      "training loss 1.5435534079656602e-05\n",
      "epochs 141\n",
      "training loss 1.6253220227361343e-05\n",
      "epochs 142\n",
      "training loss 1.579800624505989e-05\n",
      "epochs 143\n",
      "training loss 1.4503800456154611e-05\n",
      "epochs 144\n",
      "training loss 1.4713404623927835e-05\n",
      "epochs 145\n",
      "training loss 1.5063510382981004e-05\n",
      "epochs 146\n",
      "training loss 1.537326693599453e-05\n",
      "epochs 147\n",
      "training loss 1.441536848109205e-05\n",
      "epochs 148\n",
      "training loss 1.708768029884871e-05\n",
      "epochs 149\n",
      "training loss 2.365360364819935e-05\n",
      "testing loss 7.51954805636301e-05\n",
      "epochs 150\n",
      "training loss 1.607300181204306e-05\n",
      "epochs 151\n",
      "training loss 1.5317583919375355e-05\n",
      "epochs 152\n",
      "training loss 1.6423729414672185e-05\n",
      "epochs 153\n",
      "training loss 2.2518121340908692e-05\n",
      "epochs 154\n",
      "training loss 2.1619768315786407e-05\n",
      "epochs 155\n",
      "training loss 2.606453223520613e-05\n",
      "epochs 156\n",
      "training loss 1.783945089245566e-05\n",
      "epochs 157\n",
      "training loss 1.564667714002567e-05\n",
      "epochs 158\n",
      "training loss 1.472488116412547e-05\n",
      "epochs 159\n",
      "training loss 2.6946555468991088e-05\n",
      "testing loss 8.255414925283539e-05\n",
      "epochs 160\n",
      "training loss 1.993605465582787e-05\n",
      "epochs 161\n",
      "training loss 1.2756364130285819e-05\n",
      "epochs 162\n",
      "training loss 1.5886773070578232e-05\n",
      "epochs 163\n",
      "training loss 1.969697950147692e-05\n",
      "epochs 164\n"
     ]
    },
    {
     "name": "stdout",
     "output_type": "stream",
     "text": [
      "training loss 1.56212612595978e-05\n",
      "epochs 165\n",
      "training loss 1.3341143431771895e-05\n",
      "epochs 166\n",
      "training loss 1.303738923993616e-05\n",
      "epochs 167\n",
      "training loss 1.3687929935479065e-05\n",
      "epochs 168\n",
      "training loss 1.1975278040622608e-05\n",
      "epochs 169\n",
      "training loss 1.3913574483729353e-05\n",
      "testing loss 7.364393517055875e-05\n",
      "epochs 170\n",
      "training loss 1.6970304485849655e-05\n",
      "epochs 171\n",
      "training loss 3.116300981535901e-05\n",
      "epochs 172\n",
      "training loss 1.6958499640113035e-05\n",
      "epochs 173\n",
      "training loss 1.770985892714331e-05\n",
      "epochs 174\n",
      "training loss 1.3147993244770491e-05\n",
      "epochs 175\n",
      "training loss 1.4756485140396486e-05\n",
      "epochs 176\n",
      "training loss 1.3330172717387816e-05\n",
      "epochs 177\n",
      "training loss 1.1032154985845078e-05\n",
      "epochs 178\n",
      "training loss 1.3581079976134016e-05\n",
      "epochs 179\n",
      "training loss 1.2681265037496235e-05\n",
      "testing loss 7.432116969641971e-05\n",
      "epochs 180\n",
      "training loss 1.624704996243743e-05\n",
      "epochs 181\n",
      "training loss 2.0773994999741043e-05\n",
      "epochs 182\n",
      "training loss 3.060470104780203e-05\n",
      "epochs 183\n",
      "training loss 1.4855629550573103e-05\n",
      "epochs 184\n",
      "training loss 1.3403577070152316e-05\n",
      "epochs 185\n",
      "training loss 1.5182325130974111e-05\n",
      "epochs 186\n",
      "training loss 1.2616312553539252e-05\n",
      "epochs 187\n",
      "training loss 1.3652072541872534e-05\n",
      "epochs 188\n",
      "training loss 1.1146061073456318e-05\n",
      "epochs 189\n",
      "training loss 1.1715451830351605e-05\n",
      "testing loss 7.473795228538043e-05\n",
      "epochs 190\n",
      "training loss 1.2309179427657826e-05\n",
      "epochs 191\n",
      "training loss 1.9990179428284385e-05\n",
      "epochs 192\n",
      "training loss 2.0657319260642522e-05\n",
      "epochs 193\n",
      "training loss 1.4111911909684281e-05\n",
      "epochs 194\n",
      "training loss 1.0886860638603331e-05\n",
      "epochs 195\n",
      "training loss 1.1977765512766025e-05\n",
      "epochs 196\n",
      "training loss 1.1997949649632959e-05\n",
      "epochs 197\n",
      "training loss 1.1069712976071362e-05\n",
      "epochs 198\n",
      "training loss 9.681028790041498e-06\n",
      "epochs 199\n",
      "training loss 1.0453772457560373e-05\n",
      "testing loss 8.269841289571995e-05\n"
     ]
    }
   ],
   "source": [
    "train_losses = []\n",
    "eval_losses = []\n",
    "accs = []\n",
    "for t in range(2000):\n",
    "    print('epochs', t)\n",
    "    train_loss = train_func(model, train_loader)\n",
    "    if (t+1) % 10 == 0:\n",
    "        eval_loss = eval_func(model, eval_loader)\n",
    "        #acc = accuracy(model)\n",
    "        \n",
    "        eval_losses.append(eval_loss)\n",
    "        train_losses.append(train_loss)\n",
    "        \n",
    "        #accs.append(acc)\n",
    "        #print('accuracy: ',acc)"
   ]
  },
  {
   "cell_type": "code",
   "execution_count": 21,
   "metadata": {},
   "outputs": [
    {
     "data": {
      "text/plain": [
       "<matplotlib.legend.Legend at 0x7f84ba478dd8>"
      ]
     },
     "execution_count": 21,
     "metadata": {},
     "output_type": "execute_result"
    },
    {
     "data": {
      "image/png": "[encoded data removed]",
      "text/plain": [
       "<Figure size 432x288 with 1 Axes>"
      ]
     },
     "metadata": {
      "needs_background": "light"
     },
     "output_type": "display_data"
    }
   ],
   "source": [
    "plt.plot(train_losses, label='Training loss')\n",
    "plt.plot(eval_losses, label='Validation loss')\n",
    "plt.legend(frameon=False)\n"
   ]
  },
  {
   "cell_type": "code",
   "execution_count": 22,
   "metadata": {},
   "outputs": [
    {
     "ename": "NotFittedError",
     "evalue": "This MinMaxScaler instance is not fitted yet. Call 'fit' with appropriate arguments before using this method.",
     "output_type": "error",
     "traceback": [
      "\u001b[0;31m---------------------------------------------------------------------------\u001b[0m",
      "\u001b[0;31mNotFittedError\u001b[0m                            Traceback (most recent call last)",
      "\u001b[0;32m<ipython-input-22-a227ab0c89d9>\u001b[0m in \u001b[0;36m<module>\u001b[0;34m\u001b[0m\n\u001b[1;32m      1\u001b[0m \u001b[0mmodel\u001b[0m\u001b[0;34m.\u001b[0m\u001b[0meval\u001b[0m\u001b[0;34m(\u001b[0m\u001b[0;34m)\u001b[0m\u001b[0;34m\u001b[0m\u001b[0;34m\u001b[0m\u001b[0m\n\u001b[1;32m      2\u001b[0m \u001b[0mlabel\u001b[0m \u001b[0;34m=\u001b[0m \u001b[0my_train\u001b[0m\u001b[0;34m.\u001b[0m\u001b[0mcpu\u001b[0m\u001b[0;34m(\u001b[0m\u001b[0;34m)\u001b[0m\u001b[0;34m\u001b[0m\u001b[0;34m\u001b[0m\u001b[0m\n\u001b[0;32m----> 3\u001b[0;31m \u001b[0mlabel\u001b[0m \u001b[0;34m=\u001b[0m \u001b[0my_scaler\u001b[0m\u001b[0;34m.\u001b[0m\u001b[0minverse_transform\u001b[0m\u001b[0;34m(\u001b[0m\u001b[0mlabel\u001b[0m\u001b[0;34m)\u001b[0m\u001b[0;34m\u001b[0m\u001b[0;34m\u001b[0m\u001b[0m\n\u001b[0m\u001b[1;32m      4\u001b[0m \u001b[0;32mwith\u001b[0m \u001b[0mtorch\u001b[0m\u001b[0;34m.\u001b[0m\u001b[0mno_grad\u001b[0m\u001b[0;34m(\u001b[0m\u001b[0;34m)\u001b[0m\u001b[0;34m:\u001b[0m\u001b[0;34m\u001b[0m\u001b[0;34m\u001b[0m\u001b[0m\n\u001b[1;32m      5\u001b[0m     \u001b[0mpred\u001b[0m \u001b[0;34m=\u001b[0m \u001b[0mmodel\u001b[0m\u001b[0;34m(\u001b[0m\u001b[0mX_train\u001b[0m\u001b[0;34m)\u001b[0m\u001b[0;34m\u001b[0m\u001b[0;34m\u001b[0m\u001b[0m\n",
      "\u001b[0;32m~/anaconda3/lib/python3.6/site-packages/sklearn/preprocessing/data.py\u001b[0m in \u001b[0;36minverse_transform\u001b[0;34m(self, X)\u001b[0m\n\u001b[1;32m    397\u001b[0m             \u001b[0mInput\u001b[0m \u001b[0mdata\u001b[0m \u001b[0mthat\u001b[0m \u001b[0mwill\u001b[0m \u001b[0mbe\u001b[0m \u001b[0mtransformed\u001b[0m\u001b[0;34m.\u001b[0m \u001b[0mIt\u001b[0m \u001b[0mcannot\u001b[0m \u001b[0mbe\u001b[0m \u001b[0msparse\u001b[0m\u001b[0;34m.\u001b[0m\u001b[0;34m\u001b[0m\u001b[0;34m\u001b[0m\u001b[0m\n\u001b[1;32m    398\u001b[0m         \"\"\"\n\u001b[0;32m--> 399\u001b[0;31m         \u001b[0mcheck_is_fitted\u001b[0m\u001b[0;34m(\u001b[0m\u001b[0mself\u001b[0m\u001b[0;34m,\u001b[0m \u001b[0;34m'scale_'\u001b[0m\u001b[0;34m)\u001b[0m\u001b[0;34m\u001b[0m\u001b[0;34m\u001b[0m\u001b[0m\n\u001b[0m\u001b[1;32m    400\u001b[0m \u001b[0;34m\u001b[0m\u001b[0m\n\u001b[1;32m    401\u001b[0m         X = check_array(X, copy=self.copy, dtype=FLOAT_DTYPES,\n",
      "\u001b[0;32m~/anaconda3/lib/python3.6/site-packages/sklearn/utils/validation.py\u001b[0m in \u001b[0;36mcheck_is_fitted\u001b[0;34m(estimator, attributes, msg, all_or_any)\u001b[0m\n\u001b[1;32m    949\u001b[0m \u001b[0;34m\u001b[0m\u001b[0m\n\u001b[1;32m    950\u001b[0m     \u001b[0;32mif\u001b[0m \u001b[0;32mnot\u001b[0m \u001b[0mall_or_any\u001b[0m\u001b[0;34m(\u001b[0m\u001b[0;34m[\u001b[0m\u001b[0mhasattr\u001b[0m\u001b[0;34m(\u001b[0m\u001b[0mestimator\u001b[0m\u001b[0;34m,\u001b[0m \u001b[0mattr\u001b[0m\u001b[0;34m)\u001b[0m \u001b[0;32mfor\u001b[0m \u001b[0mattr\u001b[0m \u001b[0;32min\u001b[0m \u001b[0mattributes\u001b[0m\u001b[0;34m]\u001b[0m\u001b[0;34m)\u001b[0m\u001b[0;34m:\u001b[0m\u001b[0;34m\u001b[0m\u001b[0;34m\u001b[0m\u001b[0m\n\u001b[0;32m--> 951\u001b[0;31m         \u001b[0;32mraise\u001b[0m \u001b[0mNotFittedError\u001b[0m\u001b[0;34m(\u001b[0m\u001b[0mmsg\u001b[0m \u001b[0;34m%\u001b[0m \u001b[0;34m{\u001b[0m\u001b[0;34m'name'\u001b[0m\u001b[0;34m:\u001b[0m \u001b[0mtype\u001b[0m\u001b[0;34m(\u001b[0m\u001b[0mestimator\u001b[0m\u001b[0;34m)\u001b[0m\u001b[0;34m.\u001b[0m\u001b[0m__name__\u001b[0m\u001b[0;34m}\u001b[0m\u001b[0;34m)\u001b[0m\u001b[0;34m\u001b[0m\u001b[0;34m\u001b[0m\u001b[0m\n\u001b[0m\u001b[1;32m    952\u001b[0m \u001b[0;34m\u001b[0m\u001b[0m\n\u001b[1;32m    953\u001b[0m \u001b[0;34m\u001b[0m\u001b[0m\n",
      "\u001b[0;31mNotFittedError\u001b[0m: This MinMaxScaler instance is not fitted yet. Call 'fit' with appropriate arguments before using this method."
     ]
    }
   ],
   "source": [
    "model.eval()\n",
    "label = y_train.cpu()\n",
    "label = y_scaler.inverse_transform(label)\n",
    "with torch.no_grad():\n",
    "    pred = model(X_train)\n",
    "    pred = pred.cpu().numpy()\n",
    "    pred = y_scaler.inverse_transform(pred)\n",
    "    plot(label, pred)"
   ]
  },
  {
   "cell_type": "markdown",
   "metadata": {},
   "source": [
    "## Submission "
   ]
  },
  {
   "cell_type": "code",
   "execution_count": 23,
   "metadata": {},
   "outputs": [],
   "source": [
    "pred = test_func(model, X_test)"
   ]
  },
  {
   "cell_type": "code",
   "execution_count": 24,
   "metadata": {},
   "outputs": [
    {
     "data": {
      "text/html": [
       "<div>\n",
       "<style scoped>\n",
       "    .dataframe tbody tr th:only-of-type {\n",
       "        vertical-align: middle;\n",
       "    }\n",
       "\n",
       "    .dataframe tbody tr th {\n",
       "        vertical-align: top;\n",
       "    }\n",
       "\n",
       "    .dataframe thead th {\n",
       "        text-align: right;\n",
       "    }\n",
       "</style>\n",
       "<table border=\"1\" class=\"dataframe\">\n",
       "  <thead>\n",
       "    <tr style=\"text-align: right;\">\n",
       "      <th></th>\n",
       "      <th>building_id</th>\n",
       "      <th>total_price</th>\n",
       "    </tr>\n",
       "  </thead>\n",
       "  <tbody>\n",
       "    <tr>\n",
       "      <th>0</th>\n",
       "      <td>X5gsdTWGS3W7JJQB</td>\n",
       "      <td>10804441.0</td>\n",
       "    </tr>\n",
       "    <tr>\n",
       "      <th>1</th>\n",
       "      <td>BTshNOJyKHnT2YIT</td>\n",
       "      <td>10804441.0</td>\n",
       "    </tr>\n",
       "    <tr>\n",
       "      <th>2</th>\n",
       "      <td>dhdymr0lV8N5kZOT</td>\n",
       "      <td>10804441.0</td>\n",
       "    </tr>\n",
       "    <tr>\n",
       "      <th>3</th>\n",
       "      <td>VEwyGGMcD56w5BOc</td>\n",
       "      <td>10804441.0</td>\n",
       "    </tr>\n",
       "    <tr>\n",
       "      <th>4</th>\n",
       "      <td>wmUeMoJZfsqaSX9b</td>\n",
       "      <td>10804441.0</td>\n",
       "    </tr>\n",
       "    <tr>\n",
       "      <th>5</th>\n",
       "      <td>EtBjGAHmHCe9t7TZ</td>\n",
       "      <td>10804441.0</td>\n",
       "    </tr>\n",
       "    <tr>\n",
       "      <th>6</th>\n",
       "      <td>hPNH34vmaZtvBtqc</td>\n",
       "      <td>10804441.0</td>\n",
       "    </tr>\n",
       "    <tr>\n",
       "      <th>7</th>\n",
       "      <td>wXjeI38bYDMJJwZC</td>\n",
       "      <td>10804441.0</td>\n",
       "    </tr>\n",
       "    <tr>\n",
       "      <th>8</th>\n",
       "      <td>fxZSGX6aPAFKU8W4</td>\n",
       "      <td>10804441.0</td>\n",
       "    </tr>\n",
       "    <tr>\n",
       "      <th>9</th>\n",
       "      <td>ewr0Fx6ign87OwaV</td>\n",
       "      <td>10804441.0</td>\n",
       "    </tr>\n",
       "    <tr>\n",
       "      <th>10</th>\n",
       "      <td>gHKurnEP4AowzsLg</td>\n",
       "      <td>10804441.0</td>\n",
       "    </tr>\n",
       "    <tr>\n",
       "      <th>11</th>\n",
       "      <td>PmLfTgY2FElLrTl0</td>\n",
       "      <td>10804441.0</td>\n",
       "    </tr>\n",
       "    <tr>\n",
       "      <th>12</th>\n",
       "      <td>eM2NppIOwzW0o8iy</td>\n",
       "      <td>10804441.0</td>\n",
       "    </tr>\n",
       "    <tr>\n",
       "      <th>13</th>\n",
       "      <td>dxxwNun97NH4WTrZ</td>\n",
       "      <td>10804441.0</td>\n",
       "    </tr>\n",
       "    <tr>\n",
       "      <th>14</th>\n",
       "      <td>jykBfhh3vdeFUi3H</td>\n",
       "      <td>10804441.0</td>\n",
       "    </tr>\n",
       "    <tr>\n",
       "      <th>15</th>\n",
       "      <td>NlXbvdFfmJZf3L18</td>\n",
       "      <td>10804441.0</td>\n",
       "    </tr>\n",
       "    <tr>\n",
       "      <th>16</th>\n",
       "      <td>D7jaFWHCzSqLBwdt</td>\n",
       "      <td>10804441.0</td>\n",
       "    </tr>\n",
       "    <tr>\n",
       "      <th>17</th>\n",
       "      <td>L10dBBdqGmemweSl</td>\n",
       "      <td>10804441.0</td>\n",
       "    </tr>\n",
       "    <tr>\n",
       "      <th>18</th>\n",
       "      <td>OgB0AdiPKlElakKN</td>\n",
       "      <td>10804441.0</td>\n",
       "    </tr>\n",
       "    <tr>\n",
       "      <th>19</th>\n",
       "      <td>StiWNN1GQrpPBOYt</td>\n",
       "      <td>10804441.0</td>\n",
       "    </tr>\n",
       "    <tr>\n",
       "      <th>20</th>\n",
       "      <td>a016eMAVQKnfwMnt</td>\n",
       "      <td>10804441.0</td>\n",
       "    </tr>\n",
       "    <tr>\n",
       "      <th>21</th>\n",
       "      <td>gsCFcQHnOH3AKMcZ</td>\n",
       "      <td>10804441.0</td>\n",
       "    </tr>\n",
       "    <tr>\n",
       "      <th>22</th>\n",
       "      <td>IbNsDXfsPwSuFpow</td>\n",
       "      <td>10804441.0</td>\n",
       "    </tr>\n",
       "    <tr>\n",
       "      <th>23</th>\n",
       "      <td>EgAVWOVxD1Jy5YkE</td>\n",
       "      <td>10804441.0</td>\n",
       "    </tr>\n",
       "    <tr>\n",
       "      <th>24</th>\n",
       "      <td>BrKghvR76XdbQPnx</td>\n",
       "      <td>10804441.0</td>\n",
       "    </tr>\n",
       "    <tr>\n",
       "      <th>25</th>\n",
       "      <td>a7fxkXTnUGWHUmKG</td>\n",
       "      <td>10804441.0</td>\n",
       "    </tr>\n",
       "    <tr>\n",
       "      <th>26</th>\n",
       "      <td>WgzXa170DfpzpURE</td>\n",
       "      <td>10804441.0</td>\n",
       "    </tr>\n",
       "    <tr>\n",
       "      <th>27</th>\n",
       "      <td>JPWqZbLq0VNC0yKI</td>\n",
       "      <td>10804441.0</td>\n",
       "    </tr>\n",
       "    <tr>\n",
       "      <th>28</th>\n",
       "      <td>JQgTtbVstqFZwEK1</td>\n",
       "      <td>10804441.0</td>\n",
       "    </tr>\n",
       "    <tr>\n",
       "      <th>29</th>\n",
       "      <td>bCSDbEthlS3nSIor</td>\n",
       "      <td>10804441.0</td>\n",
       "    </tr>\n",
       "    <tr>\n",
       "      <th>...</th>\n",
       "      <td>...</td>\n",
       "      <td>...</td>\n",
       "    </tr>\n",
       "    <tr>\n",
       "      <th>9970</th>\n",
       "      <td>QL412tWF5RDIX7IO</td>\n",
       "      <td>10804441.0</td>\n",
       "    </tr>\n",
       "    <tr>\n",
       "      <th>9971</th>\n",
       "      <td>d3c2ceGtckONZzsr</td>\n",
       "      <td>10804441.0</td>\n",
       "    </tr>\n",
       "    <tr>\n",
       "      <th>9972</th>\n",
       "      <td>P1j8YRbxDAovumaI</td>\n",
       "      <td>10804441.0</td>\n",
       "    </tr>\n",
       "    <tr>\n",
       "      <th>9973</th>\n",
       "      <td>IxcBhEoFLcrI9TPr</td>\n",
       "      <td>10804441.0</td>\n",
       "    </tr>\n",
       "    <tr>\n",
       "      <th>9974</th>\n",
       "      <td>rKiV0KDbAl2myBQI</td>\n",
       "      <td>10804441.0</td>\n",
       "    </tr>\n",
       "    <tr>\n",
       "      <th>9975</th>\n",
       "      <td>GSdIXmKr0g5jQQcF</td>\n",
       "      <td>10804441.0</td>\n",
       "    </tr>\n",
       "    <tr>\n",
       "      <th>9976</th>\n",
       "      <td>Am6Wcg3TO64qvzd8</td>\n",
       "      <td>10804441.0</td>\n",
       "    </tr>\n",
       "    <tr>\n",
       "      <th>9977</th>\n",
       "      <td>RZqACAhkL4Tgw4Jr</td>\n",
       "      <td>10804441.0</td>\n",
       "    </tr>\n",
       "    <tr>\n",
       "      <th>9978</th>\n",
       "      <td>u7NKZfWoMUlZy9rJ</td>\n",
       "      <td>10804441.0</td>\n",
       "    </tr>\n",
       "    <tr>\n",
       "      <th>9979</th>\n",
       "      <td>C1BqV4MWH15rjAgz</td>\n",
       "      <td>10804441.0</td>\n",
       "    </tr>\n",
       "    <tr>\n",
       "      <th>9980</th>\n",
       "      <td>wz8A2UbwsgR0lXGJ</td>\n",
       "      <td>10804441.0</td>\n",
       "    </tr>\n",
       "    <tr>\n",
       "      <th>9981</th>\n",
       "      <td>MGJ8ABBTmC2yIaSm</td>\n",
       "      <td>10804441.0</td>\n",
       "    </tr>\n",
       "    <tr>\n",
       "      <th>9982</th>\n",
       "      <td>MjHL2HP1PGIp8aBt</td>\n",
       "      <td>10804441.0</td>\n",
       "    </tr>\n",
       "    <tr>\n",
       "      <th>9983</th>\n",
       "      <td>FMz7nnURFn85LaGt</td>\n",
       "      <td>10804441.0</td>\n",
       "    </tr>\n",
       "    <tr>\n",
       "      <th>9984</th>\n",
       "      <td>kydULx0r0G7OklRD</td>\n",
       "      <td>10804441.0</td>\n",
       "    </tr>\n",
       "    <tr>\n",
       "      <th>9985</th>\n",
       "      <td>nVNYRuk2fRbtlV00</td>\n",
       "      <td>10804441.0</td>\n",
       "    </tr>\n",
       "    <tr>\n",
       "      <th>9986</th>\n",
       "      <td>F8SGEOGPxrPfiRv2</td>\n",
       "      <td>10804441.0</td>\n",
       "    </tr>\n",
       "    <tr>\n",
       "      <th>9987</th>\n",
       "      <td>w7VMfiMvRb765ejK</td>\n",
       "      <td>10804441.0</td>\n",
       "    </tr>\n",
       "    <tr>\n",
       "      <th>9988</th>\n",
       "      <td>lgZWdUKliWt2y5sM</td>\n",
       "      <td>10804441.0</td>\n",
       "    </tr>\n",
       "    <tr>\n",
       "      <th>9989</th>\n",
       "      <td>TER8YrP9mw7UwWwr</td>\n",
       "      <td>10804441.0</td>\n",
       "    </tr>\n",
       "    <tr>\n",
       "      <th>9990</th>\n",
       "      <td>TXHk3oUpVsm5Cmag</td>\n",
       "      <td>10804441.0</td>\n",
       "    </tr>\n",
       "    <tr>\n",
       "      <th>9991</th>\n",
       "      <td>JtgDm9aQcGE9zELB</td>\n",
       "      <td>10804441.0</td>\n",
       "    </tr>\n",
       "    <tr>\n",
       "      <th>9992</th>\n",
       "      <td>wTQmcqbN0OCuSF1t</td>\n",
       "      <td>10804441.0</td>\n",
       "    </tr>\n",
       "    <tr>\n",
       "      <th>9993</th>\n",
       "      <td>WgsI1cBtzSfiWA1j</td>\n",
       "      <td>10804441.0</td>\n",
       "    </tr>\n",
       "    <tr>\n",
       "      <th>9994</th>\n",
       "      <td>qNgt1ajb5uVMKbqm</td>\n",
       "      <td>10804441.0</td>\n",
       "    </tr>\n",
       "    <tr>\n",
       "      <th>9995</th>\n",
       "      <td>UEeCDaAJzPwdKKKA</td>\n",
       "      <td>10804441.0</td>\n",
       "    </tr>\n",
       "    <tr>\n",
       "      <th>9996</th>\n",
       "      <td>i0fgbPaQsDWs7Q87</td>\n",
       "      <td>10804441.0</td>\n",
       "    </tr>\n",
       "    <tr>\n",
       "      <th>9997</th>\n",
       "      <td>YunNwAhcqkf6YclI</td>\n",
       "      <td>10804441.0</td>\n",
       "    </tr>\n",
       "    <tr>\n",
       "      <th>9998</th>\n",
       "      <td>A2NotxtRY9MYoWMl</td>\n",
       "      <td>10804441.0</td>\n",
       "    </tr>\n",
       "    <tr>\n",
       "      <th>9999</th>\n",
       "      <td>kKvgBXiA50gRmQhP</td>\n",
       "      <td>10804441.0</td>\n",
       "    </tr>\n",
       "  </tbody>\n",
       "</table>\n",
       "<p>10000 rows × 2 columns</p>\n",
       "</div>"
      ],
      "text/plain": [
       "           building_id  total_price\n",
       "0     X5gsdTWGS3W7JJQB   10804441.0\n",
       "1     BTshNOJyKHnT2YIT   10804441.0\n",
       "2     dhdymr0lV8N5kZOT   10804441.0\n",
       "3     VEwyGGMcD56w5BOc   10804441.0\n",
       "4     wmUeMoJZfsqaSX9b   10804441.0\n",
       "5     EtBjGAHmHCe9t7TZ   10804441.0\n",
       "6     hPNH34vmaZtvBtqc   10804441.0\n",
       "7     wXjeI38bYDMJJwZC   10804441.0\n",
       "8     fxZSGX6aPAFKU8W4   10804441.0\n",
       "9     ewr0Fx6ign87OwaV   10804441.0\n",
       "10    gHKurnEP4AowzsLg   10804441.0\n",
       "11    PmLfTgY2FElLrTl0   10804441.0\n",
       "12    eM2NppIOwzW0o8iy   10804441.0\n",
       "13    dxxwNun97NH4WTrZ   10804441.0\n",
       "14    jykBfhh3vdeFUi3H   10804441.0\n",
       "15    NlXbvdFfmJZf3L18   10804441.0\n",
       "16    D7jaFWHCzSqLBwdt   10804441.0\n",
       "17    L10dBBdqGmemweSl   10804441.0\n",
       "18    OgB0AdiPKlElakKN   10804441.0\n",
       "19    StiWNN1GQrpPBOYt   10804441.0\n",
       "20    a016eMAVQKnfwMnt   10804441.0\n",
       "21    gsCFcQHnOH3AKMcZ   10804441.0\n",
       "22    IbNsDXfsPwSuFpow   10804441.0\n",
       "23    EgAVWOVxD1Jy5YkE   10804441.0\n",
       "24    BrKghvR76XdbQPnx   10804441.0\n",
       "25    a7fxkXTnUGWHUmKG   10804441.0\n",
       "26    WgzXa170DfpzpURE   10804441.0\n",
       "27    JPWqZbLq0VNC0yKI   10804441.0\n",
       "28    JQgTtbVstqFZwEK1   10804441.0\n",
       "29    bCSDbEthlS3nSIor   10804441.0\n",
       "...                ...          ...\n",
       "9970  QL412tWF5RDIX7IO   10804441.0\n",
       "9971  d3c2ceGtckONZzsr   10804441.0\n",
       "9972  P1j8YRbxDAovumaI   10804441.0\n",
       "9973  IxcBhEoFLcrI9TPr   10804441.0\n",
       "9974  rKiV0KDbAl2myBQI   10804441.0\n",
       "9975  GSdIXmKr0g5jQQcF   10804441.0\n",
       "9976  Am6Wcg3TO64qvzd8   10804441.0\n",
       "9977  RZqACAhkL4Tgw4Jr   10804441.0\n",
       "9978  u7NKZfWoMUlZy9rJ   10804441.0\n",
       "9979  C1BqV4MWH15rjAgz   10804441.0\n",
       "9980  wz8A2UbwsgR0lXGJ   10804441.0\n",
       "9981  MGJ8ABBTmC2yIaSm   10804441.0\n",
       "9982  MjHL2HP1PGIp8aBt   10804441.0\n",
       "9983  FMz7nnURFn85LaGt   10804441.0\n",
       "9984  kydULx0r0G7OklRD   10804441.0\n",
       "9985  nVNYRuk2fRbtlV00   10804441.0\n",
       "9986  F8SGEOGPxrPfiRv2   10804441.0\n",
       "9987  w7VMfiMvRb765ejK   10804441.0\n",
       "9988  lgZWdUKliWt2y5sM   10804441.0\n",
       "9989  TER8YrP9mw7UwWwr   10804441.0\n",
       "9990  TXHk3oUpVsm5Cmag   10804441.0\n",
       "9991  JtgDm9aQcGE9zELB   10804441.0\n",
       "9992  wTQmcqbN0OCuSF1t   10804441.0\n",
       "9993  WgsI1cBtzSfiWA1j   10804441.0\n",
       "9994  qNgt1ajb5uVMKbqm   10804441.0\n",
       "9995  UEeCDaAJzPwdKKKA   10804441.0\n",
       "9996  i0fgbPaQsDWs7Q87   10804441.0\n",
       "9997  YunNwAhcqkf6YclI   10804441.0\n",
       "9998  A2NotxtRY9MYoWMl   10804441.0\n",
       "9999  kKvgBXiA50gRmQhP   10804441.0\n",
       "\n",
       "[10000 rows x 2 columns]"
      ]
     },
     "execution_count": 24,
     "metadata": {},
     "output_type": "execute_result"
    }
   ],
   "source": [
    "submission = pd.read_csv('./dataset-0510/submit_test.csv')\n",
    "submission['total_price'] = pred\n",
    "submission.to_csv('submission/DNN2_result.csv', index=False)\n",
    "submission"
   ]
  },
  {
   "cell_type": "markdown",
   "metadata": {},
   "source": [
    "## overfitting"
   ]
  },
  {
   "cell_type": "code",
   "execution_count": 18,
   "metadata": {},
   "outputs": [
    {
     "data": {
      "text/plain": [
       "<matplotlib.legend.Legend at 0x7f8222768b70>"
      ]
     },
     "execution_count": 18,
     "metadata": {},
     "output_type": "execute_result"
    },
    {
     "data": {
      "image/png": "[encoded data removed]",
      "text/plain": [
       "<Figure size 432x288 with 1 Axes>"
      ]
     },
     "metadata": {
      "needs_background": "light"
     },
     "output_type": "display_data"
    }
   ],
   "source": [
    "plt.plot(train_losses, label='Training loss')\n",
    "plt.legend(frameon=False)"
   ]
  },
  {
   "cell_type": "code",
   "execution_count": 19,
   "metadata": {},
   "outputs": [
    {
     "data": {
      "text/plain": [
       "[<matplotlib.lines.Line2D at 0x7f8222aec048>]"
      ]
     },
     "execution_count": 19,
     "metadata": {},
     "output_type": "execute_result"
    },
    {
     "data": {
      "image/png": "[encoded data removed]",
      "text/plain": [
       "<Figure size 432x288 with 1 Axes>"
      ]
     },
     "metadata": {
      "needs_background": "light"
     },
     "output_type": "display_data"
    }
   ],
   "source": [
    "plt.plot(eval_losses, label='Validation loss')\n"
   ]
  },
  {
   "cell_type": "markdown",
   "metadata": {},
   "source": [
    "## overfitting2"
   ]
  },
  {
   "cell_type": "code",
   "execution_count": 18,
   "metadata": {},
   "outputs": [
    {
     "data": {
      "text/plain": [
       "<matplotlib.legend.Legend at 0x7f3d934b4b38>"
      ]
     },
     "execution_count": 18,
     "metadata": {},
     "output_type": "execute_result"
    },
    {
     "data": {
      "image/png": "[encoded data removed]",
      "text/plain": [
       "<Figure size 432x288 with 1 Axes>"
      ]
     },
     "metadata": {
      "needs_background": "light"
     },
     "output_type": "display_data"
    }
   ],
   "source": [
    "plt.plot(train_losses, label='Training loss')\n",
    "plt.legend(frameon=False)"
   ]
  },
  {
   "cell_type": "code",
   "execution_count": 19,
   "metadata": {},
   "outputs": [
    {
     "data": {
      "text/plain": [
       "[<matplotlib.lines.Line2D at 0x7f3d8cfab080>]"
      ]
     },
     "execution_count": 19,
     "metadata": {},
     "output_type": "execute_result"
    },
    {
     "data": {
      "image/png": "[encoded data removed]",
      "text/plain": [
       "<Figure size 432x288 with 1 Axes>"
      ]
     },
     "metadata": {
      "needs_background": "light"
     },
     "output_type": "display_data"
    }
   ],
   "source": [
    "plt.plot(eval_losses, label='Validation loss')\n"
   ]
  },
  {
   "cell_type": "markdown",
   "metadata": {},
   "source": [
    "### Submission"
   ]
  },
  {
   "cell_type": "code",
   "execution_count": 26,
   "metadata": {},
   "outputs": [
    {
     "data": {
      "text/plain": [
       "[<matplotlib.lines.Line2D at 0x7f3b1933e668>]"
      ]
     },
     "execution_count": 26,
     "metadata": {},
     "output_type": "execute_result"
    },
    {
     "data": {
      "image/png": "[encoded data removed]",
      "text/plain": [
       "<Figure size 432x288 with 1 Axes>"
      ]
     },
     "metadata": {
      "needs_background": "light"
     },
     "output_type": "display_data"
    }
   ],
   "source": [
    "plt.plot(pred, label='pred')\n"
   ]
  },
  {
   "cell_type": "markdown",
   "metadata": {},
   "source": [
    "### test result"
   ]
  },
  {
   "cell_type": "markdown",
   "metadata": {},
   "source": [
    "Batch size use 128 or 32 , learning rate use 0.003 which find loss will stock in 0.6\n",
    "\n",
    "Result 1 DNN 233->256->128->1, lr=0.001, batch_size=128, predict score : 13\n",
    "change: \n",
    "- replacing Standard to MinMax \n",
    "- adding DropOut 0.3 layer\n",
    "- batch size change to 512"
   ]
  },
  {
   "cell_type": "code",
   "execution_count": null,
   "metadata": {},
   "outputs": [],
   "source": []
  }
 ],
 "metadata": {
  "kernelspec": {
   "display_name": "Python 3",
   "language": "python",
   "name": "python3"
  },
  "language_info": {
   "codemirror_mode": {
    "name": "ipython",
    "version": 3
   },
   "file_extension": ".py",
   "mimetype": "text/x-python",
   "name": "python",
   "nbconvert_exporter": "python",
   "pygments_lexer": "ipython3",
   "version": "3.6.8"
  }
 },
 "nbformat": 4,
 "nbformat_minor": 2
}
