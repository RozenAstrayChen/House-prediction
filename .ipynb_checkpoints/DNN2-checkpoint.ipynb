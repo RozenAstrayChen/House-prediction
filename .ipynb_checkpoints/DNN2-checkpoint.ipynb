{
 "cells": [
  {
   "cell_type": "code",
   "execution_count": 1,
   "metadata": {},
   "outputs": [],
   "source": [
    "import numpy as np # linear algebra\n",
    "import pandas as pd # data processing, CSV file I/O (e.g. pd.read_csv)\n",
    "import os\n",
    "\n",
    "from sklearn.preprocessing import Imputer\n",
    "from sklearn.ensemble import RandomForestRegressor\n",
    "from sklearn.feature_selection import SelectFromModel, RFE\n",
    "from sklearn.preprocessing import MinMaxScaler, StandardScaler,scale\n",
    "from sklearn.preprocessing import Normalizer\n",
    "from sklearn.pipeline import Pipeline\n",
    "from sklearn.model_selection import GridSearchCV\n",
    "from sklearn.feature_selection import VarianceThreshold\n",
    "import seaborn as sns\n",
    "from sklearn.model_selection import train_test_split\n",
    "\n",
    "import torch\n",
    "import torchvision.transforms as transforms\n",
    "from torch.autograd import Variable\n",
    "from torch import nn\n",
    "from torch.utils.data import Dataset, DataLoader\n",
    "import torch.nn.functional as F\n",
    "from torch import nn, optim\n",
    "import torch.nn.init as init\n",
    "import torch.utils.data as Data\n",
    "import math\n",
    "\n",
    "\n",
    "import matplotlib.pyplot as plt\n",
    "import torch.multiprocessing as mp\n"
   ]
  },
  {
   "cell_type": "code",
   "execution_count": 2,
   "metadata": {},
   "outputs": [],
   "source": [
    "mp.set_start_method('spawn')"
   ]
  },
  {
   "cell_type": "markdown",
   "metadata": {},
   "source": [
    "## hyperparameters"
   ]
  },
  {
   "cell_type": "code",
   "execution_count": 3,
   "metadata": {},
   "outputs": [],
   "source": [
    "batch_size = 128\n",
    "use_gpu = True\n",
    "y_scale = True\n",
    "lr = 0.001\n",
    "weight_decay = 0.01\n",
    "\n",
    "# Batch size and learning rate is hyperparameters in deep learning\n",
    "# suggest batch_size is reduced, lr is also reduced which will reduce concussion"
   ]
  },
  {
   "cell_type": "code",
   "execution_count": 4,
   "metadata": {},
   "outputs": [
    {
     "data": {
      "text/plain": [
       "device(type='cuda', index=0)"
      ]
     },
     "execution_count": 4,
     "metadata": {},
     "output_type": "execute_result"
    }
   ],
   "source": [
    "device = torch.device(\"cuda:0\" if torch.cuda.is_available() else \"cpu\")\n",
    "device"
   ]
  },
  {
   "cell_type": "code",
   "execution_count": 5,
   "metadata": {},
   "outputs": [],
   "source": [
    "X = pd.read_csv('./dataset-0510/train.csv')\n",
    "X_test = pd.read_csv('./dataset-0510/test.csv')\n",
    "\n",
    "\n",
    "columns = X.columns\n"
   ]
  },
  {
   "cell_type": "code",
   "execution_count": 6,
   "metadata": {},
   "outputs": [
    {
     "data": {
      "text/plain": [
       "Index(['building_id', 'building_material', 'city', 'txn_dt', 'total_floor',\n",
       "       'building_type', 'building_use', 'building_complete_dt', 'parking_way',\n",
       "       'parking_area',\n",
       "       ...\n",
       "       'XIV_500', 'XIV_index_500', 'XIV_1000', 'XIV_index_1000', 'XIV_5000',\n",
       "       'XIV_index_5000', 'XIV_10000', 'XIV_index_10000', 'XIV_MIN',\n",
       "       'total_price'],\n",
       "      dtype='object', length=235)"
      ]
     },
     "execution_count": 6,
     "metadata": {},
     "output_type": "execute_result"
    }
   ],
   "source": [
    "columns"
   ]
  },
  {
   "cell_type": "markdown",
   "metadata": {},
   "source": [
    "## Imputer, Scaler, Feature selection"
   ]
  },
  {
   "cell_type": "code",
   "execution_count": 7,
   "metadata": {},
   "outputs": [
    {
     "name": "stderr",
     "output_type": "stream",
     "text": [
      "/home/islab/anaconda3/lib/python3.6/site-packages/sklearn/utils/deprecation.py:58: DeprecationWarning: Class Imputer is deprecated; Imputer was deprecated in version 0.20 and will be removed in 0.22. Import impute.SimpleImputer from sklearn instead.\n",
      "  warnings.warn(msg, category=DeprecationWarning)\n"
     ]
    }
   ],
   "source": [
    "# step1. Imputation transformer for completing missing values.\n",
    "step1 = ('Imputer', Imputer())\n",
    "# step2. MinMaxScaler\n",
    "step2 = ('MinMaxScaler', MinMaxScaler())\n",
    "# step3. feature selection\n",
    "#step3 = ('FeatureSelection', SelectFromModel(RandomForestRegressor()))\n",
    "step3 = ('FeatureSelection', VarianceThreshold())\n",
    "\n",
    "pipeline = Pipeline(steps=[step1, step2, step3])\n"
   ]
  },
  {
   "cell_type": "code",
   "execution_count": 8,
   "metadata": {},
   "outputs": [],
   "source": [
    "y = X['total_price']\n",
    "X = X.drop(columns=['building_id', 'total_price'], axis=1)\n",
    "X_test = X_test.drop(columns=['building_id'], axis=1)\n"
   ]
  },
  {
   "cell_type": "markdown",
   "metadata": {},
   "source": [
    "### X sacle"
   ]
  },
  {
   "cell_type": "code",
   "execution_count": 9,
   "metadata": {},
   "outputs": [
    {
     "name": "stdout",
     "output_type": "stream",
     "text": [
      "(60000, 211)\n",
      "(10000, 211)\n"
     ]
    }
   ],
   "source": [
    "X = pipeline.fit_transform(X)\n",
    "print(X.shape)\n",
    "\n",
    "X_test = pipeline.transform(X_test)\n",
    "print(X_test.shape)"
   ]
  },
  {
   "cell_type": "code",
   "execution_count": 10,
   "metadata": {},
   "outputs": [],
   "source": [
    "#X = pd.DataFrame(X, columns=columns)"
   ]
  },
  {
   "cell_type": "markdown",
   "metadata": {},
   "source": [
    "### y scale "
   ]
  },
  {
   "cell_type": "code",
   "execution_count": 11,
   "metadata": {},
   "outputs": [],
   "source": [
    "y_scaler = MinMaxScaler()\n",
    "if y_scale:\n",
    "    y = y_scaler.fit_transform(y.values.reshape(-1, 1))\n",
    "\n"
   ]
  },
  {
   "cell_type": "code",
   "execution_count": 12,
   "metadata": {},
   "outputs": [],
   "source": [
    "X_train, X_eval, y_train, y_eval = train_test_split(X, y, test_size=0.3, random_state=42) "
   ]
  },
  {
   "cell_type": "code",
   "execution_count": 13,
   "metadata": {},
   "outputs": [],
   "source": [
    "X_train = torch.from_numpy(X_train).float().to(device)\n",
    "X_eval = torch.from_numpy(X_eval).float().to(device)\n",
    "\n",
    "y_train = torch.from_numpy(y_train).float().to(device)\n",
    "y_eval = torch.from_numpy(y_eval).float().to(device)\n",
    "\n",
    "X_test = torch.from_numpy(X_test).float().to(device)"
   ]
  },
  {
   "cell_type": "code",
   "execution_count": 14,
   "metadata": {},
   "outputs": [
    {
     "name": "stdout",
     "output_type": "stream",
     "text": [
      "torch.Size([42000, 211])\n",
      "torch.Size([10000, 211])\n",
      "torch.Size([42000, 1])\n"
     ]
    }
   ],
   "source": [
    "print(X_train.shape)\n",
    "print(X_test.shape)\n",
    "print(y_train.shape)"
   ]
  },
  {
   "cell_type": "code",
   "execution_count": 15,
   "metadata": {},
   "outputs": [],
   "source": [
    "train_dataset = Data.TensorDataset(X_train, y_train)\n",
    "train_loader = Data.DataLoader(\n",
    "    dataset=train_dataset,\n",
    "    batch_size=batch_size,\n",
    "    shuffle=True,\n",
    "    num_workers=0,\n",
    ")\n",
    "\n",
    "eval_dataset = Data.TensorDataset(X_eval, y_eval)\n",
    "eval_loader = Data.DataLoader(\n",
    "    dataset=eval_dataset,\n",
    "    batch_size=batch_size,\n",
    "    shuffle=True,\n",
    "    num_workers=0,\n",
    ")"
   ]
  },
  {
   "cell_type": "markdown",
   "metadata": {},
   "source": [
    "## building model"
   ]
  },
  {
   "cell_type": "code",
   "execution_count": 16,
   "metadata": {},
   "outputs": [],
   "source": [
    "class DNN(nn.Module):\n",
    "    def __init__(self):\n",
    "        super().__init__()\n",
    "        \n",
    "        self.fc1 = nn.Linear(211, 256)\n",
    "        self.fc2 = nn.Linear(256, 512)\n",
    "        self.fc3 = nn.Linear(512, 512)\n",
    "        self.fc4 = nn.Linear(512, 256)\n",
    "        self.fc5 = nn.Linear(256, 128)\n",
    "        self.fc6 = nn.Linear(128, 1)\n",
    "        \n",
    "        self.dropout = nn.Dropout(p=0.5)\n",
    "        \n",
    "    def forward(self, x):\n",
    "        #x = x.unsqueeze(0)\n",
    "        \n",
    "        x = F.relu(self.fc1(x))\n",
    "        x = F.relu(self.fc2(x))\n",
    "        x = F.relu(self.fc3(x))\n",
    "        x = F.relu(self.fc4(x))\n",
    "        x = F.relu(self.fc5(x))\n",
    "        x = self.fc6(x)\n",
    "        return x"
   ]
  },
  {
   "cell_type": "code",
   "execution_count": 17,
   "metadata": {},
   "outputs": [],
   "source": [
    "model = DNN().to(device)\n",
    "criterion = nn.MSELoss()\n",
    "optim = optim.Adam(model.parameters(), lr= lr)"
   ]
  },
  {
   "cell_type": "code",
   "execution_count": 29,
   "metadata": {},
   "outputs": [],
   "source": [
    "\n",
    "def train_func(model, loader):\n",
    "    model.train()\n",
    "    train_loss = []\n",
    "    for step, (batch_x, batch_y) in enumerate(loader):\n",
    "        optim.zero_grad()\n",
    "        pred = model(batch_x)\n",
    "        loss = torch.sqrt(criterion(pred, batch_y))\n",
    "        loss.backward()\n",
    "        optim.step()\n",
    "\n",
    "        train_loss.append(loss.item())\n",
    "        \n",
    "    print('training loss', np.array(train_loss).mean())\n",
    "    return np.array(train_loss).mean()\n",
    "\n",
    "\n",
    "\n",
    "\n",
    "def eval_func(model, loader):\n",
    "    model.eval()\n",
    "    eval_loss = []\n",
    "    with torch.no_grad():\n",
    "        for step, (batch_x, batch_y) in enumerate(loader):\n",
    "            pred = model(batch_x)\n",
    "            loss = torch.sqrt(criterion(pred, batch_y))\n",
    "            \n",
    "            eval_loss.append(loss.item())\n",
    "        print('testing loss', np.array(eval_loss).mean())\n",
    "    return np.array(eval_loss).mean()\n",
    "\n",
    "def test_func(model, X):\n",
    "    model.eval()\n",
    "    with torch.no_grad():\n",
    "        pred = model(X)\n",
    "        \n",
    "        pred = pred.cpu().numpy()\n",
    "        if y_scale:\n",
    "            pred = y_scaler.inverse_transform(pred)            \n",
    "    return pred\n",
    "\n",
    "\n",
    "def accuracy(model, pct_close=0.5):\n",
    "    #pred, y_eval\n",
    "    model.eval()\n",
    "    with torch.no_grad():\n",
    "        pred = model(X_eval)\n",
    "        \n",
    "    n_correct = torch.sum((torch.abs(pred - y_eval) < torch.abs(pct_close * y_eval)))\n",
    "    result = (n_correct.item()/len(y_eval))  # scalar\n",
    "    return result \n",
    "\n",
    "def plot(label, pred):\n",
    "    plt.plot(label, label='actual')\n",
    "    plt.plot(pred, label='pred')\n",
    "    plt.legend(frameon=False)\n",
    "    "
   ]
  },
  {
   "cell_type": "code",
   "execution_count": 19,
   "metadata": {},
   "outputs": [
    {
     "name": "stdout",
     "output_type": "stream",
     "text": [
      "epochs 0\n",
      "training loss 0.006480214246874251\n",
      "epochs 1\n",
      "training loss 0.005994014378274737\n",
      "epochs 2\n",
      "training loss 0.006286994402302503\n",
      "epochs 3\n",
      "training loss 0.006289257503420364\n",
      "epochs 4\n",
      "training loss 0.006096751768478847\n",
      "epochs 5\n",
      "training loss 0.005794722321131875\n",
      "epochs 6\n",
      "training loss 0.005888718303496805\n",
      "epochs 7\n",
      "training loss 0.00584303120987654\n",
      "epochs 8\n",
      "training loss 0.006274565633975173\n",
      "epochs 9\n",
      "training loss 0.005875103836978211\n",
      "testing loss 0.006992547490455686\n",
      "epochs 10\n",
      "training loss 0.006046491821924943\n",
      "epochs 11\n",
      "training loss 0.005783631411129127\n",
      "epochs 12\n",
      "training loss 0.0056686535258961435\n",
      "epochs 13\n",
      "training loss 0.0062559984021432315\n",
      "epochs 14\n",
      "training loss 0.006025297316371556\n",
      "epochs 15\n",
      "training loss 0.005897947963564954\n",
      "epochs 16\n",
      "training loss 0.006010386268367657\n",
      "epochs 17\n",
      "training loss 0.005920039049680925\n",
      "epochs 18\n",
      "training loss 0.0056225557795281335\n",
      "epochs 19\n",
      "training loss 0.005670058479430692\n",
      "testing loss 0.005930904696979527\n",
      "epochs 20\n",
      "training loss 0.005411129589206723\n",
      "epochs 21\n",
      "training loss 0.005586137335554988\n",
      "epochs 22\n",
      "training loss 0.005466179380131076\n",
      "epochs 23\n",
      "training loss 0.005375180663088036\n",
      "epochs 24\n",
      "training loss 0.005470054147348917\n",
      "epochs 25\n",
      "training loss 0.0056877822415637115\n",
      "epochs 26\n",
      "training loss 0.0057419496535332055\n",
      "epochs 27\n",
      "training loss 0.005552418551218093\n",
      "epochs 28\n",
      "training loss 0.005153141238537014\n",
      "epochs 29\n",
      "training loss 0.005300220300225501\n",
      "testing loss 0.0068136506370460315\n",
      "epochs 30\n",
      "training loss 0.005256731959065496\n",
      "epochs 31\n",
      "training loss 0.005489686217391156\n",
      "epochs 32\n",
      "training loss 0.00561108809469783\n",
      "epochs 33\n",
      "training loss 0.005519665319452736\n",
      "epochs 34\n",
      "training loss 0.0052472838571459325\n",
      "epochs 35\n",
      "training loss 0.0054570886820956704\n",
      "epochs 36\n",
      "training loss 0.005250225466743995\n",
      "epochs 37\n",
      "training loss 0.005317699722521075\n",
      "epochs 38\n",
      "training loss 0.005065930605650876\n",
      "epochs 39\n",
      "training loss 0.005124604242066867\n",
      "testing loss 0.005335390819599918\n",
      "epochs 40\n",
      "training loss 0.004826280987244043\n",
      "epochs 41\n",
      "training loss 0.004905719879029551\n",
      "epochs 42\n",
      "training loss 0.005308885824382532\n",
      "epochs 43\n",
      "training loss 0.005004337661132488\n",
      "epochs 44\n",
      "training loss 0.005086556001634289\n",
      "epochs 45\n",
      "training loss 0.005120933022616165\n",
      "epochs 46\n",
      "training loss 0.005112830344955565\n",
      "epochs 47\n",
      "training loss 0.004929058269688175\n",
      "epochs 48\n",
      "training loss 0.004895023457737113\n",
      "epochs 49\n",
      "training loss 0.004635613236865057\n",
      "testing loss 0.005929327171117543\n",
      "epochs 50\n",
      "training loss 0.004906322698442883\n",
      "epochs 51\n",
      "training loss 0.0055058992310005345\n",
      "epochs 52\n",
      "training loss 0.004806825587537287\n",
      "epochs 53\n",
      "training loss 0.004839354996869516\n",
      "epochs 54\n",
      "training loss 0.004673240471370858\n",
      "epochs 55\n",
      "training loss 0.004630236690411044\n",
      "epochs 56\n",
      "training loss 0.0045779921418044565\n",
      "epochs 57\n",
      "training loss 0.00457784742234405\n",
      "epochs 58\n",
      "training loss 0.004928499670404839\n",
      "epochs 59\n",
      "training loss 0.004572677296886396\n",
      "testing loss 0.005266532165672075\n",
      "epochs 60\n",
      "training loss 0.004480715516578168\n",
      "epochs 61\n",
      "training loss 0.004647686594876384\n",
      "epochs 62\n",
      "training loss 0.005124812503769926\n",
      "epochs 63\n",
      "training loss 0.004469502726810387\n",
      "epochs 64\n",
      "training loss 0.004633420936078241\n",
      "epochs 65\n",
      "training loss 0.004532115411871087\n",
      "epochs 66\n",
      "training loss 0.004547134462155198\n",
      "epochs 67\n",
      "training loss 0.005218836841934946\n",
      "epochs 68\n",
      "training loss 0.005043592394222038\n",
      "epochs 69\n",
      "training loss 0.00446914684269464\n",
      "testing loss 0.005103031185733036\n",
      "epochs 70\n",
      "training loss 0.004537729720873787\n",
      "epochs 71\n",
      "training loss 0.004384079485590992\n",
      "epochs 72\n",
      "training loss 0.004407491614563691\n",
      "epochs 73\n",
      "training loss 0.004237421364721624\n",
      "epochs 74\n",
      "training loss 0.004483536811471891\n",
      "epochs 75\n",
      "training loss 0.004255070023402844\n",
      "epochs 76\n",
      "training loss 0.0054022578252224665\n",
      "epochs 77\n",
      "training loss 0.004989852696391088\n",
      "epochs 78\n",
      "training loss 0.004585663130928658\n",
      "epochs 79\n",
      "training loss 0.004298894012581818\n",
      "testing loss 0.005855240502414551\n",
      "epochs 80\n",
      "training loss 0.0044163345981327005\n",
      "epochs 81\n",
      "training loss 0.004258738290716676\n",
      "epochs 82\n",
      "training loss 0.004041530868097981\n",
      "epochs 83\n",
      "training loss 0.004576538037650265\n",
      "epochs 84\n",
      "training loss 0.0041014653988646795\n",
      "epochs 85\n",
      "training loss 0.004934445892936213\n",
      "epochs 86\n",
      "training loss 0.004139988211487451\n",
      "epochs 87\n",
      "training loss 0.00406562593817926\n",
      "epochs 88\n",
      "training loss 0.004753899216329209\n",
      "epochs 89\n",
      "training loss 0.004823100043667373\n",
      "testing loss 0.005456780296492767\n",
      "epochs 90\n",
      "training loss 0.0041757906191928545\n",
      "epochs 91\n",
      "training loss 0.003975231863563954\n",
      "epochs 92\n",
      "training loss 0.004315064362275745\n",
      "epochs 93\n",
      "training loss 0.004987476332718931\n",
      "epochs 94\n",
      "training loss 0.0056658424606892115\n",
      "epochs 95\n",
      "training loss 0.005174593317413018\n",
      "epochs 96\n",
      "training loss 0.004470383745227518\n",
      "epochs 97\n",
      "training loss 0.005181429792325774\n",
      "epochs 98\n",
      "training loss 0.003900524986041625\n",
      "epochs 99\n",
      "training loss 0.00387494241016263\n",
      "testing loss 0.004930008100411782\n",
      "epochs 100\n",
      "training loss 0.0035888591227843498\n",
      "epochs 101\n",
      "training loss 0.0037398043649106948\n",
      "epochs 102\n",
      "training loss 0.004932128921955099\n",
      "epochs 103\n",
      "training loss 0.00547020459168316\n",
      "epochs 104\n",
      "training loss 0.005381870033264749\n",
      "epochs 105\n",
      "training loss 0.004777777703311917\n",
      "epochs 106\n",
      "training loss 0.003913748443571109\n",
      "epochs 107\n",
      "training loss 0.003820321330160899\n",
      "epochs 108\n",
      "training loss 0.0034000922959031804\n",
      "epochs 109\n",
      "training loss 0.005335099545044196\n",
      "testing loss 0.006407196828368919\n",
      "epochs 110\n",
      "training loss 0.0045469686679830805\n",
      "epochs 111\n",
      "training loss 0.0041786373343805595\n",
      "epochs 112\n",
      "training loss 0.0035996771110419898\n",
      "epochs 113\n",
      "training loss 0.0033565421650995782\n",
      "epochs 114\n",
      "training loss 0.0034844826529719683\n",
      "epochs 115\n",
      "training loss 0.003570176909060577\n",
      "epochs 116\n",
      "training loss 0.0035033203812887873\n",
      "epochs 117\n",
      "training loss 0.0036326623741129702\n",
      "epochs 118\n",
      "training loss 0.0035161974423743307\n",
      "epochs 119\n",
      "training loss 0.0036821665035668295\n",
      "testing loss 0.004630956824386743\n",
      "epochs 120\n",
      "training loss 0.003358577646132513\n",
      "epochs 121\n",
      "training loss 0.004333455451710382\n",
      "epochs 122\n",
      "training loss 0.005278519264883773\n",
      "epochs 123\n",
      "training loss 0.004350992948620787\n",
      "epochs 124\n",
      "training loss 0.00424793454617443\n",
      "epochs 125\n",
      "training loss 0.0036908536816814114\n",
      "epochs 126\n",
      "training loss 0.004455419266660128\n",
      "epochs 127\n",
      "training loss 0.0034375815421603282\n",
      "epochs 128\n",
      "training loss 0.0033075638864851786\n",
      "epochs 129\n",
      "training loss 0.003231135133291541\n",
      "testing loss 0.004621577097420046\n",
      "epochs 130\n",
      "training loss 0.0031486911169114583\n",
      "epochs 131\n",
      "training loss 0.0032196311371423597\n",
      "epochs 132\n",
      "training loss 0.004201212956635197\n",
      "epochs 133\n",
      "training loss 0.0033868338815771656\n",
      "epochs 134\n",
      "training loss 0.0032166059537278345\n",
      "epochs 135\n",
      "training loss 0.0033886609609609635\n",
      "epochs 136\n",
      "training loss 0.0032042373271834526\n",
      "epochs 137\n",
      "training loss 0.0030339422061088236\n",
      "epochs 138\n",
      "training loss 0.0032089505646106047\n",
      "epochs 139\n",
      "training loss 0.003232239383219042\n",
      "testing loss 0.004419963756503524\n",
      "epochs 140\n",
      "training loss 0.0030575779885532034\n",
      "epochs 141\n",
      "training loss 0.003813228739063202\n",
      "epochs 142\n",
      "training loss 0.0032618583164441095\n",
      "epochs 143\n",
      "training loss 0.0031922653892097323\n",
      "epochs 144\n",
      "training loss 0.0030429311302606595\n",
      "epochs 145\n",
      "training loss 0.0031627564720022507\n",
      "epochs 146\n",
      "training loss 0.0029904666879726717\n",
      "epochs 147\n",
      "training loss 0.0033178866202560873\n",
      "epochs 148\n",
      "training loss 0.0033789702233261113\n",
      "epochs 149\n",
      "training loss 0.004398974048265321\n",
      "testing loss 0.004768175369372974\n",
      "epochs 150\n",
      "training loss 0.0036094695758527445\n",
      "epochs 151\n",
      "training loss 0.003083633293615694\n",
      "epochs 152\n",
      "training loss 0.0031376821052645385\n",
      "epochs 153\n",
      "training loss 0.003715162132909142\n",
      "epochs 154\n",
      "training loss 0.004305819462769662\n",
      "epochs 155\n",
      "training loss 0.003389485536346999\n",
      "epochs 156\n",
      "training loss 0.00334558335004097\n",
      "epochs 157\n",
      "training loss 0.0041445394674327375\n",
      "epochs 158\n",
      "training loss 0.0034451819269841473\n",
      "epochs 159\n",
      "training loss 0.003604095546305066\n",
      "testing loss 0.004352584158413852\n",
      "epochs 160\n",
      "training loss 0.003440739534933992\n",
      "epochs 161\n",
      "training loss 0.004396918139528019\n",
      "epochs 162\n",
      "training loss 0.003993105652139135\n",
      "epochs 163\n",
      "training loss 0.005877284245356057\n",
      "epochs 164\n",
      "training loss 0.005489173425944652\n",
      "epochs 165\n",
      "training loss 0.005301318156510297\n",
      "epochs 166\n",
      "training loss 0.004956253950050989\n",
      "epochs 167\n",
      "training loss 0.004360792580935368\n",
      "epochs 168\n"
     ]
    },
    {
     "name": "stdout",
     "output_type": "stream",
     "text": [
      "training loss 0.003869128432252238\n",
      "epochs 169\n",
      "training loss 0.005534443654343599\n",
      "testing loss 0.006257936713477292\n",
      "epochs 170\n",
      "training loss 0.005193069291309564\n",
      "epochs 171\n",
      "training loss 0.004022491387074592\n",
      "epochs 172\n",
      "training loss 0.003988087889214689\n",
      "epochs 173\n",
      "training loss 0.003215956618078053\n",
      "epochs 174\n",
      "training loss 0.0029257003583812286\n",
      "epochs 175\n",
      "training loss 0.003140071526206577\n",
      "epochs 176\n",
      "training loss 0.003063096554092157\n",
      "epochs 177\n",
      "training loss 0.004720233637332849\n",
      "epochs 178\n",
      "training loss 0.003851972584043683\n",
      "epochs 179\n",
      "training loss 0.0033204512338728663\n",
      "testing loss 0.004232465954999446\n",
      "epochs 180\n",
      "training loss 0.002912613089085984\n",
      "epochs 181\n",
      "training loss 0.002980533314268685\n",
      "epochs 182\n",
      "training loss 0.0030475044322248244\n",
      "epochs 183\n",
      "training loss 0.0029213262734634625\n",
      "epochs 184\n",
      "training loss 0.002779582514297387\n",
      "epochs 185\n",
      "training loss 0.0027429958827380305\n",
      "epochs 186\n",
      "training loss 0.0026651790661391967\n",
      "epochs 187\n",
      "training loss 0.003098658162188974\n",
      "epochs 188\n",
      "training loss 0.003601395271330687\n",
      "epochs 189\n",
      "training loss 0.0028578537650049683\n",
      "testing loss 0.0043419391739988\n",
      "epochs 190\n",
      "training loss 0.002822335753561561\n",
      "epochs 191\n",
      "training loss 0.004748956692379568\n",
      "epochs 192\n",
      "training loss 0.004381909119361576\n",
      "epochs 193\n",
      "training loss 0.0043317665849135776\n",
      "epochs 194\n",
      "training loss 0.0028441229581798915\n",
      "epochs 195\n",
      "training loss 0.0027808752809693658\n",
      "epochs 196\n",
      "training loss 0.002652640258086602\n",
      "epochs 197\n",
      "training loss 0.0026909122919369388\n",
      "epochs 198\n",
      "training loss 0.0035256942940060628\n",
      "epochs 199\n",
      "training loss 0.003575066919438541\n",
      "testing loss 0.004476679073719321\n"
     ]
    }
   ],
   "source": [
    "train_losses = []\n",
    "eval_losses = []\n",
    "accs = []\n",
    "for t in range(10000):\n",
    "    print('epochs', t)\n",
    "    train_loss = train_func(model, train_loader)\n",
    "    if (t+1) % 10 == 0:\n",
    "        eval_loss = eval_func(model, eval_loader)\n",
    "        #acc = accuracy(model)\n",
    "        \n",
    "        eval_losses.append(eval_loss)\n",
    "        train_losses.append(train_loss)\n",
    "        \n",
    "        #accs.append(acc)\n",
    "        #print('accuracy: ',acc)"
   ]
  },
  {
   "cell_type": "code",
   "execution_count": 20,
   "metadata": {},
   "outputs": [
    {
     "data": {
      "text/plain": [
       "<matplotlib.legend.Legend at 0x7f3bb7bf35c0>"
      ]
     },
     "execution_count": 20,
     "metadata": {},
     "output_type": "execute_result"
    },
    {
     "data": {
      "image/png": "[encoded data removed]",
      "text/plain": [
       "<Figure size 432x288 with 1 Axes>"
      ]
     },
     "metadata": {
      "needs_background": "light"
     },
     "output_type": "display_data"
    }
   ],
   "source": [
    "plt.plot(train_losses, label='Training loss')\n",
    "plt.plot(eval_losses, label='Validation loss')\n",
    "plt.legend(frameon=False)\n"
   ]
  },
  {
   "cell_type": "code",
   "execution_count": 26,
   "metadata": {},
   "outputs": [
    {
     "data": {
      "image/png": "[encoded data removed]",
      "text/plain": [
       "<Figure size 432x288 with 1 Axes>"
      ]
     },
     "metadata": {
      "needs_background": "light"
     },
     "output_type": "display_data"
    }
   ],
   "source": [
    "model.eval()\n",
    "label = y_train.cpu()\n",
    "label = y_scaler.inverse_transform(label)\n",
    "with torch.no_grad():\n",
    "    pred = model(X_train)\n",
    "    pred = pred.cpu().numpy()\n",
    "    pred = y_scaler.inverse_transform(pred)\n",
    "    plot(label, pred)"
   ]
  },
  {
   "cell_type": "markdown",
   "metadata": {},
   "source": [
    "## Submission "
   ]
  },
  {
   "cell_type": "code",
   "execution_count": 30,
   "metadata": {},
   "outputs": [
    {
     "name": "stdout",
     "output_type": "stream",
     "text": [
      "[[ 1.1156388e-03]\n",
      " [-6.8015093e-04]\n",
      " [ 7.5667631e-05]\n",
      " ...\n",
      " [-1.4134599e-03]\n",
      " [-6.0772523e-04]\n",
      " [-6.1683357e-04]]\n"
     ]
    }
   ],
   "source": [
    "pred = test_func(model, X_test)\n"
   ]
  },
  {
   "cell_type": "code",
   "execution_count": 28,
   "metadata": {},
   "outputs": [
    {
     "data": {
      "text/html": [
       "<div>\n",
       "<style scoped>\n",
       "    .dataframe tbody tr th:only-of-type {\n",
       "        vertical-align: middle;\n",
       "    }\n",
       "\n",
       "    .dataframe tbody tr th {\n",
       "        vertical-align: top;\n",
       "    }\n",
       "\n",
       "    .dataframe thead th {\n",
       "        text-align: right;\n",
       "    }\n",
       "</style>\n",
       "<table border=\"1\" class=\"dataframe\">\n",
       "  <thead>\n",
       "    <tr style=\"text-align: right;\">\n",
       "      <th></th>\n",
       "      <th>building_id</th>\n",
       "      <th>total_price</th>\n",
       "    </tr>\n",
       "  </thead>\n",
       "  <tbody>\n",
       "    <tr>\n",
       "      <th>0</th>\n",
       "      <td>X5gsdTWGS3W7JJQB</td>\n",
       "      <td>5.902578e+06</td>\n",
       "    </tr>\n",
       "    <tr>\n",
       "      <th>1</th>\n",
       "      <td>BTshNOJyKHnT2YIT</td>\n",
       "      <td>-3.234494e+06</td>\n",
       "    </tr>\n",
       "    <tr>\n",
       "      <th>2</th>\n",
       "      <td>dhdymr0lV8N5kZOT</td>\n",
       "      <td>6.111504e+05</td>\n",
       "    </tr>\n",
       "    <tr>\n",
       "      <th>3</th>\n",
       "      <td>VEwyGGMcD56w5BOc</td>\n",
       "      <td>1.087098e+07</td>\n",
       "    </tr>\n",
       "    <tr>\n",
       "      <th>4</th>\n",
       "      <td>wmUeMoJZfsqaSX9b</td>\n",
       "      <td>-7.646944e+06</td>\n",
       "    </tr>\n",
       "    <tr>\n",
       "      <th>5</th>\n",
       "      <td>EtBjGAHmHCe9t7TZ</td>\n",
       "      <td>-3.833482e+05</td>\n",
       "    </tr>\n",
       "    <tr>\n",
       "      <th>6</th>\n",
       "      <td>hPNH34vmaZtvBtqc</td>\n",
       "      <td>1.320304e+07</td>\n",
       "    </tr>\n",
       "    <tr>\n",
       "      <th>7</th>\n",
       "      <td>wXjeI38bYDMJJwZC</td>\n",
       "      <td>3.751349e+06</td>\n",
       "    </tr>\n",
       "    <tr>\n",
       "      <th>8</th>\n",
       "      <td>fxZSGX6aPAFKU8W4</td>\n",
       "      <td>-5.572846e+06</td>\n",
       "    </tr>\n",
       "    <tr>\n",
       "      <th>9</th>\n",
       "      <td>ewr0Fx6ign87OwaV</td>\n",
       "      <td>3.285591e+06</td>\n",
       "    </tr>\n",
       "    <tr>\n",
       "      <th>10</th>\n",
       "      <td>gHKurnEP4AowzsLg</td>\n",
       "      <td>-6.711364e+06</td>\n",
       "    </tr>\n",
       "    <tr>\n",
       "      <th>11</th>\n",
       "      <td>PmLfTgY2FElLrTl0</td>\n",
       "      <td>1.914949e+06</td>\n",
       "    </tr>\n",
       "    <tr>\n",
       "      <th>12</th>\n",
       "      <td>eM2NppIOwzW0o8iy</td>\n",
       "      <td>-4.402351e+06</td>\n",
       "    </tr>\n",
       "    <tr>\n",
       "      <th>13</th>\n",
       "      <td>dxxwNun97NH4WTrZ</td>\n",
       "      <td>-6.518478e+06</td>\n",
       "    </tr>\n",
       "    <tr>\n",
       "      <th>14</th>\n",
       "      <td>jykBfhh3vdeFUi3H</td>\n",
       "      <td>1.963341e+06</td>\n",
       "    </tr>\n",
       "    <tr>\n",
       "      <th>15</th>\n",
       "      <td>NlXbvdFfmJZf3L18</td>\n",
       "      <td>3.892373e+07</td>\n",
       "    </tr>\n",
       "    <tr>\n",
       "      <th>16</th>\n",
       "      <td>D7jaFWHCzSqLBwdt</td>\n",
       "      <td>-1.020737e+07</td>\n",
       "    </tr>\n",
       "    <tr>\n",
       "      <th>17</th>\n",
       "      <td>L10dBBdqGmemweSl</td>\n",
       "      <td>4.032746e+06</td>\n",
       "    </tr>\n",
       "    <tr>\n",
       "      <th>18</th>\n",
       "      <td>OgB0AdiPKlElakKN</td>\n",
       "      <td>-7.946553e+06</td>\n",
       "    </tr>\n",
       "    <tr>\n",
       "      <th>19</th>\n",
       "      <td>StiWNN1GQrpPBOYt</td>\n",
       "      <td>-1.939556e+06</td>\n",
       "    </tr>\n",
       "    <tr>\n",
       "      <th>20</th>\n",
       "      <td>a016eMAVQKnfwMnt</td>\n",
       "      <td>1.291991e+07</td>\n",
       "    </tr>\n",
       "    <tr>\n",
       "      <th>21</th>\n",
       "      <td>gsCFcQHnOH3AKMcZ</td>\n",
       "      <td>-4.132901e+06</td>\n",
       "    </tr>\n",
       "    <tr>\n",
       "      <th>22</th>\n",
       "      <td>IbNsDXfsPwSuFpow</td>\n",
       "      <td>6.694626e+06</td>\n",
       "    </tr>\n",
       "    <tr>\n",
       "      <th>23</th>\n",
       "      <td>EgAVWOVxD1Jy5YkE</td>\n",
       "      <td>-6.770959e+06</td>\n",
       "    </tr>\n",
       "    <tr>\n",
       "      <th>24</th>\n",
       "      <td>BrKghvR76XdbQPnx</td>\n",
       "      <td>1.163508e+06</td>\n",
       "    </tr>\n",
       "    <tr>\n",
       "      <th>25</th>\n",
       "      <td>a7fxkXTnUGWHUmKG</td>\n",
       "      <td>3.484451e+06</td>\n",
       "    </tr>\n",
       "    <tr>\n",
       "      <th>26</th>\n",
       "      <td>WgzXa170DfpzpURE</td>\n",
       "      <td>-2.656556e+06</td>\n",
       "    </tr>\n",
       "    <tr>\n",
       "      <th>27</th>\n",
       "      <td>JPWqZbLq0VNC0yKI</td>\n",
       "      <td>3.643457e+07</td>\n",
       "    </tr>\n",
       "    <tr>\n",
       "      <th>28</th>\n",
       "      <td>JQgTtbVstqFZwEK1</td>\n",
       "      <td>-7.845832e+06</td>\n",
       "    </tr>\n",
       "    <tr>\n",
       "      <th>29</th>\n",
       "      <td>bCSDbEthlS3nSIor</td>\n",
       "      <td>-6.159691e+06</td>\n",
       "    </tr>\n",
       "    <tr>\n",
       "      <th>...</th>\n",
       "      <td>...</td>\n",
       "      <td>...</td>\n",
       "    </tr>\n",
       "    <tr>\n",
       "      <th>9970</th>\n",
       "      <td>QL412tWF5RDIX7IO</td>\n",
       "      <td>-5.119488e+06</td>\n",
       "    </tr>\n",
       "    <tr>\n",
       "      <th>9971</th>\n",
       "      <td>d3c2ceGtckONZzsr</td>\n",
       "      <td>2.344087e+06</td>\n",
       "    </tr>\n",
       "    <tr>\n",
       "      <th>9972</th>\n",
       "      <td>P1j8YRbxDAovumaI</td>\n",
       "      <td>4.339092e+06</td>\n",
       "    </tr>\n",
       "    <tr>\n",
       "      <th>9973</th>\n",
       "      <td>IxcBhEoFLcrI9TPr</td>\n",
       "      <td>-2.812229e+06</td>\n",
       "    </tr>\n",
       "    <tr>\n",
       "      <th>9974</th>\n",
       "      <td>rKiV0KDbAl2myBQI</td>\n",
       "      <td>-4.807406e+06</td>\n",
       "    </tr>\n",
       "    <tr>\n",
       "      <th>9975</th>\n",
       "      <td>GSdIXmKr0g5jQQcF</td>\n",
       "      <td>-9.513617e+06</td>\n",
       "    </tr>\n",
       "    <tr>\n",
       "      <th>9976</th>\n",
       "      <td>Am6Wcg3TO64qvzd8</td>\n",
       "      <td>3.647709e+07</td>\n",
       "    </tr>\n",
       "    <tr>\n",
       "      <th>9977</th>\n",
       "      <td>RZqACAhkL4Tgw4Jr</td>\n",
       "      <td>7.099231e+07</td>\n",
       "    </tr>\n",
       "    <tr>\n",
       "      <th>9978</th>\n",
       "      <td>u7NKZfWoMUlZy9rJ</td>\n",
       "      <td>-7.259621e+05</td>\n",
       "    </tr>\n",
       "    <tr>\n",
       "      <th>9979</th>\n",
       "      <td>C1BqV4MWH15rjAgz</td>\n",
       "      <td>7.249389e+05</td>\n",
       "    </tr>\n",
       "    <tr>\n",
       "      <th>9980</th>\n",
       "      <td>wz8A2UbwsgR0lXGJ</td>\n",
       "      <td>-1.535366e+06</td>\n",
       "    </tr>\n",
       "    <tr>\n",
       "      <th>9981</th>\n",
       "      <td>MGJ8ABBTmC2yIaSm</td>\n",
       "      <td>1.438722e+06</td>\n",
       "    </tr>\n",
       "    <tr>\n",
       "      <th>9982</th>\n",
       "      <td>MjHL2HP1PGIp8aBt</td>\n",
       "      <td>-4.996578e+06</td>\n",
       "    </tr>\n",
       "    <tr>\n",
       "      <th>9983</th>\n",
       "      <td>FMz7nnURFn85LaGt</td>\n",
       "      <td>4.137074e+07</td>\n",
       "    </tr>\n",
       "    <tr>\n",
       "      <th>9984</th>\n",
       "      <td>kydULx0r0G7OklRD</td>\n",
       "      <td>-1.620374e+06</td>\n",
       "    </tr>\n",
       "    <tr>\n",
       "      <th>9985</th>\n",
       "      <td>nVNYRuk2fRbtlV00</td>\n",
       "      <td>1.752748e+07</td>\n",
       "    </tr>\n",
       "    <tr>\n",
       "      <th>9986</th>\n",
       "      <td>F8SGEOGPxrPfiRv2</td>\n",
       "      <td>-8.014981e+06</td>\n",
       "    </tr>\n",
       "    <tr>\n",
       "      <th>9987</th>\n",
       "      <td>w7VMfiMvRb765ejK</td>\n",
       "      <td>4.183242e+07</td>\n",
       "    </tr>\n",
       "    <tr>\n",
       "      <th>9988</th>\n",
       "      <td>lgZWdUKliWt2y5sM</td>\n",
       "      <td>4.460637e+06</td>\n",
       "    </tr>\n",
       "    <tr>\n",
       "      <th>9989</th>\n",
       "      <td>TER8YrP9mw7UwWwr</td>\n",
       "      <td>-5.952490e+06</td>\n",
       "    </tr>\n",
       "    <tr>\n",
       "      <th>9990</th>\n",
       "      <td>TXHk3oUpVsm5Cmag</td>\n",
       "      <td>-2.822531e+06</td>\n",
       "    </tr>\n",
       "    <tr>\n",
       "      <th>9991</th>\n",
       "      <td>JtgDm9aQcGE9zELB</td>\n",
       "      <td>-3.638478e+06</td>\n",
       "    </tr>\n",
       "    <tr>\n",
       "      <th>9992</th>\n",
       "      <td>wTQmcqbN0OCuSF1t</td>\n",
       "      <td>3.499579e+07</td>\n",
       "    </tr>\n",
       "    <tr>\n",
       "      <th>9993</th>\n",
       "      <td>WgsI1cBtzSfiWA1j</td>\n",
       "      <td>6.661180e+07</td>\n",
       "    </tr>\n",
       "    <tr>\n",
       "      <th>9994</th>\n",
       "      <td>qNgt1ajb5uVMKbqm</td>\n",
       "      <td>2.016945e+06</td>\n",
       "    </tr>\n",
       "    <tr>\n",
       "      <th>9995</th>\n",
       "      <td>UEeCDaAJzPwdKKKA</td>\n",
       "      <td>-5.957822e+06</td>\n",
       "    </tr>\n",
       "    <tr>\n",
       "      <th>9996</th>\n",
       "      <td>i0fgbPaQsDWs7Q87</td>\n",
       "      <td>3.875554e+07</td>\n",
       "    </tr>\n",
       "    <tr>\n",
       "      <th>9997</th>\n",
       "      <td>YunNwAhcqkf6YclI</td>\n",
       "      <td>-6.965610e+06</td>\n",
       "    </tr>\n",
       "    <tr>\n",
       "      <th>9998</th>\n",
       "      <td>A2NotxtRY9MYoWMl</td>\n",
       "      <td>-2.865989e+06</td>\n",
       "    </tr>\n",
       "    <tr>\n",
       "      <th>9999</th>\n",
       "      <td>kKvgBXiA50gRmQhP</td>\n",
       "      <td>-2.912332e+06</td>\n",
       "    </tr>\n",
       "  </tbody>\n",
       "</table>\n",
       "<p>10000 rows × 2 columns</p>\n",
       "</div>"
      ],
      "text/plain": [
       "           building_id   total_price\n",
       "0     X5gsdTWGS3W7JJQB  5.902578e+06\n",
       "1     BTshNOJyKHnT2YIT -3.234494e+06\n",
       "2     dhdymr0lV8N5kZOT  6.111504e+05\n",
       "3     VEwyGGMcD56w5BOc  1.087098e+07\n",
       "4     wmUeMoJZfsqaSX9b -7.646944e+06\n",
       "5     EtBjGAHmHCe9t7TZ -3.833482e+05\n",
       "6     hPNH34vmaZtvBtqc  1.320304e+07\n",
       "7     wXjeI38bYDMJJwZC  3.751349e+06\n",
       "8     fxZSGX6aPAFKU8W4 -5.572846e+06\n",
       "9     ewr0Fx6ign87OwaV  3.285591e+06\n",
       "10    gHKurnEP4AowzsLg -6.711364e+06\n",
       "11    PmLfTgY2FElLrTl0  1.914949e+06\n",
       "12    eM2NppIOwzW0o8iy -4.402351e+06\n",
       "13    dxxwNun97NH4WTrZ -6.518478e+06\n",
       "14    jykBfhh3vdeFUi3H  1.963341e+06\n",
       "15    NlXbvdFfmJZf3L18  3.892373e+07\n",
       "16    D7jaFWHCzSqLBwdt -1.020737e+07\n",
       "17    L10dBBdqGmemweSl  4.032746e+06\n",
       "18    OgB0AdiPKlElakKN -7.946553e+06\n",
       "19    StiWNN1GQrpPBOYt -1.939556e+06\n",
       "20    a016eMAVQKnfwMnt  1.291991e+07\n",
       "21    gsCFcQHnOH3AKMcZ -4.132901e+06\n",
       "22    IbNsDXfsPwSuFpow  6.694626e+06\n",
       "23    EgAVWOVxD1Jy5YkE -6.770959e+06\n",
       "24    BrKghvR76XdbQPnx  1.163508e+06\n",
       "25    a7fxkXTnUGWHUmKG  3.484451e+06\n",
       "26    WgzXa170DfpzpURE -2.656556e+06\n",
       "27    JPWqZbLq0VNC0yKI  3.643457e+07\n",
       "28    JQgTtbVstqFZwEK1 -7.845832e+06\n",
       "29    bCSDbEthlS3nSIor -6.159691e+06\n",
       "...                ...           ...\n",
       "9970  QL412tWF5RDIX7IO -5.119488e+06\n",
       "9971  d3c2ceGtckONZzsr  2.344087e+06\n",
       "9972  P1j8YRbxDAovumaI  4.339092e+06\n",
       "9973  IxcBhEoFLcrI9TPr -2.812229e+06\n",
       "9974  rKiV0KDbAl2myBQI -4.807406e+06\n",
       "9975  GSdIXmKr0g5jQQcF -9.513617e+06\n",
       "9976  Am6Wcg3TO64qvzd8  3.647709e+07\n",
       "9977  RZqACAhkL4Tgw4Jr  7.099231e+07\n",
       "9978  u7NKZfWoMUlZy9rJ -7.259621e+05\n",
       "9979  C1BqV4MWH15rjAgz  7.249389e+05\n",
       "9980  wz8A2UbwsgR0lXGJ -1.535366e+06\n",
       "9981  MGJ8ABBTmC2yIaSm  1.438722e+06\n",
       "9982  MjHL2HP1PGIp8aBt -4.996578e+06\n",
       "9983  FMz7nnURFn85LaGt  4.137074e+07\n",
       "9984  kydULx0r0G7OklRD -1.620374e+06\n",
       "9985  nVNYRuk2fRbtlV00  1.752748e+07\n",
       "9986  F8SGEOGPxrPfiRv2 -8.014981e+06\n",
       "9987  w7VMfiMvRb765ejK  4.183242e+07\n",
       "9988  lgZWdUKliWt2y5sM  4.460637e+06\n",
       "9989  TER8YrP9mw7UwWwr -5.952490e+06\n",
       "9990  TXHk3oUpVsm5Cmag -2.822531e+06\n",
       "9991  JtgDm9aQcGE9zELB -3.638478e+06\n",
       "9992  wTQmcqbN0OCuSF1t  3.499579e+07\n",
       "9993  WgsI1cBtzSfiWA1j  6.661180e+07\n",
       "9994  qNgt1ajb5uVMKbqm  2.016945e+06\n",
       "9995  UEeCDaAJzPwdKKKA -5.957822e+06\n",
       "9996  i0fgbPaQsDWs7Q87  3.875554e+07\n",
       "9997  YunNwAhcqkf6YclI -6.965610e+06\n",
       "9998  A2NotxtRY9MYoWMl -2.865989e+06\n",
       "9999  kKvgBXiA50gRmQhP -2.912332e+06\n",
       "\n",
       "[10000 rows x 2 columns]"
      ]
     },
     "execution_count": 28,
     "metadata": {},
     "output_type": "execute_result"
    }
   ],
   "source": [
    "submission = pd.read_csv('./dataset-0510/submit_test.csv')\n",
    "submission['total_price'] = pred\n",
    "submission.to_csv('submission/DNN2_result.csv', index=False)\n",
    "submission"
   ]
  },
  {
   "cell_type": "markdown",
   "metadata": {},
   "source": [
    "## overfitting"
   ]
  },
  {
   "cell_type": "code",
   "execution_count": 18,
   "metadata": {},
   "outputs": [
    {
     "data": {
      "text/plain": [
       "<matplotlib.legend.Legend at 0x7f8222768b70>"
      ]
     },
     "execution_count": 18,
     "metadata": {},
     "output_type": "execute_result"
    },
    {
     "data": {
      "image/png": "[encoded data removed]",
      "text/plain": [
       "<Figure size 432x288 with 1 Axes>"
      ]
     },
     "metadata": {
      "needs_background": "light"
     },
     "output_type": "display_data"
    }
   ],
   "source": [
    "plt.plot(train_losses, label='Training loss')\n",
    "plt.legend(frameon=False)"
   ]
  },
  {
   "cell_type": "code",
   "execution_count": 19,
   "metadata": {},
   "outputs": [
    {
     "data": {
      "text/plain": [
       "[<matplotlib.lines.Line2D at 0x7f8222aec048>]"
      ]
     },
     "execution_count": 19,
     "metadata": {},
     "output_type": "execute_result"
    },
    {
     "data": {
      "image/png": "[encoded data removed]",
      "text/plain": [
       "<Figure size 432x288 with 1 Axes>"
      ]
     },
     "metadata": {
      "needs_background": "light"
     },
     "output_type": "display_data"
    }
   ],
   "source": [
    "plt.plot(eval_losses, label='Validation loss')\n"
   ]
  },
  {
   "cell_type": "markdown",
   "metadata": {},
   "source": [
    "## overfitting2"
   ]
  },
  {
   "cell_type": "code",
   "execution_count": 18,
   "metadata": {},
   "outputs": [
    {
     "data": {
      "text/plain": [
       "<matplotlib.legend.Legend at 0x7f3d934b4b38>"
      ]
     },
     "execution_count": 18,
     "metadata": {},
     "output_type": "execute_result"
    },
    {
     "data": {
      "image/png": "[encoded data removed]",
      "text/plain": [
       "<Figure size 432x288 with 1 Axes>"
      ]
     },
     "metadata": {
      "needs_background": "light"
     },
     "output_type": "display_data"
    }
   ],
   "source": [
    "plt.plot(train_losses, label='Training loss')\n",
    "plt.legend(frameon=False)"
   ]
  },
  {
   "cell_type": "code",
   "execution_count": 19,
   "metadata": {},
   "outputs": [
    {
     "data": {
      "text/plain": [
       "[<matplotlib.lines.Line2D at 0x7f3d8cfab080>]"
      ]
     },
     "execution_count": 19,
     "metadata": {},
     "output_type": "execute_result"
    },
    {
     "data": {
      "image/png": "[encoded data removed]",
      "text/plain": [
       "<Figure size 432x288 with 1 Axes>"
      ]
     },
     "metadata": {
      "needs_background": "light"
     },
     "output_type": "display_data"
    }
   ],
   "source": [
    "plt.plot(eval_losses, label='Validation loss')\n"
   ]
  },
  {
   "cell_type": "markdown",
   "metadata": {},
   "source": [
    "### Submission"
   ]
  },
  {
   "cell_type": "code",
   "execution_count": 26,
   "metadata": {},
   "outputs": [
    {
     "data": {
      "text/plain": [
       "[<matplotlib.lines.Line2D at 0x7f3b1933e668>]"
      ]
     },
     "execution_count": 26,
     "metadata": {},
     "output_type": "execute_result"
    },
    {
     "data": {
      "image/png": "[encoded data removed]",
      "text/plain": [
       "<Figure size 432x288 with 1 Axes>"
      ]
     },
     "metadata": {
      "needs_background": "light"
     },
     "output_type": "display_data"
    }
   ],
   "source": [
    "plt.plot(pred, label='pred')\n"
   ]
  },
  {
   "cell_type": "markdown",
   "metadata": {},
   "source": [
    "### test result"
   ]
  },
  {
   "cell_type": "markdown",
   "metadata": {},
   "source": [
    "Batch size use 128 or 32 , learning rate use 0.003 which find loss will stock in 0.6\n",
    "\n",
    "Result 1 DNN 233->256->128->1, lr=0.001, batch_size=128, predict score : 13\n",
    "change: \n",
    "- replacing Standard to MinMax \n",
    "- adding DropOut 0.3 layer\n",
    "- batch size change to 512\n",
    "\n",
    "Result 2 lr=0.001, batch_size=64, DNN 233->256->128->64->1\n",
    "after 1k loss : 0.00011785521522113447, can't decrease...\n",
    "- x_scale false\n",
    "- y_scale true\n"
   ]
  },
  {
   "cell_type": "code",
   "execution_count": null,
   "metadata": {},
   "outputs": [],
   "source": []
  }
 ],
 "metadata": {
  "kernelspec": {
   "display_name": "Python 3",
   "language": "python",
   "name": "python3"
  },
  "language_info": {
   "codemirror_mode": {
    "name": "ipython",
    "version": 3
   },
   "file_extension": ".py",
   "mimetype": "text/x-python",
   "name": "python",
   "nbconvert_exporter": "python",
   "pygments_lexer": "ipython3",
   "version": "3.6.8"
  }
 },
 "nbformat": 4,
 "nbformat_minor": 2
}
