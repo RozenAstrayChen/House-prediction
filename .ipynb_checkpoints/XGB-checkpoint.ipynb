{
 "cells": [
  {
   "cell_type": "code",
   "execution_count": 26,
   "metadata": {},
   "outputs": [],
   "source": [
    "import numpy as np # linear algebra\n",
    "import pandas as pd # data processing, CSV file I/O (e.g. pd.read_csv)\n",
    "import os\n",
    "\n",
    "from sklearn.preprocessing import Imputer\n",
    "from sklearn.ensemble import RandomForestRegressor\n",
    "from sklearn.feature_selection import SelectFromModel\n",
    "from sklearn.preprocessing import MinMaxScaler, scale\n",
    "from sklearn.preprocessing import Normalizer\n",
    "from sklearn.pipeline import Pipeline\n",
    "from sklearn.model_selection import RandomizedSearchCV\n",
    "import xgboost\n",
    "from xgboost import XGBRegressor\n",
    "import sklearn.metrics as metrics\n",
    "from sklearn.metrics import mean_squared_error\n",
    "from sklearn.feature_selection import VarianceThreshold\n",
    "from sklearn.model_selection import train_test_split\n",
    "\n",
    "from warnings import simplefilter\n",
    "simplefilter(action='ignore', category=FutureWarning)"
   ]
  },
  {
   "cell_type": "code",
   "execution_count": 27,
   "metadata": {},
   "outputs": [],
   "source": [
    "X = pd.read_csv('./dataset-0510/train.csv', index_col='building_id')\n",
    "X_test = pd.read_csv('./dataset-0510/test.csv', index_col='building_id')\n",
    "\n",
    "y = X.total_price\n",
    "X.drop(columns=['total_price'], inplace=True)"
   ]
  },
  {
   "cell_type": "code",
   "execution_count": 28,
   "metadata": {},
   "outputs": [],
   "source": [
    "X_train, X_eval, y_train, y_eval = train_test_split(X, y, test_size=0.3, random_state=42) "
   ]
  },
  {
   "cell_type": "code",
   "execution_count": 49,
   "metadata": {},
   "outputs": [
    {
     "name": "stderr",
     "output_type": "stream",
     "text": [
      "/home/islab/anaconda3/lib/python3.6/site-packages/sklearn/utils/deprecation.py:66: DeprecationWarning: Class Imputer is deprecated; Imputer was deprecated in version 0.20 and will be removed in 0.22. Import impute.SimpleImputer from sklearn instead.\n",
      "  warnings.warn(msg, category=DeprecationWarning)\n"
     ]
    }
   ],
   "source": [
    "# step1. Imputation transformer for completing missing values.\n",
    "step1 = ('Imputer', Imputer())\n",
    "# step2. MinMaxScaler\n",
    "step2 = ('MinMaxScaler', MinMaxScaler())\n",
    "# step3. feature selection\n",
    "#step3 = ('FeatureSelection', SelectFromModel(RandomForestRegressor()))\n",
    "step3 = ('FeatureSelection', VarianceThreshold())\n",
    "\n",
    "finally_step = ('model',\n",
    "                XGBRegressor(\n",
    "                    subsample=0.6,\n",
    "                    reg_lambda=1e-5,\n",
    "                    reg_alpha=0.01,\n",
    "                    n_estimators=70000,\n",
    "                    min_child_weight=6,\n",
    "                    max_depth=9,\n",
    "                    learning_rate=0.03,\n",
    "                    gamma=0.03,\n",
    "                    colsample_bytree=0.6,\n",
    "                    tree_method='gpu_hist',\n",
    "                    predictor='gpu_predictor',\n",
    "                )\n",
    "               )\n",
    "parameters_for_testing = {\n",
    "    #'model__colsample_bytree':[0.4,0.6,0.8, 1],\n",
    "    #'model__gamma':[0, 0.1, 0.3, 0.5, 1],\n",
    "    #'model__min_child_weight':[1.5,6,10],\n",
    "    #'model__learning_rate':[0.0001, 0.001, 0.01, 0.1],\n",
    "    'model__max_depth':[3, 6, 9],\n",
    "    'model__n_estimators':[10000, 13000, 15000],\n",
    "    #'model__reg_alpha':[0, 1e-5, 1e-2,  0.75, 1],\n",
    "    #'model__reg_lambda':[0, 1e-5, 1e-2, 0.45, 1],\n",
    "    #'model__subsample':[0.6,0.95]\n",
    "}\n",
    "\n",
    "pipeline = Pipeline(steps=[step1, step2, step3,finally_step])\n",
    "\n",
    "random_search = RandomizedSearchCV(pipeline,\n",
    "                                  parameters_for_testing)\n",
    "\n"
   ]
  },
  {
   "cell_type": "code",
   "execution_count": null,
   "metadata": {},
   "outputs": [
    {
     "name": "stderr",
     "output_type": "stream",
     "text": [
      "/home/islab/anaconda3/lib/python3.6/site-packages/sklearn/utils/deprecation.py:66: DeprecationWarning: Class Imputer is deprecated; Imputer was deprecated in version 0.20 and will be removed in 0.22. Import impute.SimpleImputer from sklearn instead.\n",
      "  warnings.warn(msg, category=DeprecationWarning)\n",
      "/home/islab/anaconda3/lib/python3.6/site-packages/sklearn/model_selection/_search.py:266: UserWarning: The total space of parameters 9 is smaller than n_iter=10. Running 9 iterations. For exhaustive searches, use GridSearchCV.\n",
      "  % (grid_size, self.n_iter, grid_size), UserWarning)\n",
      "/home/islab/anaconda3/lib/python3.6/site-packages/sklearn/utils/deprecation.py:66: DeprecationWarning: Class Imputer is deprecated; Imputer was deprecated in version 0.20 and will be removed in 0.22. Import impute.SimpleImputer from sklearn instead.\n",
      "  warnings.warn(msg, category=DeprecationWarning)\n"
     ]
    },
    {
     "name": "stdout",
     "output_type": "stream",
     "text": [
      "[16:38:45] WARNING: /workspace/src/objective/regression_obj.cu:152: reg:linear is now deprecated in favor of reg:squarederror.\n"
     ]
    }
   ],
   "source": [
    "random_search.fit(X_train, y_train)\n",
    "\n",
    "\n"
   ]
  },
  {
   "cell_type": "code",
   "execution_count": 19,
   "metadata": {
    "scrolled": true
   },
   "outputs": [
    {
     "name": "stdout",
     "output_type": "stream",
     "text": [
      "best params\n",
      "{'model__n_estimators': 15000, 'model__max_depth': 3}\n",
      "best score\n",
      "0.7891135434293891\n"
     ]
    }
   ],
   "source": [
    "print('best params')\n",
    "print (random_search.best_params_)\n",
    "\n",
    "print('best score')\n",
    "print (random_search.best_score_)"
   ]
  },
  {
   "cell_type": "code",
   "execution_count": 50,
   "metadata": {},
   "outputs": [
    {
     "name": "stdout",
     "output_type": "stream",
     "text": [
      "[17:50:15] WARNING: /workspace/src/objective/regression_obj.cu:152: reg:linear is now deprecated in favor of reg:squarederror.\n"
     ]
    },
    {
     "data": {
      "text/plain": [
       "Pipeline(memory=None,\n",
       "         steps=[('Imputer',\n",
       "                 Imputer(axis=0, copy=True, missing_values='NaN',\n",
       "                         strategy='mean', verbose=0)),\n",
       "                ('MinMaxScaler', MinMaxScaler(copy=True, feature_range=(0, 1))),\n",
       "                ('FeatureSelection', VarianceThreshold(threshold=0.0)),\n",
       "                ('model',\n",
       "                 XGBRegressor(base_score=0.5, booster='gbtree',\n",
       "                              colsample_bylevel=1, colsample_bynode=1,\n",
       "                              colsample_bytree=0.6, gamma=0.03,\n",
       "                              importance_type='gain', learning_rate=0.03,\n",
       "                              max_delta_step=0, max_depth=9, min_child_weight=6,\n",
       "                              missing=None, n_estimators=50000, n_jobs=1,\n",
       "                              nthread=None, objective='reg:linear',\n",
       "                              predictor='gpu_predictor', random_state=0,\n",
       "                              reg_alpha=0.01, reg_lambda=1e-05,\n",
       "                              scale_pos_weight=1, seed=None, silent=None,\n",
       "                              subsample=0.6, tree_method='gpu_hist',\n",
       "                              verbosity=1))],\n",
       "         verbose=False)"
      ]
     },
     "execution_count": 50,
     "metadata": {},
     "output_type": "execute_result"
    }
   ],
   "source": [
    "pipeline.fit(X, y)"
   ]
  },
  {
   "cell_type": "markdown",
   "metadata": {},
   "source": [
    "## Train score"
   ]
  },
  {
   "cell_type": "code",
   "execution_count": 51,
   "metadata": {},
   "outputs": [
    {
     "name": "stdout",
     "output_type": "stream",
     "text": [
      "Train score: 0.9999992789294392\n"
     ]
    }
   ],
   "source": [
    "print(f\"Train score: {pipeline.score(X_train, y_train)}\")"
   ]
  },
  {
   "cell_type": "code",
   "execution_count": 52,
   "metadata": {},
   "outputs": [
    {
     "data": {
      "text/plain": [
       "array([1.7912894e+06, 1.7447556e+07, 2.2012128e+06, ..., 3.1421411e+08,\n",
       "       2.5361735e+06, 5.7863000e+06], dtype=float32)"
      ]
     },
     "execution_count": 52,
     "metadata": {},
     "output_type": "execute_result"
    }
   ],
   "source": [
    "y_pred = pipeline.predict(X_train)\n",
    "y_pred"
   ]
  },
  {
   "cell_type": "code",
   "execution_count": 53,
   "metadata": {},
   "outputs": [
    {
     "name": "stdout",
     "output_type": "stream",
     "text": [
      "MSLE =  46193.834159808786\n",
      "VARIANCE_SCORE =  0.9999992789294592\n",
      "R2 0.9999992789294392\n"
     ]
    },
    {
     "data": {
      "text/plain": [
       "'\\nStand score\\nscore 4900\\nMSLE =  194443.66471766977\\nVARIANCE_SCORE =  0.9999872239290039\\nR2 0.9999872239283517\\n'"
      ]
     },
     "execution_count": 53,
     "metadata": {},
     "output_type": "execute_result"
    }
   ],
   "source": [
    "#RMSLE = metrics.mean_squared_log_error(y_eval ,y_pred)\n",
    "VARIANCE_SCORE = metrics.explained_variance_score(y_train, y_pred)\n",
    "MSLE = np.sqrt(metrics.mean_squared_error(y_train, y_pred))\n",
    "r2 = metrics.r2_score(y_train, y_pred)\n",
    "\n",
    "print(\"MSLE = \", MSLE)\n",
    "#print(\"RMSLE = \", RMSLE)\n",
    "print(\"VARIANCE_SCORE = \", VARIANCE_SCORE)\n",
    "print(\"R2\", r2)\n",
    "'''\n",
    "\n",
    "MSLE =  46193.834159808786\n",
    "VARIANCE_SCORE =  0.9999992789294592\n",
    "R2 0.9999992789294392\n",
    "'''"
   ]
  },
  {
   "cell_type": "markdown",
   "metadata": {},
   "source": [
    "## Test score"
   ]
  },
  {
   "cell_type": "code",
   "execution_count": 54,
   "metadata": {},
   "outputs": [
    {
     "name": "stdout",
     "output_type": "stream",
     "text": [
      "Test score: 0.9999997714128004\n"
     ]
    }
   ],
   "source": [
    "print(f\"Test score: {pipeline.score(X_eval, y_eval)}\")"
   ]
  },
  {
   "cell_type": "code",
   "execution_count": 55,
   "metadata": {},
   "outputs": [
    {
     "data": {
      "text/plain": [
       "array([ 6996557. ,  3901263.5,  8995684. , ...,  4327046. , 51768132. ,\n",
       "       19442578. ], dtype=float32)"
      ]
     },
     "execution_count": 55,
     "metadata": {},
     "output_type": "execute_result"
    }
   ],
   "source": [
    "y_pred = pipeline.predict(X_eval)\n",
    "y_pred"
   ]
  },
  {
   "cell_type": "code",
   "execution_count": 56,
   "metadata": {},
   "outputs": [
    {
     "name": "stdout",
     "output_type": "stream",
     "text": [
      "MSLE =  27300.38882949357\n",
      "VARIANCE_SCORE =  0.9999997714168822\n",
      "R2 0.9999997714128004\n"
     ]
    },
    {
     "data": {
      "text/plain": [
       "'\\nStand score\\n4900\\nMSLE =  183452.2622585876\\nVARIANCE_SCORE =  0.9999896781216792\\nR2 0.9999896780824581\\n'"
      ]
     },
     "execution_count": 56,
     "metadata": {},
     "output_type": "execute_result"
    }
   ],
   "source": [
    "#RMSLE = metrics.mean_squared_log_error(y_eval ,y_pred)\n",
    "VARIANCE_SCORE = metrics.explained_variance_score(y_eval, y_pred)\n",
    "MSLE = np.sqrt(metrics.mean_squared_error(y_eval, y_pred))\n",
    "r2 = metrics.r2_score(y_eval, y_pred)\n",
    "\n",
    "print(\"MSLE = \", MSLE)\n",
    "#print(\"RMSLE = \", RMSLE)\n",
    "print(\"VARIANCE_SCORE = \", VARIANCE_SCORE)\n",
    "print(\"R2\", r2)\n",
    "\n",
    "'''\n",
    "MSLE =  27300.38882949357\n",
    "VARIANCE_SCORE =  0.9999997714168822\n",
    "R2 0.9999997714128004\n",
    "\n",
    "'''"
   ]
  },
  {
   "cell_type": "code",
   "execution_count": 42,
   "metadata": {},
   "outputs": [],
   "source": [
    "# save test predictions to file\n",
    "predictions = pipeline.predict(X_test)\n",
    "output = pd.DataFrame({'building_id': X_test.index, 'total_price': predictions})\n",
    "output.to_csv('submission/XGB_predict.csv', index=False)"
   ]
  },
  {
   "cell_type": "code",
   "execution_count": 43,
   "metadata": {},
   "outputs": [
    {
     "data": {
      "text/html": [
       "<div>\n",
       "<style scoped>\n",
       "    .dataframe tbody tr th:only-of-type {\n",
       "        vertical-align: middle;\n",
       "    }\n",
       "\n",
       "    .dataframe tbody tr th {\n",
       "        vertical-align: top;\n",
       "    }\n",
       "\n",
       "    .dataframe thead th {\n",
       "        text-align: right;\n",
       "    }\n",
       "</style>\n",
       "<table border=\"1\" class=\"dataframe\">\n",
       "  <thead>\n",
       "    <tr style=\"text-align: right;\">\n",
       "      <th></th>\n",
       "      <th>building_id</th>\n",
       "      <th>total_price</th>\n",
       "    </tr>\n",
       "  </thead>\n",
       "  <tbody>\n",
       "    <tr>\n",
       "      <th>0</th>\n",
       "      <td>X5gsdTWGS3W7JJQB</td>\n",
       "      <td>1.750296e+07</td>\n",
       "    </tr>\n",
       "    <tr>\n",
       "      <th>1</th>\n",
       "      <td>BTshNOJyKHnT2YIT</td>\n",
       "      <td>3.998176e+06</td>\n",
       "    </tr>\n",
       "    <tr>\n",
       "      <th>2</th>\n",
       "      <td>dhdymr0lV8N5kZOT</td>\n",
       "      <td>9.925700e+06</td>\n",
       "    </tr>\n",
       "    <tr>\n",
       "      <th>3</th>\n",
       "      <td>VEwyGGMcD56w5BOc</td>\n",
       "      <td>3.153856e+06</td>\n",
       "    </tr>\n",
       "    <tr>\n",
       "      <th>4</th>\n",
       "      <td>wmUeMoJZfsqaSX9b</td>\n",
       "      <td>1.178015e+06</td>\n",
       "    </tr>\n",
       "    <tr>\n",
       "      <th>5</th>\n",
       "      <td>EtBjGAHmHCe9t7TZ</td>\n",
       "      <td>3.058054e+06</td>\n",
       "    </tr>\n",
       "    <tr>\n",
       "      <th>6</th>\n",
       "      <td>hPNH34vmaZtvBtqc</td>\n",
       "      <td>1.211725e+07</td>\n",
       "    </tr>\n",
       "    <tr>\n",
       "      <th>7</th>\n",
       "      <td>wXjeI38bYDMJJwZC</td>\n",
       "      <td>6.150866e+06</td>\n",
       "    </tr>\n",
       "    <tr>\n",
       "      <th>8</th>\n",
       "      <td>fxZSGX6aPAFKU8W4</td>\n",
       "      <td>1.591641e+06</td>\n",
       "    </tr>\n",
       "    <tr>\n",
       "      <th>9</th>\n",
       "      <td>ewr0Fx6ign87OwaV</td>\n",
       "      <td>4.395620e+06</td>\n",
       "    </tr>\n",
       "    <tr>\n",
       "      <th>10</th>\n",
       "      <td>gHKurnEP4AowzsLg</td>\n",
       "      <td>8.850262e+05</td>\n",
       "    </tr>\n",
       "    <tr>\n",
       "      <th>11</th>\n",
       "      <td>PmLfTgY2FElLrTl0</td>\n",
       "      <td>4.625330e+06</td>\n",
       "    </tr>\n",
       "    <tr>\n",
       "      <th>12</th>\n",
       "      <td>eM2NppIOwzW0o8iy</td>\n",
       "      <td>1.094457e+07</td>\n",
       "    </tr>\n",
       "    <tr>\n",
       "      <th>13</th>\n",
       "      <td>dxxwNun97NH4WTrZ</td>\n",
       "      <td>3.186476e+06</td>\n",
       "    </tr>\n",
       "    <tr>\n",
       "      <th>14</th>\n",
       "      <td>jykBfhh3vdeFUi3H</td>\n",
       "      <td>4.557012e+06</td>\n",
       "    </tr>\n",
       "    <tr>\n",
       "      <th>15</th>\n",
       "      <td>NlXbvdFfmJZf3L18</td>\n",
       "      <td>2.182274e+07</td>\n",
       "    </tr>\n",
       "    <tr>\n",
       "      <th>16</th>\n",
       "      <td>D7jaFWHCzSqLBwdt</td>\n",
       "      <td>1.004850e+06</td>\n",
       "    </tr>\n",
       "    <tr>\n",
       "      <th>17</th>\n",
       "      <td>L10dBBdqGmemweSl</td>\n",
       "      <td>8.757786e+06</td>\n",
       "    </tr>\n",
       "    <tr>\n",
       "      <th>18</th>\n",
       "      <td>OgB0AdiPKlElakKN</td>\n",
       "      <td>9.368061e+05</td>\n",
       "    </tr>\n",
       "    <tr>\n",
       "      <th>19</th>\n",
       "      <td>StiWNN1GQrpPBOYt</td>\n",
       "      <td>2.780233e+06</td>\n",
       "    </tr>\n",
       "    <tr>\n",
       "      <th>20</th>\n",
       "      <td>a016eMAVQKnfwMnt</td>\n",
       "      <td>1.810959e+07</td>\n",
       "    </tr>\n",
       "    <tr>\n",
       "      <th>21</th>\n",
       "      <td>gsCFcQHnOH3AKMcZ</td>\n",
       "      <td>2.619583e+06</td>\n",
       "    </tr>\n",
       "    <tr>\n",
       "      <th>22</th>\n",
       "      <td>IbNsDXfsPwSuFpow</td>\n",
       "      <td>6.171952e+06</td>\n",
       "    </tr>\n",
       "    <tr>\n",
       "      <th>23</th>\n",
       "      <td>EgAVWOVxD1Jy5YkE</td>\n",
       "      <td>1.106164e+06</td>\n",
       "    </tr>\n",
       "    <tr>\n",
       "      <th>24</th>\n",
       "      <td>BrKghvR76XdbQPnx</td>\n",
       "      <td>6.766359e+06</td>\n",
       "    </tr>\n",
       "    <tr>\n",
       "      <th>25</th>\n",
       "      <td>a7fxkXTnUGWHUmKG</td>\n",
       "      <td>2.082852e+07</td>\n",
       "    </tr>\n",
       "    <tr>\n",
       "      <th>26</th>\n",
       "      <td>WgzXa170DfpzpURE</td>\n",
       "      <td>8.699560e+06</td>\n",
       "    </tr>\n",
       "    <tr>\n",
       "      <th>27</th>\n",
       "      <td>JPWqZbLq0VNC0yKI</td>\n",
       "      <td>1.062055e+07</td>\n",
       "    </tr>\n",
       "    <tr>\n",
       "      <th>28</th>\n",
       "      <td>JQgTtbVstqFZwEK1</td>\n",
       "      <td>5.010781e+05</td>\n",
       "    </tr>\n",
       "    <tr>\n",
       "      <th>29</th>\n",
       "      <td>bCSDbEthlS3nSIor</td>\n",
       "      <td>2.110938e+06</td>\n",
       "    </tr>\n",
       "    <tr>\n",
       "      <th>...</th>\n",
       "      <td>...</td>\n",
       "      <td>...</td>\n",
       "    </tr>\n",
       "    <tr>\n",
       "      <th>9970</th>\n",
       "      <td>QL412tWF5RDIX7IO</td>\n",
       "      <td>2.358047e+06</td>\n",
       "    </tr>\n",
       "    <tr>\n",
       "      <th>9971</th>\n",
       "      <td>d3c2ceGtckONZzsr</td>\n",
       "      <td>8.152054e+06</td>\n",
       "    </tr>\n",
       "    <tr>\n",
       "      <th>9972</th>\n",
       "      <td>P1j8YRbxDAovumaI</td>\n",
       "      <td>8.622192e+06</td>\n",
       "    </tr>\n",
       "    <tr>\n",
       "      <th>9973</th>\n",
       "      <td>IxcBhEoFLcrI9TPr</td>\n",
       "      <td>2.553821e+06</td>\n",
       "    </tr>\n",
       "    <tr>\n",
       "      <th>9974</th>\n",
       "      <td>rKiV0KDbAl2myBQI</td>\n",
       "      <td>1.670846e+06</td>\n",
       "    </tr>\n",
       "    <tr>\n",
       "      <th>9975</th>\n",
       "      <td>GSdIXmKr0g5jQQcF</td>\n",
       "      <td>1.396573e+06</td>\n",
       "    </tr>\n",
       "    <tr>\n",
       "      <th>9976</th>\n",
       "      <td>Am6Wcg3TO64qvzd8</td>\n",
       "      <td>3.200333e+07</td>\n",
       "    </tr>\n",
       "    <tr>\n",
       "      <th>9977</th>\n",
       "      <td>RZqACAhkL4Tgw4Jr</td>\n",
       "      <td>1.024896e+08</td>\n",
       "    </tr>\n",
       "    <tr>\n",
       "      <th>9978</th>\n",
       "      <td>u7NKZfWoMUlZy9rJ</td>\n",
       "      <td>5.605430e+06</td>\n",
       "    </tr>\n",
       "    <tr>\n",
       "      <th>9979</th>\n",
       "      <td>C1BqV4MWH15rjAgz</td>\n",
       "      <td>2.669567e+06</td>\n",
       "    </tr>\n",
       "    <tr>\n",
       "      <th>9980</th>\n",
       "      <td>wz8A2UbwsgR0lXGJ</td>\n",
       "      <td>2.339428e+06</td>\n",
       "    </tr>\n",
       "    <tr>\n",
       "      <th>9981</th>\n",
       "      <td>MGJ8ABBTmC2yIaSm</td>\n",
       "      <td>9.802120e+06</td>\n",
       "    </tr>\n",
       "    <tr>\n",
       "      <th>9982</th>\n",
       "      <td>MjHL2HP1PGIp8aBt</td>\n",
       "      <td>1.381992e+06</td>\n",
       "    </tr>\n",
       "    <tr>\n",
       "      <th>9983</th>\n",
       "      <td>FMz7nnURFn85LaGt</td>\n",
       "      <td>7.583102e+07</td>\n",
       "    </tr>\n",
       "    <tr>\n",
       "      <th>9984</th>\n",
       "      <td>kydULx0r0G7OklRD</td>\n",
       "      <td>8.633234e+06</td>\n",
       "    </tr>\n",
       "    <tr>\n",
       "      <th>9985</th>\n",
       "      <td>nVNYRuk2fRbtlV00</td>\n",
       "      <td>3.270454e+07</td>\n",
       "    </tr>\n",
       "    <tr>\n",
       "      <th>9986</th>\n",
       "      <td>F8SGEOGPxrPfiRv2</td>\n",
       "      <td>4.903096e+05</td>\n",
       "    </tr>\n",
       "    <tr>\n",
       "      <th>9987</th>\n",
       "      <td>w7VMfiMvRb765ejK</td>\n",
       "      <td>3.074854e+07</td>\n",
       "    </tr>\n",
       "    <tr>\n",
       "      <th>9988</th>\n",
       "      <td>lgZWdUKliWt2y5sM</td>\n",
       "      <td>1.385484e+07</td>\n",
       "    </tr>\n",
       "    <tr>\n",
       "      <th>9989</th>\n",
       "      <td>TER8YrP9mw7UwWwr</td>\n",
       "      <td>4.502062e+06</td>\n",
       "    </tr>\n",
       "    <tr>\n",
       "      <th>9990</th>\n",
       "      <td>TXHk3oUpVsm5Cmag</td>\n",
       "      <td>2.938167e+06</td>\n",
       "    </tr>\n",
       "    <tr>\n",
       "      <th>9991</th>\n",
       "      <td>JtgDm9aQcGE9zELB</td>\n",
       "      <td>2.448690e+05</td>\n",
       "    </tr>\n",
       "    <tr>\n",
       "      <th>9992</th>\n",
       "      <td>wTQmcqbN0OCuSF1t</td>\n",
       "      <td>1.270631e+07</td>\n",
       "    </tr>\n",
       "    <tr>\n",
       "      <th>9993</th>\n",
       "      <td>WgsI1cBtzSfiWA1j</td>\n",
       "      <td>1.494113e+07</td>\n",
       "    </tr>\n",
       "    <tr>\n",
       "      <th>9994</th>\n",
       "      <td>qNgt1ajb5uVMKbqm</td>\n",
       "      <td>3.971802e+06</td>\n",
       "    </tr>\n",
       "    <tr>\n",
       "      <th>9995</th>\n",
       "      <td>UEeCDaAJzPwdKKKA</td>\n",
       "      <td>1.556170e+06</td>\n",
       "    </tr>\n",
       "    <tr>\n",
       "      <th>9996</th>\n",
       "      <td>i0fgbPaQsDWs7Q87</td>\n",
       "      <td>4.995250e+07</td>\n",
       "    </tr>\n",
       "    <tr>\n",
       "      <th>9997</th>\n",
       "      <td>YunNwAhcqkf6YclI</td>\n",
       "      <td>1.103708e+06</td>\n",
       "    </tr>\n",
       "    <tr>\n",
       "      <th>9998</th>\n",
       "      <td>A2NotxtRY9MYoWMl</td>\n",
       "      <td>3.258533e+06</td>\n",
       "    </tr>\n",
       "    <tr>\n",
       "      <th>9999</th>\n",
       "      <td>kKvgBXiA50gRmQhP</td>\n",
       "      <td>3.440080e+06</td>\n",
       "    </tr>\n",
       "  </tbody>\n",
       "</table>\n",
       "<p>10000 rows × 2 columns</p>\n",
       "</div>"
      ],
      "text/plain": [
       "           building_id   total_price\n",
       "0     X5gsdTWGS3W7JJQB  1.750296e+07\n",
       "1     BTshNOJyKHnT2YIT  3.998176e+06\n",
       "2     dhdymr0lV8N5kZOT  9.925700e+06\n",
       "3     VEwyGGMcD56w5BOc  3.153856e+06\n",
       "4     wmUeMoJZfsqaSX9b  1.178015e+06\n",
       "5     EtBjGAHmHCe9t7TZ  3.058054e+06\n",
       "6     hPNH34vmaZtvBtqc  1.211725e+07\n",
       "7     wXjeI38bYDMJJwZC  6.150866e+06\n",
       "8     fxZSGX6aPAFKU8W4  1.591641e+06\n",
       "9     ewr0Fx6ign87OwaV  4.395620e+06\n",
       "10    gHKurnEP4AowzsLg  8.850262e+05\n",
       "11    PmLfTgY2FElLrTl0  4.625330e+06\n",
       "12    eM2NppIOwzW0o8iy  1.094457e+07\n",
       "13    dxxwNun97NH4WTrZ  3.186476e+06\n",
       "14    jykBfhh3vdeFUi3H  4.557012e+06\n",
       "15    NlXbvdFfmJZf3L18  2.182274e+07\n",
       "16    D7jaFWHCzSqLBwdt  1.004850e+06\n",
       "17    L10dBBdqGmemweSl  8.757786e+06\n",
       "18    OgB0AdiPKlElakKN  9.368061e+05\n",
       "19    StiWNN1GQrpPBOYt  2.780233e+06\n",
       "20    a016eMAVQKnfwMnt  1.810959e+07\n",
       "21    gsCFcQHnOH3AKMcZ  2.619583e+06\n",
       "22    IbNsDXfsPwSuFpow  6.171952e+06\n",
       "23    EgAVWOVxD1Jy5YkE  1.106164e+06\n",
       "24    BrKghvR76XdbQPnx  6.766359e+06\n",
       "25    a7fxkXTnUGWHUmKG  2.082852e+07\n",
       "26    WgzXa170DfpzpURE  8.699560e+06\n",
       "27    JPWqZbLq0VNC0yKI  1.062055e+07\n",
       "28    JQgTtbVstqFZwEK1  5.010781e+05\n",
       "29    bCSDbEthlS3nSIor  2.110938e+06\n",
       "...                ...           ...\n",
       "9970  QL412tWF5RDIX7IO  2.358047e+06\n",
       "9971  d3c2ceGtckONZzsr  8.152054e+06\n",
       "9972  P1j8YRbxDAovumaI  8.622192e+06\n",
       "9973  IxcBhEoFLcrI9TPr  2.553821e+06\n",
       "9974  rKiV0KDbAl2myBQI  1.670846e+06\n",
       "9975  GSdIXmKr0g5jQQcF  1.396573e+06\n",
       "9976  Am6Wcg3TO64qvzd8  3.200333e+07\n",
       "9977  RZqACAhkL4Tgw4Jr  1.024896e+08\n",
       "9978  u7NKZfWoMUlZy9rJ  5.605430e+06\n",
       "9979  C1BqV4MWH15rjAgz  2.669567e+06\n",
       "9980  wz8A2UbwsgR0lXGJ  2.339428e+06\n",
       "9981  MGJ8ABBTmC2yIaSm  9.802120e+06\n",
       "9982  MjHL2HP1PGIp8aBt  1.381992e+06\n",
       "9983  FMz7nnURFn85LaGt  7.583102e+07\n",
       "9984  kydULx0r0G7OklRD  8.633234e+06\n",
       "9985  nVNYRuk2fRbtlV00  3.270454e+07\n",
       "9986  F8SGEOGPxrPfiRv2  4.903096e+05\n",
       "9987  w7VMfiMvRb765ejK  3.074854e+07\n",
       "9988  lgZWdUKliWt2y5sM  1.385484e+07\n",
       "9989  TER8YrP9mw7UwWwr  4.502062e+06\n",
       "9990  TXHk3oUpVsm5Cmag  2.938167e+06\n",
       "9991  JtgDm9aQcGE9zELB  2.448690e+05\n",
       "9992  wTQmcqbN0OCuSF1t  1.270631e+07\n",
       "9993  WgsI1cBtzSfiWA1j  1.494113e+07\n",
       "9994  qNgt1ajb5uVMKbqm  3.971802e+06\n",
       "9995  UEeCDaAJzPwdKKKA  1.556170e+06\n",
       "9996  i0fgbPaQsDWs7Q87  4.995250e+07\n",
       "9997  YunNwAhcqkf6YclI  1.103708e+06\n",
       "9998  A2NotxtRY9MYoWMl  3.258533e+06\n",
       "9999  kKvgBXiA50gRmQhP  3.440080e+06\n",
       "\n",
       "[10000 rows x 2 columns]"
      ]
     },
     "execution_count": 43,
     "metadata": {},
     "output_type": "execute_result"
    }
   ],
   "source": [
    "output"
   ]
  },
  {
   "cell_type": "code",
   "execution_count": null,
   "metadata": {},
   "outputs": [],
   "source": []
  }
 ],
 "metadata": {
  "kernelspec": {
   "display_name": "Python 3",
   "language": "python",
   "name": "python3"
  },
  "language_info": {
   "codemirror_mode": {
    "name": "ipython",
    "version": 3
   },
   "file_extension": ".py",
   "mimetype": "text/x-python",
   "name": "python",
   "nbconvert_exporter": "python",
   "pygments_lexer": "ipython3",
   "version": "3.6.8"
  }
 },
 "nbformat": 4,
 "nbformat_minor": 2
}
