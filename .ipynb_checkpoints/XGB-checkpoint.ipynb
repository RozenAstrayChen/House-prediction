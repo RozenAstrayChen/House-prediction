{
 "cells": [
  {
   "cell_type": "code",
   "execution_count": 75,
   "metadata": {},
   "outputs": [],
   "source": [
    "import numpy as np # linear algebra\n",
    "import pandas as pd # data processing, CSV file I/O (e.g. pd.read_csv)\n",
    "import os\n",
    "\n",
    "from sklearn.preprocessing import Imputer\n",
    "from sklearn.ensemble import RandomForestRegressor\n",
    "from sklearn.feature_selection import SelectFromModel\n",
    "from sklearn.preprocessing import MinMaxScaler, scale\n",
    "from sklearn.preprocessing import Normalizer\n",
    "from sklearn.pipeline import Pipeline\n",
    "from sklearn.model_selection import GridSearchCV\n",
    "from xgboost import XGBRegressor\n",
    "import sklearn.metrics as metrics\n",
    "from sklearn.metrics import mean_squared_error\n",
    "from sklearn.feature_selection import VarianceThreshold\n",
    "from sklearn.model_selection import train_test_split\n",
    "\n",
    "from warnings import simplefilter\n",
    "simplefilter(action='ignore', category=FutureWarning)"
   ]
  },
  {
   "cell_type": "code",
   "execution_count": 76,
   "metadata": {},
   "outputs": [],
   "source": [
    "X = pd.read_csv('./dataset-0510/train.csv', index_col='building_id')\n",
    "X_test = pd.read_csv('./dataset-0510/test.csv', index_col='building_id')\n",
    "\n",
    "y = X.total_price\n",
    "X.drop(columns=['total_price'], inplace=True)"
   ]
  },
  {
   "cell_type": "code",
   "execution_count": 77,
   "metadata": {},
   "outputs": [],
   "source": [
    "X_train, X_eval, y_train, y_eval = train_test_split(X, y, test_size=0.3, random_state=42) "
   ]
  },
  {
   "cell_type": "code",
   "execution_count": 87,
   "metadata": {},
   "outputs": [
    {
     "name": "stderr",
     "output_type": "stream",
     "text": [
      "/home/islab/anaconda3/lib/python3.6/site-packages/sklearn/utils/deprecation.py:66: DeprecationWarning: Class Imputer is deprecated; Imputer was deprecated in version 0.20 and will be removed in 0.22. Import impute.SimpleImputer from sklearn instead.\n",
      "  warnings.warn(msg, category=DeprecationWarning)\n"
     ]
    },
    {
     "ename": "NameError",
     "evalue": "name 'xgboost' is not defined",
     "output_type": "error",
     "traceback": [
      "\u001b[0;31m---------------------------------------------------------------------------\u001b[0m",
      "\u001b[0;31mNameError\u001b[0m                                 Traceback (most recent call last)",
      "\u001b[0;32m<ipython-input-87-0aff59b4e4d5>\u001b[0m in \u001b[0;36m<module>\u001b[0;34m\u001b[0m\n\u001b[1;32m      7\u001b[0m \u001b[0mstep3\u001b[0m \u001b[0;34m=\u001b[0m \u001b[0;34m(\u001b[0m\u001b[0;34m'FeatureSelection'\u001b[0m\u001b[0;34m,\u001b[0m \u001b[0mVarianceThreshold\u001b[0m\u001b[0;34m(\u001b[0m\u001b[0;34m)\u001b[0m\u001b[0;34m)\u001b[0m\u001b[0;34m\u001b[0m\u001b[0;34m\u001b[0m\u001b[0m\n\u001b[1;32m      8\u001b[0m \u001b[0;34m\u001b[0m\u001b[0m\n\u001b[0;32m----> 9\u001b[0;31m finally_step = ('model', xgboost.XGBRegressor(colsample_bytree=0.4,\n\u001b[0m\u001b[1;32m     10\u001b[0m                  \u001b[0mgamma\u001b[0m\u001b[0;34m=\u001b[0m\u001b[0;36m0\u001b[0m\u001b[0;34m,\u001b[0m\u001b[0;34m\u001b[0m\u001b[0;34m\u001b[0m\u001b[0m\n\u001b[1;32m     11\u001b[0m                  \u001b[0mlearning_rate\u001b[0m\u001b[0;34m=\u001b[0m\u001b[0;36m0.07\u001b[0m\u001b[0;34m,\u001b[0m\u001b[0;34m\u001b[0m\u001b[0;34m\u001b[0m\u001b[0m\n",
      "\u001b[0;31mNameError\u001b[0m: name 'xgboost' is not defined"
     ]
    }
   ],
   "source": [
    "# step1. Imputation transformer for completing missing values.\n",
    "step1 = ('Imputer', Imputer())\n",
    "# step2. MinMaxScaler\n",
    "step2 = ('MinMaxScaler', MinMaxScaler())\n",
    "# step3. feature selection\n",
    "#step3 = ('FeatureSelection', SelectFromModel(RandomForestRegressor()))\n",
    "step3 = ('FeatureSelection', VarianceThreshold())\n",
    "\n",
    "finally_step = ('model', XGBRegressor(colsample_bytree=0.4,\n",
    "                 gamma=0,                 \n",
    "                 learning_rate=0.07,\n",
    "                 max_depth=3,\n",
    "                 min_child_weight=1.5,\n",
    "                 n_estimators=10000,                                                                    \n",
    "                 reg_alpha=0.75,\n",
    "                 reg_lambda=0.45,\n",
    "                 subsample=0.6,\n",
    "                 seed=42) )\n",
    "\n",
    "pipeline = Pipeline(steps=[step1, step2, finally_step])\n",
    "\n",
    "pipeline.fit(X, y)"
   ]
  },
  {
   "cell_type": "markdown",
   "metadata": {},
   "source": [
    "## Train score"
   ]
  },
  {
   "cell_type": "code",
   "execution_count": 79,
   "metadata": {},
   "outputs": [
    {
     "name": "stdout",
     "output_type": "stream",
     "text": [
      "Train score: 0.9489786091577985\n"
     ]
    }
   ],
   "source": [
    "print(f\"Train score: {pipeline.score(X_train, y_train)}\")"
   ]
  },
  {
   "cell_type": "code",
   "execution_count": 80,
   "metadata": {},
   "outputs": [
    {
     "data": {
      "text/plain": [
       "array([1.7855216e+06, 2.5297478e+07, 4.8054390e+06, ..., 2.5968616e+08,\n",
       "       3.2785322e+06, 6.2602040e+06], dtype=float32)"
      ]
     },
     "execution_count": 80,
     "metadata": {},
     "output_type": "execute_result"
    }
   ],
   "source": [
    "y_pred = pipeline.predict(X_train)\n",
    "y_pred"
   ]
  },
  {
   "cell_type": "code",
   "execution_count": 81,
   "metadata": {},
   "outputs": [
    {
     "name": "stdout",
     "output_type": "stream",
     "text": [
      "MSLE =  12287719.108372347\n",
      "VARIANCE_SCORE =  0.9489792836029852\n",
      "R2 0.9489786091577985\n"
     ]
    },
    {
     "data": {
      "text/plain": [
       "'\\nStand score\\n\\nTrain score: 0.9573181748061892\\nMSLE =  11238714.006184377\\nVARIANCE_SCORE =  0.9573181796966825\\nR2 0.9573181748061892\\n'"
      ]
     },
     "execution_count": 81,
     "metadata": {},
     "output_type": "execute_result"
    }
   ],
   "source": [
    "#RMSLE = metrics.mean_squared_log_error(y_eval ,y_pred)\n",
    "VARIANCE_SCORE = metrics.explained_variance_score(y_train, y_pred)\n",
    "MSLE = np.sqrt(metrics.mean_squared_error(y_train, y_pred))\n",
    "r2 = metrics.r2_score(y_train, y_pred)\n",
    "\n",
    "print(\"MSLE = \", MSLE)\n",
    "#print(\"RMSLE = \", RMSLE)\n",
    "print(\"VARIANCE_SCORE = \", VARIANCE_SCORE)\n",
    "print(\"R2\", r2)\n",
    "'''\n",
    "Stand score\n",
    "\n",
    "Train score: 0.9573181748061892\n",
    "MSLE =  11238714.006184377\n",
    "VARIANCE_SCORE =  0.9573181796966825\n",
    "R2 0.9573181748061892\n",
    "'''"
   ]
  },
  {
   "cell_type": "markdown",
   "metadata": {},
   "source": [
    "## Test score"
   ]
  },
  {
   "cell_type": "code",
   "execution_count": 82,
   "metadata": {},
   "outputs": [
    {
     "name": "stdout",
     "output_type": "stream",
     "text": [
      "Test score: 0.9351397740098398\n"
     ]
    }
   ],
   "source": [
    "print(f\"Test score: {pipeline.score(X_eval, y_eval)}\")"
   ]
  },
  {
   "cell_type": "code",
   "execution_count": 83,
   "metadata": {},
   "outputs": [
    {
     "data": {
      "text/plain": [
       "array([ 5809957.5,  5579895. , 14410850. , ...,  3826447. , 45519070. ,\n",
       "       17299886. ], dtype=float32)"
      ]
     },
     "execution_count": 83,
     "metadata": {},
     "output_type": "execute_result"
    }
   ],
   "source": [
    "y_pred = pipeline.predict(X_eval)\n",
    "y_pred"
   ]
  },
  {
   "cell_type": "code",
   "execution_count": 84,
   "metadata": {},
   "outputs": [
    {
     "name": "stdout",
     "output_type": "stream",
     "text": [
      "MSLE =  14542266.786606537\n",
      "VARIANCE_SCORE =  0.9351437787846034\n",
      "R2 0.9351397740098397\n"
     ]
    },
    {
     "data": {
      "text/plain": [
       "'\\nStand score\\n\\nTest score: 0.6710864790042561\\nMSLE =  32747921.6326721\\nVARIANCE_SCORE =  0.6711062838835371\\nR2 0.6710864790042561\\n'"
      ]
     },
     "execution_count": 84,
     "metadata": {},
     "output_type": "execute_result"
    }
   ],
   "source": [
    "#RMSLE = metrics.mean_squared_log_error(y_eval ,y_pred)\n",
    "VARIANCE_SCORE = metrics.explained_variance_score(y_eval, y_pred)\n",
    "MSLE = np.sqrt(metrics.mean_squared_error(y_eval, y_pred))\n",
    "r2 = metrics.r2_score(y_eval, y_pred)\n",
    "\n",
    "print(\"MSLE = \", MSLE)\n",
    "#print(\"RMSLE = \", RMSLE)\n",
    "print(\"VARIANCE_SCORE = \", VARIANCE_SCORE)\n",
    "print(\"R2\", r2)\n",
    "\n",
    "'''\n",
    "Stand score\n",
    "\n",
    "Test score: 0.6710864790042561\n",
    "MSLE =  32747921.6326721\n",
    "VARIANCE_SCORE =  0.6711062838835371\n",
    "R2 0.6710864790042561\n",
    "'''"
   ]
  },
  {
   "cell_type": "code",
   "execution_count": 86,
   "metadata": {},
   "outputs": [],
   "source": [
    "# save test predictions to file\n",
    "predictions = pipeline.predict(X_test)\n",
    "output = pd.DataFrame({'building_id': X_test.index, 'total_price': predictions})\n",
    "output.to_csv('submission/XGB_predict.csv', index=False)"
   ]
  },
  {
   "cell_type": "code",
   "execution_count": null,
   "metadata": {},
   "outputs": [],
   "source": []
  }
 ],
 "metadata": {
  "kernelspec": {
   "display_name": "Python 3",
   "language": "python",
   "name": "python3"
  },
  "language_info": {
   "codemirror_mode": {
    "name": "ipython",
    "version": 3
   },
   "file_extension": ".py",
   "mimetype": "text/x-python",
   "name": "python",
   "nbconvert_exporter": "python",
   "pygments_lexer": "ipython3",
   "version": "3.6.8"
  }
 },
 "nbformat": 4,
 "nbformat_minor": 2
}
