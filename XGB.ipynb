{
 "cells": [
  {
   "cell_type": "code",
   "execution_count": 2,
   "metadata": {},
   "outputs": [],
   "source": [
    "import numpy as np # linear algebra\n",
    "import pandas as pd # data processing, CSV file I/O (e.g. pd.read_csv)\n",
    "import os\n",
    "\n",
    "from sklearn.preprocessing import Imputer\n",
    "from sklearn.ensemble import RandomForestRegressor\n",
    "from sklearn.feature_selection import SelectFromModel\n",
    "from sklearn.preprocessing import MinMaxScaler, scale\n",
    "from sklearn.preprocessing import Normalizer\n",
    "from sklearn.pipeline import Pipeline\n",
    "from sklearn.model_selection import GridSearchCV\n",
    "import xgboost\n",
    "from xgboost import XGBRegressor\n",
    "import sklearn.metrics as metrics\n",
    "from sklearn.metrics import mean_squared_error\n",
    "from sklearn.feature_selection import VarianceThreshold\n",
    "from sklearn.model_selection import train_test_split\n",
    "\n",
    "from warnings import simplefilter\n",
    "simplefilter(action='ignore', category=FutureWarning)"
   ]
  },
  {
   "cell_type": "code",
   "execution_count": 3,
   "metadata": {},
   "outputs": [],
   "source": [
    "X = pd.read_csv('./dataset-0510/train.csv', index_col='building_id')\n",
    "X_test = pd.read_csv('./dataset-0510/test.csv', index_col='building_id')\n",
    "\n",
    "y = X.total_price\n",
    "X.drop(columns=['total_price'], inplace=True)"
   ]
  },
  {
   "cell_type": "code",
   "execution_count": 4,
   "metadata": {},
   "outputs": [],
   "source": [
    "X_train, X_eval, y_train, y_eval = train_test_split(X, y, test_size=0.3, random_state=42) "
   ]
  },
  {
   "cell_type": "code",
   "execution_count": 5,
   "metadata": {},
   "outputs": [
    {
     "name": "stderr",
     "output_type": "stream",
     "text": [
      "/home/islab/anaconda3/lib/python3.6/site-packages/sklearn/utils/deprecation.py:66: DeprecationWarning: Class Imputer is deprecated; Imputer was deprecated in version 0.20 and will be removed in 0.22. Import impute.SimpleImputer from sklearn instead.\n",
      "  warnings.warn(msg, category=DeprecationWarning)\n"
     ]
    },
    {
     "data": {
      "text/plain": [
       "Pipeline(memory=None,\n",
       "         steps=[('Imputer',\n",
       "                 Imputer(axis=0, copy=True, missing_values='NaN',\n",
       "                         strategy='mean', verbose=0)),\n",
       "                ('MinMaxScaler', MinMaxScaler(copy=True, feature_range=(0, 1))),\n",
       "                ('model',\n",
       "                 XGBRegressor(base_score=0.5, booster='dart',\n",
       "                              colsample_bylevel=1, colsample_bynode=1,\n",
       "                              colsample_bytree=0.4, gamma=0,\n",
       "                              importance_type='gain', learning_rate=0.07,\n",
       "                              max_delta_step=0, max_depth=3,\n",
       "                              min_child_weight=1.5, missing=None,\n",
       "                              n_estimators=500, n_jobs=1, nthread=None,\n",
       "                              objective='reg:squarederror',\n",
       "                              predictor='gpu_predictor', random_state=0,\n",
       "                              reg_alpha=0.75, reg_lambda=0.45,\n",
       "                              scale_pos_weight=1, seed=42, silent=None,\n",
       "                              subsample=0.6, tree_method='gpu_hist',\n",
       "                              verbosity=1))],\n",
       "         verbose=False)"
      ]
     },
     "execution_count": 5,
     "metadata": {},
     "output_type": "execute_result"
    }
   ],
   "source": [
    "# step1. Imputation transformer for completing missing values.\n",
    "step1 = ('Imputer', Imputer())\n",
    "# step2. MinMaxScaler\n",
    "step2 = ('MinMaxScaler', MinMaxScaler())\n",
    "# step3. feature selection\n",
    "#step3 = ('FeatureSelection', SelectFromModel(RandomForestRegressor()))\n",
    "step3 = ('FeatureSelection', VarianceThreshold())\n",
    "\n",
    "finally_step = ('model',\n",
    "                XGBRegressor(\n",
    "                    booster=\"dart\",\n",
    "                    colsample_bytree=0.4,\n",
    "                    gamma=0,\n",
    "                    learning_rate=0.07,\n",
    "                    max_depth=3,\n",
    "                    min_child_weight=1.5,\n",
    "                    n_estimators=500,                                                                    \n",
    "                    reg_alpha=0.75,\n",
    "                    reg_lambda=0.45,\n",
    "                    subsample=0.6,\n",
    "                    seed=42,\n",
    "                    objective=\"reg:squarederror\",\n",
    "                    tree_method='gpu_hist',\n",
    "                    predictor='gpu_predictor',\n",
    "                )\n",
    "               )\n",
    "\n",
    "pipeline = Pipeline(steps=[step1, step2, finally_step])\n",
    "\n",
    "pipeline.fit(X_train, y_train)"
   ]
  },
  {
   "cell_type": "markdown",
   "metadata": {},
   "source": [
    "## Train score"
   ]
  },
  {
   "cell_type": "code",
   "execution_count": 6,
   "metadata": {},
   "outputs": [
    {
     "name": "stdout",
     "output_type": "stream",
     "text": [
      "Train score: 0.9722496110460049\n"
     ]
    }
   ],
   "source": [
    "print(f\"Train score: {pipeline.score(X_train, y_train)}\")"
   ]
  },
  {
   "cell_type": "code",
   "execution_count": 7,
   "metadata": {},
   "outputs": [
    {
     "data": {
      "text/plain": [
       "array([ 1.4180815e+06,  1.5595130e+07,  4.9857880e+06, ...,\n",
       "        2.8399824e+08,  2.3922288e+06, -3.6853469e+05], dtype=float32)"
      ]
     },
     "execution_count": 7,
     "metadata": {},
     "output_type": "execute_result"
    }
   ],
   "source": [
    "y_pred = pipeline.predict(X_train)\n",
    "y_pred"
   ]
  },
  {
   "cell_type": "code",
   "execution_count": 8,
   "metadata": {},
   "outputs": [
    {
     "name": "stdout",
     "output_type": "stream",
     "text": [
      "MSLE =  9062117.014496123\n",
      "VARIANCE_SCORE =  0.972249617429596\n",
      "R2 0.9722496110460049\n"
     ]
    },
    {
     "data": {
      "text/plain": [
       "'\\nStand score\\n\\nTrain score: 0.9573181748061892\\nMSLE =  11238714.006184377\\nVARIANCE_SCORE =  0.9573181796966825\\nR2 0.9573181748061892\\n'"
      ]
     },
     "execution_count": 8,
     "metadata": {},
     "output_type": "execute_result"
    }
   ],
   "source": [
    "#RMSLE = metrics.mean_squared_log_error(y_eval ,y_pred)\n",
    "VARIANCE_SCORE = metrics.explained_variance_score(y_train, y_pred)\n",
    "MSLE = np.sqrt(metrics.mean_squared_error(y_train, y_pred))\n",
    "r2 = metrics.r2_score(y_train, y_pred)\n",
    "\n",
    "print(\"MSLE = \", MSLE)\n",
    "#print(\"RMSLE = \", RMSLE)\n",
    "print(\"VARIANCE_SCORE = \", VARIANCE_SCORE)\n",
    "print(\"R2\", r2)\n",
    "'''\n",
    "Stand score\n",
    "\n",
    "Train score: 0.9573181748061892\n",
    "MSLE =  11238714.006184377\n",
    "VARIANCE_SCORE =  0.9573181796966825\n",
    "R2 0.9573181748061892\n",
    "'''"
   ]
  },
  {
   "cell_type": "markdown",
   "metadata": {},
   "source": [
    "## Test score"
   ]
  },
  {
   "cell_type": "code",
   "execution_count": 9,
   "metadata": {},
   "outputs": [
    {
     "name": "stdout",
     "output_type": "stream",
     "text": [
      "Test score: 0.7555002700005814\n"
     ]
    }
   ],
   "source": [
    "print(f\"Test score: {pipeline.score(X_eval, y_eval)}\")"
   ]
  },
  {
   "cell_type": "code",
   "execution_count": 10,
   "metadata": {},
   "outputs": [
    {
     "data": {
      "text/plain": [
       "array([ 6297347.5,  3711377. , 12150800. , ...,  6103431. , 43476030. ,\n",
       "       20158032. ], dtype=float32)"
      ]
     },
     "execution_count": 10,
     "metadata": {},
     "output_type": "execute_result"
    }
   ],
   "source": [
    "y_pred = pipeline.predict(X_eval)\n",
    "y_pred"
   ]
  },
  {
   "cell_type": "code",
   "execution_count": 11,
   "metadata": {},
   "outputs": [
    {
     "name": "stdout",
     "output_type": "stream",
     "text": [
      "MSLE =  28234628.05164699\n",
      "VARIANCE_SCORE =  0.7555296262830761\n",
      "R2 0.7555002700005814\n"
     ]
    },
    {
     "data": {
      "text/plain": [
       "'\\nStand score\\n\\nTest score: 0.6710864790042561\\nMSLE =  32747921.6326721\\nVARIANCE_SCORE =  0.6711062838835371\\nR2 0.6710864790042561\\n'"
      ]
     },
     "execution_count": 11,
     "metadata": {},
     "output_type": "execute_result"
    }
   ],
   "source": [
    "#RMSLE = metrics.mean_squared_log_error(y_eval ,y_pred)\n",
    "VARIANCE_SCORE = metrics.explained_variance_score(y_eval, y_pred)\n",
    "MSLE = np.sqrt(metrics.mean_squared_error(y_eval, y_pred))\n",
    "r2 = metrics.r2_score(y_eval, y_pred)\n",
    "\n",
    "print(\"MSLE = \", MSLE)\n",
    "#print(\"RMSLE = \", RMSLE)\n",
    "print(\"VARIANCE_SCORE = \", VARIANCE_SCORE)\n",
    "print(\"R2\", r2)\n",
    "\n",
    "'''\n",
    "Stand score\n",
    "\n",
    "Test score: 0.6710864790042561\n",
    "MSLE =  32747921.6326721\n",
    "VARIANCE_SCORE =  0.6711062838835371\n",
    "R2 0.6710864790042561\n",
    "'''"
   ]
  },
  {
   "cell_type": "code",
   "execution_count": 98,
   "metadata": {},
   "outputs": [],
   "source": [
    "# save test predictions to file\n",
    "predictions = pipeline.predict(X_test)\n",
    "output = pd.DataFrame({'building_id': X_test.index, 'total_price': predictions})\n",
    "output.to_csv('submission/XGB_predict.csv', index=False)"
   ]
  },
  {
   "cell_type": "code",
   "execution_count": null,
   "metadata": {},
   "outputs": [],
   "source": [
    "output"
   ]
  }
 ],
 "metadata": {
  "kernelspec": {
   "display_name": "Python 3",
   "language": "python",
   "name": "python3"
  },
  "language_info": {
   "codemirror_mode": {
    "name": "ipython",
    "version": 3
   },
   "file_extension": ".py",
   "mimetype": "text/x-python",
   "name": "python",
   "nbconvert_exporter": "python",
   "pygments_lexer": "ipython3",
   "version": "3.6.8"
  }
 },
 "nbformat": 4,
 "nbformat_minor": 2
}
